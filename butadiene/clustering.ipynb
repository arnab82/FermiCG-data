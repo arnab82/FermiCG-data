{
 "cells": [
  {
   "cell_type": "code",
   "execution_count": 1,
   "id": "af8e43db-34fe-404f-87d7-a8bbb4939143",
   "metadata": {},
   "outputs": [
    {
     "name": "stderr",
     "output_type": "stream",
     "text": [
      "\u001b[32m\u001b[1m  Activating\u001b[22m\u001b[39m project at `~/code/FermiCG`\n"
     ]
    },
    {
     "data": {
      "text/plain": [
       "14-element Vector{String}:\n",
       " \".ipynb_checkpoints\"\n",
       " \".scf.py.swp\"\n",
       " \"Cact.molden\"\n",
       " \"clustering.ipynb\"\n",
       " \"density_mat.npy\"\n",
       " \"geometry.xyz\"\n",
       " \"integrals_h0.npy\"\n",
       " \"integrals_h1.npy\"\n",
       " \"integrals_h2.npy\"\n",
       " \"mo_coeffs_act.npy\"\n",
       " \"mo_coeffs_doc.npy\"\n",
       " \"overlap_mat.npy\"\n",
       " \"scf.out\"\n",
       " \"scf.py\""
      ]
     },
     "execution_count": 1,
     "metadata": {},
     "output_type": "execute_result"
    }
   ],
   "source": [
    "pwd()\n",
    "using Pkg; Pkg.activate(\"../../FermiCG/\")\n",
    "using FermiCG, NPZ, JLD2\n",
    "using Plots\n",
    "\n",
    "readdir()"
   ]
  },
  {
   "cell_type": "code",
   "execution_count": 2,
   "id": "31efabd5-0ec9-4d12-9306-dc498a6ad986",
   "metadata": {},
   "outputs": [],
   "source": [
    "#load integrals from disk\n",
    "ints = InCoreInts(\n",
    "    npzread(\"integrals_h0.npy\"), \n",
    "    npzread(\"integrals_h1.npy\"), \n",
    "    npzread(\"integrals_h2.npy\") \n",
    ");\n",
    "C = npzread(\"mo_coeffs_act.npy\")\n",
    "S = npzread(\"overlap_mat.npy\");\n",
    "D = npzread(\"density_mat.npy\");\n"
   ]
  },
  {
   "cell_type": "code",
   "execution_count": 16,
   "id": "d1a1b918-6976-4fbf-b63c-54caab3e9c42",
   "metadata": {},
   "outputs": [
    {
     "name": "stdout",
     "output_type": "stream",
     "text": [
      " Laplacian Eigenvalues\n",
      "    1   0.00000000\n",
      "    2   0.20965414\n",
      "    3   0.57003540\n",
      "    4   0.60015130\n"
     ]
    }
   ],
   "source": [
    "using LinearAlgebra, Printf\n",
    "using Clustering\n",
    "using SpectralClustering\n",
    "using Random\n",
    "Random.seed!(2)\n",
    "\n",
    "function cluster_orbitals(A, n_clusters)\n",
    "    \"\"\"\n",
    "    A is adjacency matrix\n",
    "    \"\"\"\n",
    "    \n",
    "    L = Diagonal([sum(A[i,:]) for i in 1:size(A,1)]) - A;\n",
    "    F = eigen(L);\n",
    "    perm = sortperm(F.values, by=abs)\n",
    "    F.values .= F.values[perm]\n",
    "    F.vectors .= F.vectors[:,perm]\n",
    "\n",
    "    print(\" Laplacian Eigenvalues\\n\")\n",
    "    for (fi_idx, fi) in enumerate(F.values)\n",
    "        @printf(\" %4i %12.8f\\n\", fi_idx, fi)\n",
    "    end\n",
    "    \n",
    "    p1 = plot(F.values)\n",
    "    \n",
    "    A = abs.(F.vectors[:,1:n_clusters]*F.vectors[:,1:n_clusters]')\n",
    "    p2 = heatmap(abs.(A), aspect_ratio=:equal, title=\"Projector\", yflip = true)\n",
    "    \n",
    "    clustering = clusterize(KMeansClusterizer(n_clusters), A).assignments;\n",
    "\n",
    "    perm = sortperm(clustering)\n",
    "    p3 = heatmap(abs.(A[perm,perm]), aspect_ratio=:equal, title=\"Projector\", yflip = true)\n",
    "\n",
    "    clusters = [ [] for i in 1:n_clusters]\n",
    "    for (idx,i) in enumerate(clustering)\n",
    "        push!(clusters[i],idx)\n",
    "    end\n",
    "\n",
    "    plot(p1, p2, p3, layout = @layout [a; b c])\n",
    "\n",
    "    return perm, clusters\n",
    "end\n",
    "\n",
    "n_clusters = 2\n",
    "adjacency = abs.(C'*D*C)\n",
    "perm, cluster_list = cluster_orbitals(adjacency, n_clusters)\n",
    "\n",
    "    \n",
    "p1 = heatmap(adjacency, aspect_ratio=:equal, title=\"Adjacency\", yflip = true) \n",
    "p2 = heatmap(adjacency[perm, perm], aspect_ratio=:equal, title=\"Adjacency (sorted)\", yflip = true) \n",
    "\n",
    "\n",
    "plot(p1, p2, layout = @layout [a b])\n",
    "\n",
    "ints_sorted = deepcopy(ints)\n",
    "ints_sorted.h1 .= ints.h1[perm,perm]\n",
    "ints_sorted.h2 .= ints.h2[perm,perm,perm,perm];"
   ]
  },
  {
   "cell_type": "code",
   "execution_count": 17,
   "id": "1a79edb4-7186-4444-a6de-cc1bddcbf725",
   "metadata": {},
   "outputs": [
    {
     "data": {
      "text/plain": [
       "2-element Vector{Cluster}:\n",
       " Cluster(1, [1, 3])\n",
       " Cluster(2, [2, 4])"
      ]
     },
     "metadata": {},
     "output_type": "display_data"
    }
   ],
   "source": [
    "# define clusters\n",
    "clusters = [Cluster(i,collect(cluster_list[i])) for i = 1:length(cluster_list)]\n",
    "init_fspace = [ (1,1) for i in 1:n_clusters]\n",
    "display(clusters)\n"
   ]
  },
  {
   "cell_type": "code",
   "execution_count": 18,
   "id": "c6c78f42-b730-489d-8a3d-c209e518afcf",
   "metadata": {},
   "outputs": [
    {
     "name": "stdout",
     "output_type": "stream",
     "text": [
      " ooCMF Iter:    1 Total= -154.585166114790 Active=  -2.929168027221 G=     2.84e-03\n",
      " ooCMF Iter:    2 Total= -154.585174583845 Active=  -2.929176496276 G=     4.63e-04\n",
      " ooCMF Iter:    3 Total= -154.585174724027 Active=  -2.929176636457 G=     3.97e-05\n",
      " ooCMF Iter:    4 Total= -154.585174725560 Active=  -2.929176637991 G=     1.31e-06\n"
     ]
    },
    {
     "data": {
      "text/plain": [
       " * Status: success\n",
       "\n",
       " * Candidate solution\n",
       "    Final objective value:     -1.545852e+02\n",
       "\n",
       " * Found with\n",
       "    Algorithm:     BFGS\n",
       "\n",
       " * Convergence measures\n",
       "    |x - x'|               = 2.36e-06 ≰ 0.0e+00\n",
       "    |x - x'|/|x'|          = 4.59e-04 ≰ 0.0e+00\n",
       "    |f(x) - f(x')|         = 1.88e-12 ≰ 0.0e+00\n",
       "    |f(x) - f(x')|/|f(x')| = 1.21e-14 ≰ 0.0e+00\n",
       "    |g(x)|                 = 1.15e-08 ≤ 1.0e-06\n",
       "\n",
       " * Work counters\n",
       "    Seconds run:   0  (vs limit Inf)\n",
       "    Iterations:    4\n",
       "    f(x) calls:    13\n",
       "    ∇f(x) calls:   13\n"
      ]
     },
     "metadata": {},
     "output_type": "display_data"
    },
    {
     "name": "stdout",
     "output_type": "stream",
     "text": [
      "*ooCMF Iter:    5 Total= -154.585174725562 Active=  -2.929176637993 G=     1.37e-08\n",
      "*ooCMF -154.58517473 \n"
     ]
    }
   ],
   "source": [
    "rdm1 = C'*D*C\n",
    "\n",
    "e_cmf, U, Da, Db  = FermiCG.cmf_oo(ints_sorted, clusters, init_fspace, rdm1, rdm1,\n",
    "                                        max_iter_oo=50, verbose=0, gconv=1e-6, method=\"bfgs\");\n"
   ]
  },
  {
   "cell_type": "code",
   "execution_count": 19,
   "id": "a4b83186-1d3a-4e0f-b52b-e9c2e4a51037",
   "metadata": {},
   "outputs": [],
   "source": [
    "# FermiCG.pyscf_write_molden(mol,C_cmf,filename=\"benzene_10mer_cmf.molden\");\n",
    "ints_cmf = FermiCG.orbital_rotation(ints,U);"
   ]
  },
  {
   "cell_type": "markdown",
   "id": "cfdee066-d1c5-4b3c-b738-b075db33fdb3",
   "metadata": {},
   "source": [
    "# TPSCI with PM orbitals"
   ]
  },
  {
   "cell_type": "code",
   "execution_count": 20,
   "id": "9e5e36af-4288-4ca9-be06-03b0727d5f04",
   "metadata": {},
   "outputs": [
    {
     "name": "stdout",
     "output_type": "stream",
     "text": [
      " Remove duplicates\n",
      " Number of terms reduced from    62 to    34\n"
     ]
    }
   ],
   "source": [
    "max_roots = 100\n",
    "\n",
    "#\n",
    "# Build Cluster basis\n",
    "cluster_bases = FermiCG.compute_cluster_eigenbasis(ints, clusters, verbose=0, max_roots=max_roots,\n",
    "        init_fspace=init_fspace, rdm1a=Da, rdm1b=Db);\n",
    "#\n",
    "# Build ClusteredOperator\n",
    "clustered_ham = FermiCG.extract_ClusteredTerms(ints, clusters);\n",
    "\n",
    "#\n",
    "# Build Cluster Operators\n",
    "cluster_ops = FermiCG.compute_cluster_ops(cluster_bases, ints);\n",
    "\n",
    "#\n",
    "# Add cmf hamiltonians for doing MP-style PT2 \n",
    "FermiCG.add_cmf_operators!(cluster_ops, cluster_bases, ints, Da, Db, verbose=0);\n"
   ]
  },
  {
   "cell_type": "code",
   "execution_count": 21,
   "id": "d4cc8136-9821-4e68-bb51-3fb3e8fde557",
   "metadata": {},
   "outputs": [
    {
     "name": "stdout",
     "output_type": "stream",
     "text": [
      " --------------------------------------------------\n",
      " ---------- Fockspaces in state ------: Dim =     1  \n",
      " ----------                root ------:     =     1  \n",
      " --------------------------------------------------\n",
      " Printing contributions greater than: 0.001000\n",
      " Weight              # Configs           Fock space(α,β)...  \n",
      " -------             ---------           ----------          \n",
      " --------------------------------------------------\n"
     ]
    }
   ],
   "source": [
    "nroots = 1\n",
    "ci_vector = FermiCG.TPSCIstate(clusters, FermiCG.FockConfig(init_fspace), R=nroots);\n",
    "display(ci_vector)"
   ]
  },
  {
   "cell_type": "code",
   "execution_count": 22,
   "id": "7c7c1b6c-9fbb-4bec-9655-05fa44091d53",
   "metadata": {
    "tags": []
   },
   "outputs": [
    {
     "name": "stdout",
     "output_type": "stream",
     "text": [
      " ci_vector     : (1, 1)\n",
      " thresh_cipsi  : 0.001\n",
      " thresh_foi    : 1.0e-5\n",
      " thresh_asci   : 0.01\n",
      " thresh_var    : -1.0\n",
      " max_iter      : 10\n",
      " conv_thresh   : 0.0001\n",
      " nbody         : 4\n",
      " incremental   : true\n",
      " ci_conv       : 1.0e-5\n",
      " ci_max_iter   : 50\n",
      " ci_max_ss_vecs: 12\n",
      " davidson      : false\n",
      " max_mem_ci    : 20.0\n",
      " matvec        : 3\n",
      "\n",
      "\n",
      " ===================================================================\n",
      "     Selected CI Iteration:    1 epsilon:   0.00100000\n",
      " ===================================================================\n",
      " Memory needed to hold full CI matrix:   0.00000001 (Gb)\n",
      "\n",
      " |== Tensor Product State CI =======================================\n",
      " Hamiltonian matrix dimension =     1: \n",
      " Build full Hamiltonian matrix with dimension:       0.001789 seconds (203 allocations: 12.625 KiB)\n",
      " Diagonalize: \n",
      "                                      0.000006 seconds (4 allocations: 224 bytes)\n",
      " Compute S2 expectation values:                      0.000848 seconds (356 allocations: 25.062 KiB)\n",
      "  Root       Energy           S2\n",
      "     1  -3.26446048   0.00000000\n",
      " ==================================================================|\n",
      " Length of ASCI vector        1 →        1 \n",
      " Norm of delta v:\n",
      "   1.00000000\n",
      " In open_matvec_thread2\n",
      " Setup threaded jobs:                                0.000010 seconds (27 allocations: 1.547 KiB)\n",
      " Number of jobs:    9\n",
      " Number of threads: 24\n",
      " Compute matrix-vector:                              0.000781 seconds (709 allocations: 38.875 KiB)\n",
      " Now collect thread results:                         0.000176 seconds (192 allocations: 13.578 KiB)\n",
      " Length of FOIS vector: 36\n",
      " Compute diagonal:                                   0.000068 seconds (545 allocations: 8.969 KiB)\n",
      "\n",
      "  Root         E(0)         E(2)\n",
      "     1  -3.26446048          Inf\n",
      " Length of PT1  vector       36 →       23 \n",
      " TPSCI Iter 1   Dim: 1      E(var):   -3.26446048 \n",
      "\n",
      "\n",
      " ===================================================================\n",
      "     Selected CI Iteration:    2 epsilon:   0.00100000\n",
      " ===================================================================\n",
      " Clip values < -1.0e+00              1 →      1\n",
      " Add pt vector to current space      1 →     23\n",
      " Memory needed to hold full CI matrix:   0.00000423 (Gb)\n",
      "\n",
      " |== Tensor Product State CI =======================================\n",
      " Hamiltonian matrix dimension =    23: \n",
      " Fill old/old Hamiltonian:                           0.000005 seconds (2 allocations: 128 bytes)\n",
      " Build old/new Hamiltonian matrix with dimension:    0.003273 seconds (1.26 k allocations: 29.375 KiB)\n",
      " Build new/new Hamiltonian matrix with dimension:    0.003754 seconds (9.05 k allocations: 162.312 KiB)\n",
      " Now diagonalize\n",
      " Iter:   1 SS: 1    E:   -3.26446048   R: 1.1e-01   LinDep: 1.0e+00* \n",
      " Iter:   2 SS: 2    E:   -3.29383375   R: 3.3e-02   LinDep: 1.0e+00* \n",
      " Iter:   3 SS: 3    E:   -3.29671934   R: 1.6e-02   LinDep: 1.0e+00* \n",
      " Iter:   4 SS: 4    E:   -3.29718980   R: 3.1e-03   LinDep: 1.0e+00* \n",
      " Iter:   5 SS: 5    E:   -3.29720106   R: 3.5e-04   LinDep: 1.0e+00* \n",
      " Iter:   6 SS: 6    E:   -3.29720118   R: 4.2e-05   LinDep: 1.0e+00* \n",
      " Iter:   7 SS: 7    E:   -3.29720119   R: 1.1e-05   LinDep: 1.0e+00* \n",
      " Iter:   8 SS: 8    E:   -3.29720119*  R: 1.3e-06*  LinDep: 1.0e+00* \n",
      " Diagonalization time:                               0.089121 seconds\n",
      " Compute S2 expectation values:                      0.203563 seconds (3.92 k allocations: 96.812 KiB)\n",
      "  Root       Energy           S2\n",
      "     1  -3.29720119   0.00000000\n",
      " ==================================================================|\n",
      " Length of ASCI vector       23 →       21 \n",
      " Norm of delta v:\n",
      "   0.29793289\n",
      " In open_matvec_thread2\n",
      " Setup threaded jobs:                                0.000019 seconds (77 allocations: 3.531 KiB)\n",
      " Number of jobs:    9\n",
      " Number of threads: 24\n",
      " Compute matrix-vector:                              0.003256 seconds (6.10 k allocations: 211.984 KiB)\n",
      " Now collect thread results:                         0.000244 seconds (92 allocations: 8.016 KiB)\n",
      " Length of FOIS vector: 36\n",
      " Compute diagonal:                                   0.000144 seconds (545 allocations: 8.969 KiB)\n",
      "\n",
      "  Root         E(0)         E(2)\n",
      "     1  -3.29720119  -4.86065712\n",
      " Length of PT1  vector       36 →       29 \n",
      " TPSCI Iter 2   Dim: 23     E(var):   -3.29720119 \n",
      "\n",
      "\n",
      " ===================================================================\n",
      "     Selected CI Iteration:    3 epsilon:   0.00100000\n",
      " ===================================================================\n",
      " Clip values < -1.0e+00             23 →     23\n",
      " Add pt vector to current space     23 →     29\n",
      " Memory needed to hold full CI matrix:   0.00000673 (Gb)\n",
      "\n",
      " |== Tensor Product State CI =======================================\n",
      " Hamiltonian matrix dimension =    29: \n",
      " Fill old/old Hamiltonian:                           0.000023 seconds (2 allocations: 480 bytes)\n",
      " Build old/new Hamiltonian matrix with dimension:    0.001381 seconds (6.05 k allocations: 110.078 KiB)\n",
      " Build new/new Hamiltonian matrix with dimension:    0.001176 seconds (999 allocations: 26.344 KiB)\n",
      " Now diagonalize\n",
      " Iter:   1 SS: 1    E:   -3.29720119   R: 1.3e-02   LinDep: 1.0e+00* \n",
      " Iter:   2 SS: 2    E:   -3.29733473   R: 2.0e-03   LinDep: 1.0e+00* \n",
      " Iter:   3 SS: 3    E:   -3.29734015   R: 6.5e-04   LinDep: 1.0e+00* \n",
      " Iter:   4 SS: 4    E:   -3.29734073   R: 1.5e-04   LinDep: 1.0e+00* \n",
      " Iter:   5 SS: 5    E:   -3.29734075   R: 3.9e-05   LinDep: 1.0e+00* \n",
      " Iter:   6 SS: 6    E:   -3.29734075*  R: 8.4e-06*  LinDep: 1.0e+00* \n",
      " Diagonalization time:                               0.019149 seconds\n",
      " Compute S2 expectation values:                      0.003665 seconds (5.57 k allocations: 127.859 KiB)\n",
      "  Root       Energy           S2\n",
      "     1  -3.29734075   0.00000000\n",
      " ==================================================================|\n",
      " Length of ASCI vector       29 →       21 \n",
      " Norm of delta v:\n",
      "   0.00280284\n",
      " In open_matvec_thread2\n",
      " Setup threaded jobs:                                0.000123 seconds (76 allocations: 3.500 KiB)\n",
      " Number of jobs:    9\n",
      " Number of threads: 24\n",
      " Compute matrix-vector:                              0.004683 seconds (6.11 k allocations: 212.078 KiB)\n",
      " Now collect thread results:                         0.000081 seconds (92 allocations: 8.016 KiB)\n",
      " Length of FOIS vector: 36\n",
      " Compute diagonal:                                   0.000186 seconds (545 allocations: 8.969 KiB)\n",
      "\n",
      "  Root         E(0)         E(2)\n",
      "     1  -3.29734075  -3.29749401\n",
      " Length of PT1  vector       36 →       22 \n",
      " TPSCI Iter 3   Dim: 29     E(var):   -3.29734075 \n",
      "\n",
      "\n",
      " ===================================================================\n",
      "     Selected CI Iteration:    4 epsilon:   0.00100000\n",
      " ===================================================================\n",
      " Clip values < -1.0e+00             29 →     29\n",
      " Add pt vector to current space     29 →     29\n",
      " Memory needed to hold full CI matrix:   0.00000673 (Gb)\n",
      "\n",
      " |== Tensor Product State CI =======================================\n",
      " Hamiltonian matrix dimension =    29: \n",
      " Fill old/old Hamiltonian:                           0.000016 seconds (2 allocations: 576 bytes)\n",
      " Build old/new Hamiltonian matrix with dimension:    0.001612 seconds (365 allocations: 20.203 KiB)\n",
      " Build new/new Hamiltonian matrix with dimension:    0.000889 seconds (130 allocations: 11.156 KiB)\n",
      " Now diagonalize\n",
      " Iter:   1 SS: 1    E:   -3.29734075*  R: 8.4e-06*  LinDep: 1.0e+00* \n",
      " Diagonalization time:                               0.002919 seconds\n",
      " Compute S2 expectation values:                      0.001966 seconds (5.50 k allocations: 124.797 KiB)\n",
      "  Root       Energy           S2\n",
      "     1  -3.29734075   0.00000000\n",
      " ==================================================================|\n",
      " Length of ASCI vector       29 →       21 \n",
      " Norm of delta v:\n",
      "   0.00000000\n",
      " In open_matvec_thread2\n",
      " Setup threaded jobs:                                0.000027 seconds (77 allocations: 3.531 KiB)\n",
      " Number of jobs:    9\n",
      " Number of threads: 24\n",
      " Compute matrix-vector:                              0.001876 seconds (6.04 k allocations: 208.344 KiB)\n",
      " Now collect thread results:                         0.000053 seconds (16 allocations: 2.062 KiB)\n",
      " Length of FOIS vector: 36\n",
      " Compute diagonal:                                   0.000168 seconds (545 allocations: 8.969 KiB)\n",
      "\n",
      "  Root         E(0)         E(2)\n",
      "     1  -3.29734075  -3.29744353\n",
      " Length of PT1  vector       36 →        8 \n",
      "*TPSCI Iter 4   Dim: 29     E(var):   -3.29734075 \n"
     ]
    }
   ],
   "source": [
    "e0, v0 = FermiCG.tpsci_ci(ci_vector, cluster_ops, clustered_ham,\n",
    "                            thresh_cipsi=1e-3, # Threshold for adding to P-space\n",
    "                            thresh_foi=1e-5,    # Threshold for keeping terms when defining FOIS    \n",
    "                            thresh_asci=1e-2,     # Threshold of P-space configs to search from\n",
    "                            max_iter=10,\n",
    "                            matvec=3);"
   ]
  },
  {
   "cell_type": "code",
   "execution_count": 10,
   "id": "081eeb68-40cd-44af-9485-3b5c81baa1a9",
   "metadata": {},
   "outputs": [
    {
     "data": {
      "text/plain": [
       "-154.95333862914578"
      ]
     },
     "execution_count": 10,
     "metadata": {},
     "output_type": "execute_result"
    }
   ],
   "source": [
    "e0[1]+ints.h0"
   ]
  },
  {
   "cell_type": "markdown",
   "id": "93f56da1-9e61-4c8e-a3af-3a64a5187c55",
   "metadata": {},
   "source": [
    "# TPSCI with CMF orbitals"
   ]
  },
  {
   "cell_type": "code",
   "execution_count": 11,
   "id": "89b4c36b-cdb0-46c5-8d23-d67d7d341309",
   "metadata": {},
   "outputs": [
    {
     "name": "stdout",
     "output_type": "stream",
     "text": [
      " Remove duplicates\n",
      " Number of terms reduced from    62 to    34\n"
     ]
    }
   ],
   "source": [
    "max_roots = 100\n",
    "\n",
    "#\n",
    "# Build Cluster basis\n",
    "cluster_bases = FermiCG.compute_cluster_eigenbasis(ints_cmf, clusters, verbose=0, max_roots=max_roots,\n",
    "        init_fspace=init_fspace, rdm1a=Da, rdm1b=Db);\n",
    "#\n",
    "# Build ClusteredOperator\n",
    "clustered_ham = FermiCG.extract_ClusteredTerms(ints_cmf, clusters);\n",
    "\n",
    "#\n",
    "# Build Cluster Operators\n",
    "cluster_ops = FermiCG.compute_cluster_ops(cluster_bases, ints_cmf);\n",
    "\n",
    "#\n",
    "# Add cmf hamiltonians for doing MP-style PT2 \n",
    "FermiCG.add_cmf_operators!(cluster_ops, cluster_bases, ints, Da, Db, verbose=0);\n"
   ]
  },
  {
   "cell_type": "code",
   "execution_count": 12,
   "id": "0463e447-3ab5-4360-b045-343b46b09b2e",
   "metadata": {},
   "outputs": [
    {
     "name": "stdout",
     "output_type": "stream",
     "text": [
      " --------------------------------------------------\n",
      " ---------- Fockspaces in state ------: Dim =     1  \n",
      " ----------                root ------:     =     1  \n",
      " --------------------------------------------------\n",
      " Printing contributions greater than: 0.001000\n",
      " Weight              # Configs           Fock space(α,β)...  \n",
      " -------             ---------           ----------          \n",
      " --------------------------------------------------\n"
     ]
    }
   ],
   "source": [
    "nroots = 1\n",
    "ci_vector = FermiCG.TPSCIstate(clusters, FermiCG.FockConfig(init_fspace), R=nroots);\n",
    "display(ci_vector)"
   ]
  },
  {
   "cell_type": "code",
   "execution_count": 13,
   "id": "bb0dcadb-ed1e-4b29-b40b-214eb85efe98",
   "metadata": {
    "collapsed": true,
    "jupyter": {
     "outputs_hidden": true
    },
    "tags": []
   },
   "outputs": [
    {
     "name": "stdout",
     "output_type": "stream",
     "text": [
      " ci_vector     : (1, 1)\n",
      " thresh_cipsi  : 0.001\n",
      " thresh_foi    : 1.0e-5\n",
      " thresh_asci   : 0.01\n",
      " thresh_var    : -1.0\n",
      " max_iter      : 10\n",
      " conv_thresh   : 0.0001\n",
      " nbody         : 4\n",
      " incremental   : true\n",
      " ci_conv       : 1.0e-5\n",
      " ci_max_iter   : 50\n",
      " ci_max_ss_vecs: 12\n",
      " davidson      : false\n",
      " max_mem_ci    : 20.0\n",
      " matvec        : 3\n",
      "\n",
      "\n",
      " ===================================================================\n",
      "     Selected CI Iteration:    1 epsilon:   0.00100000\n",
      " ===================================================================\n",
      " Memory needed to hold full CI matrix:   0.00000001 (Gb)\n",
      "\n",
      " |== Tensor Product State CI =======================================\n",
      " Hamiltonian matrix dimension =     1: \n",
      " Build full Hamiltonian matrix with dimension:       0.005898 seconds (203 allocations: 12.625 KiB)\n",
      " Diagonalize: \n",
      "                                      0.000005 seconds (4 allocations: 224 bytes)\n",
      " Compute S2 expectation values:                      0.016561 seconds (349 allocations: 24.844 KiB)\n",
      "  Root       Energy           S2\n",
      "     1  -3.29322014   0.00000000\n",
      " ==================================================================|\n",
      " Length of ASCI vector        1 →        1 \n",
      " Norm of delta v:\n",
      "   1.00000000\n",
      " In open_matvec_thread2\n",
      " Setup threaded jobs:                                0.000010 seconds (27 allocations: 1.547 KiB)\n",
      " Number of jobs:    9\n",
      " Number of threads: 24\n",
      " Compute matrix-vector:                              0.000419 seconds (708 allocations: 38.578 KiB)\n",
      " Now collect thread results:                         0.000126 seconds (192 allocations: 13.578 KiB)\n",
      " Length of FOIS vector: 36\n",
      " Compute diagonal:                                   0.000063 seconds (545 allocations: 8.969 KiB)\n",
      "\n",
      "  Root         E(0)         E(2)\n",
      "     1  -3.29322014          Inf\n",
      " Length of PT1  vector       36 →       19 \n",
      " TPSCI Iter 1   Dim: 1      E(var):   -3.29322014 \n",
      "\n",
      "\n",
      " ===================================================================\n",
      "     Selected CI Iteration:    2 epsilon:   0.00100000\n",
      " ===================================================================\n",
      " Clip values < -1.0e+00              1 →      1\n",
      " Add pt vector to current space      1 →     19\n",
      " Memory needed to hold full CI matrix:   0.00000289 (Gb)\n",
      "\n",
      " |== Tensor Product State CI =======================================\n",
      " Hamiltonian matrix dimension =    19: \n",
      " Fill old/old Hamiltonian:                           0.000003 seconds (2 allocations: 128 bytes)\n",
      " Build old/new Hamiltonian matrix with dimension:    0.003090 seconds (948 allocations: 24.406 KiB)\n",
      " Build new/new Hamiltonian matrix with dimension:    0.001935 seconds (5.60 k allocations: 105.156 KiB)\n",
      " Now diagonalize\n",
      " Iter:   1 SS: 1    E:   -3.29322014   R: 4.6e-02   LinDep: 1.0e+00* \n",
      " Iter:   2 SS: 2    E:   -3.29637238   R: 1.7e-02   LinDep: 1.0e+00* \n",
      " Iter:   3 SS: 3    E:   -3.29687271   R: 9.2e-03   LinDep: 1.0e+00* \n",
      " Iter:   4 SS: 4    E:   -3.29696479   R: 1.6e-03   LinDep: 1.0e+00* \n",
      " Iter:   5 SS: 5    E:   -3.29696819   R: 5.1e-05   LinDep: 1.0e+00* \n",
      " Iter:   6 SS: 6    E:   -3.29696819   R: 1.2e-05   LinDep: 1.0e+00* \n",
      " Iter:   7 SS: 7    E:   -3.29696819*  R: 1.6e-06*  LinDep: 1.0e+00* \n",
      " Diagonalization time:                               0.019451 seconds\n",
      " Compute S2 expectation values:                      0.003325 seconds (2.51 k allocations: 72.031 KiB)\n",
      "  Root       Energy           S2\n",
      "     1  -3.29696819   0.00000000\n",
      " ==================================================================|\n",
      " Length of ASCI vector       19 →       12 \n",
      " Norm of delta v:\n",
      "   0.08565314\n",
      " In open_matvec_thread2\n",
      " Setup threaded jobs:                                0.000030 seconds (76 allocations: 3.500 KiB)\n",
      " Number of jobs:    9\n",
      " Number of threads: 24\n",
      " Compute matrix-vector:                              0.012168 seconds (3.88 k allocations: 153.016 KiB)\n",
      " Now collect thread results:                         0.000100 seconds (145 allocations: 11.891 KiB)\n",
      " Length of FOIS vector: 36\n",
      " Compute diagonal:                                   0.000088 seconds (545 allocations: 8.969 KiB)\n",
      "\n",
      "  Root         E(0)         E(2)\n",
      "     1  -3.29696819  -3.43713955\n",
      " Length of PT1  vector       36 →       26 \n",
      " TPSCI Iter 2   Dim: 19     E(var):   -3.29696819 \n",
      "\n",
      "\n",
      " ===================================================================\n",
      "     Selected CI Iteration:    3 epsilon:   0.00100000\n",
      " ===================================================================\n",
      " Clip values < -1.0e+00             19 →     19\n",
      " Add pt vector to current space     19 →     26\n",
      " Memory needed to hold full CI matrix:   0.00000541 (Gb)\n",
      "\n",
      " |== Tensor Product State CI =======================================\n",
      " Hamiltonian matrix dimension =    26: \n",
      " Fill old/old Hamiltonian:                           0.000015 seconds (2 allocations: 416 bytes)\n",
      " Build old/new Hamiltonian matrix with dimension:    0.001477 seconds (5.08 k allocations: 94.078 KiB)\n",
      " Build new/new Hamiltonian matrix with dimension:    0.001777 seconds (1.55 k allocations: 35.203 KiB)\n",
      " Now diagonalize\n",
      " Iter:   1 SS: 1    E:   -3.29696819   R: 1.3e-02   LinDep: 1.0e+00* \n",
      " Iter:   2 SS: 2    E:   -3.29728017   R: 4.9e-03   LinDep: 1.0e+00* \n",
      " Iter:   3 SS: 3    E:   -3.29732523   R: 3.0e-03   LinDep: 1.0e+00* \n",
      " Iter:   4 SS: 4    E:   -3.29733805   R: 1.1e-03   LinDep: 1.0e+00* \n",
      " Iter:   5 SS: 5    E:   -3.29733971   R: 2.1e-04   LinDep: 1.0e+00* \n",
      " Iter:   6 SS: 6    E:   -3.29733977   R: 6.0e-05   LinDep: 1.0e+00* \n",
      " Iter:   7 SS: 7    E:   -3.29733977   R: 1.9e-05   LinDep: 1.0e+00* \n",
      " Iter:   8 SS: 8    E:   -3.29733977*  R: 2.7e-06*  LinDep: 1.0e+00* \n",
      " Diagonalization time:                               0.025659 seconds\n",
      " Compute S2 expectation values:                      0.279765 seconds (4.36 k allocations: 106.188 KiB)\n",
      "  Root       Energy           S2\n",
      "     1  -3.29733977   0.00000000\n",
      " ==================================================================|\n",
      " Length of ASCI vector       26 →       18 \n",
      " Norm of delta v:\n",
      "   0.03352493\n",
      " In open_matvec_thread2\n",
      " Setup threaded jobs:                                0.000025 seconds (89 allocations: 4.203 KiB)\n",
      " Number of jobs:    9\n",
      " Number of threads: 24\n",
      " Compute matrix-vector:                              0.002350 seconds (5.39 k allocations: 201.422 KiB)\n",
      " Now collect thread results:                         0.000067 seconds (103 allocations: 8.203 KiB)\n",
      " Length of FOIS vector: 36\n",
      " Compute diagonal:                                   0.000093 seconds (545 allocations: 8.969 KiB)\n",
      "\n",
      "  Root         E(0)         E(2)\n",
      "     1  -3.29733977  -3.31322301\n",
      " Length of PT1  vector       36 →       26 \n",
      " TPSCI Iter 3   Dim: 26     E(var):   -3.29733977 \n",
      "\n",
      "\n",
      " ===================================================================\n",
      "     Selected CI Iteration:    4 epsilon:   0.00100000\n",
      " ===================================================================\n",
      " Clip values < -1.0e+00             26 →     26\n",
      " Add pt vector to current space     26 →     26\n",
      " Memory needed to hold full CI matrix:   0.00000541 (Gb)\n",
      "\n",
      " |== Tensor Product State CI =======================================\n",
      " Hamiltonian matrix dimension =    26: \n",
      " Fill old/old Hamiltonian:                           0.000023 seconds (2 allocations: 544 bytes)\n",
      " Build old/new Hamiltonian matrix with dimension:    0.002279 seconds (337 allocations: 19.188 KiB)\n",
      " Build new/new Hamiltonian matrix with dimension:    0.000566 seconds (127 allocations: 11.062 KiB)\n",
      " Now diagonalize\n",
      " Iter:   1 SS: 1    E:   -3.29733977*  R: 2.7e-06*  LinDep: 1.0e+00* \n",
      " Diagonalization time:                               0.006319 seconds\n",
      " Compute S2 expectation values:                      0.229708 seconds (4.32 k allocations: 104.656 KiB)\n",
      "  Root       Energy           S2\n",
      "     1  -3.29733977   0.00000000\n",
      " ==================================================================|\n",
      " Length of ASCI vector       26 →       18 \n",
      " Norm of delta v:\n",
      "   0.00000000\n",
      " In open_matvec_thread2\n",
      " Setup threaded jobs:                                0.000029 seconds (89 allocations: 4.203 KiB)\n",
      " Number of jobs:    9\n",
      " Number of threads: 24\n",
      " Compute matrix-vector:                              0.002188 seconds (5.32 k allocations: 197.781 KiB)\n",
      " Now collect thread results:                         0.000012 seconds\n",
      " Length of FOIS vector: 36\n",
      " Compute diagonal:                                   0.000206 seconds (545 allocations: 8.969 KiB)\n",
      "\n",
      "  Root         E(0)         E(2)\n",
      "     1  -3.29733977  -3.29763395\n",
      " Length of PT1  vector       36 →        8 \n",
      "*TPSCI Iter 4   Dim: 26     E(var):   -3.29733977 \n"
     ]
    }
   ],
   "source": [
    "e0, v0 = FermiCG.tpsci_ci(ci_vector, cluster_ops, clustered_ham,\n",
    "                            thresh_cipsi=1e-3, # Threshold for adding to P-space\n",
    "                            thresh_foi=1e-5,    # Threshold for keeping terms when defining FOIS    \n",
    "                            thresh_asci=1e-2,     # Threshold of P-space configs to search from\n",
    "                            max_iter=10,\n",
    "                            matvec=3);"
   ]
  },
  {
   "cell_type": "code",
   "execution_count": 14,
   "id": "508e2071-f50d-42f0-b997-75951f168682",
   "metadata": {},
   "outputs": [
    {
     "data": {
      "text/plain": [
       "-154.95333786241065"
      ]
     },
     "execution_count": 14,
     "metadata": {},
     "output_type": "execute_result"
    }
   ],
   "source": [
    "e0[1]+ints.h0"
   ]
  },
  {
   "cell_type": "code",
   "execution_count": null,
   "id": "736bb4f6-86df-40d8-a7ae-8ded7c2e0104",
   "metadata": {},
   "outputs": [],
   "source": []
  }
 ],
 "metadata": {
  "kernelspec": {
   "display_name": "Julia 1.7.2",
   "language": "julia",
   "name": "julia-1.7"
  },
  "language_info": {
   "file_extension": ".jl",
   "mimetype": "application/julia",
   "name": "julia",
   "version": "1.7.2"
  }
 },
 "nbformat": 4,
 "nbformat_minor": 5
}
