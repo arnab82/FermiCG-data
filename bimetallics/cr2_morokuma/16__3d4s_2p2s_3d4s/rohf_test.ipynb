{
 "cells": [
  {
   "cell_type": "code",
   "execution_count": 123,
   "id": "872297e4-9d52-4b71-981b-9849bfa969ff",
   "metadata": {},
   "outputs": [],
   "source": [
    "import pyscf\n",
    "import pyscf.tools"
   ]
  },
  {
   "cell_type": "code",
   "execution_count": 124,
   "id": "38a92200-02bd-4e3d-8a8b-39cae17e095c",
   "metadata": {},
   "outputs": [],
   "source": [
    "molecule = \"\"\"\n",
    "H 0.0 0.0 0.0\n",
    "H 2.0 0.0 0.0\n",
    "H 4.0 0.0 0.0\n",
    "He 0.0 2.0 0.0\n",
    "He 2.0 2.0 0.0\n",
    "He 4.0 2.0 0.0\n",
    "\"\"\""
   ]
  },
  {
   "cell_type": "code",
   "execution_count": 125,
   "id": "45633353-ae0c-47b2-ae89-8d9a66039cd9",
   "metadata": {
    "tags": []
   },
   "outputs": [
    {
     "name": "stdout",
     "output_type": "stream",
     "text": [
      "symmetry:  C2v\n"
     ]
    }
   ],
   "source": [
    "basis = \"def2-svp\"\n",
    "pymol = pyscf.gto.Mole(\n",
    "        atom    =   molecule,\n",
    "        symmetry=   True,\n",
    "        spin    =   0, # number of unpaired electrons\n",
    "        charge  =   1,\n",
    "        basis   =   basis)\n",
    "\n",
    "\n",
    "pymol.build()\n",
    "print(\"symmetry: \",pymol.topgroup)\n",
    "# mf = pyscf.scf.UHF(pymol).x2c()\n",
    "mf = pyscf.scf.ROHF(pymol)\n",
    "mf.verbose = 4\n",
    "mf.conv_tol = 1e-8\n",
    "mf.conv_tol_grad = 1e-5\n",
    "mf.chkfile = \"scf.fchk\"\n",
    "mf.init_guess = \"sad\"\n"
   ]
  },
  {
   "cell_type": "code",
   "execution_count": 126,
   "id": "398f646b",
   "metadata": {},
   "outputs": [
    {
     "name": "stdout",
     "output_type": "stream",
     "text": [
      "\n",
      "\n",
      "******** <class 'pyscf.scf.hf_symm.SymAdaptedROHF'> ********\n",
      "method = SymAdaptedROHF-ROHF-RHF\n",
      "initial guess = sad\n",
      "damping factor = 0\n",
      "level_shift factor = 0\n",
      "DIIS = <class 'pyscf.scf.diis.CDIIS'>\n",
      "diis_start_cycle = 1\n",
      "diis_space = 8\n",
      "SCF conv_tol = 1e-08\n",
      "SCF conv_tol_grad = 1e-05\n",
      "SCF max_cycles = 200\n",
      "direct_scf = True\n",
      "direct_scf_tol = 1e-13\n",
      "chkfile to save SCF result = scf.fchk\n",
      "max_memory 4000 MB (current use 0 MB)\n",
      "num. doubly occ = 4  num. singly occ = 0\n",
      "init E= -9.59006737893433\n",
      "HOMO (A1) = -0.271010029950973  LUMO (B1) = -0.174829424666389\n",
      "cycle= 1 E= -9.55065996713398  delta_E= 0.0394  |g|= 0.0971  |ddm|= 0.706\n",
      "HOMO (A1) = -0.640579004468074  LUMO (B1) = -0.388545403180567\n",
      "cycle= 2 E= -9.55413802628591  delta_E= -0.00348  |g|= 0.0144  |ddm|= 0.0907\n",
      "HOMO (A1) = -0.634454764428176  LUMO (B1) = -0.382589401618681\n",
      "cycle= 3 E= -9.55423338261332  delta_E= -9.54e-05  |g|= 0.00104  |ddm|= 0.0199\n",
      "HOMO (A1) = -0.634546076728867  LUMO (B1) = -0.382418234191235\n",
      "cycle= 4 E= -9.55423412891879  delta_E= -7.46e-07  |g|= 0.000159  |ddm|= 0.00194\n",
      "HOMO (A1) = -0.634493034864132  LUMO (B1) = -0.382405976011112\n",
      "cycle= 5 E= -9.55423414415923  delta_E= -1.52e-08  |g|= 1.09e-05  |ddm|= 0.000292\n",
      "HOMO (A1) = -0.634497476912232  LUMO (B1) = -0.382409286552956\n",
      "cycle= 6 E= -9.5542341442343  delta_E= -7.51e-11  |g|= 8.97e-07  |ddm|= 1.28e-05\n",
      "HOMO (A1) = -0.634497582967061  LUMO (B1) = -0.382409381314479\n",
      "Extra cycle  E= -9.55423414423475  delta_E= -4.48e-13  |g|= 2.18e-07  |ddm|= 9.54e-07\n",
      "converged SCF energy = -9.55423414423475\n",
      " Hartree-Fock Energy:  -9.55423414\n"
     ]
    }
   ],
   "source": [
    "\n",
    "mf.run(max_cycle=200)\n",
    "\n",
    "print(\" Hartree-Fock Energy: %12.8f\" % mf.e_tot)\n",
    "# mf.analyze()"
   ]
  },
  {
   "cell_type": "code",
   "execution_count": 127,
   "id": "e4358a91-3329-4260-ad48-a9696651d9da",
   "metadata": {},
   "outputs": [],
   "source": [
    "F = mf.get_fock()"
   ]
  },
  {
   "cell_type": "code",
   "execution_count": 128,
   "id": "3bc8b61e-6809-4ebf-8d95-22a907d8115c",
   "metadata": {
    "tags": []
   },
   "outputs": [],
   "source": [
    "import numpy as np\n",
    "import scipy\n",
    "import copy as cp\n",
    "import math\n",
    "\n",
    "\n",
    "def sym_ortho(frags, S, thresh=1e-8):\n",
    "    \"\"\"\n",
    "    frags is a list of mo-coeff matrices\n",
    "    \"\"\"\n",
    "    Nbas = S.shape[1]\n",
    "    \n",
    "    inds = []\n",
    "    Cnonorth = np.hstack(frags)\n",
    "    shift = 0\n",
    "    for f in frags:\n",
    "        inds.append(list(range(shift, shift+f.shape[1])))\n",
    "        shift += f.shape[1]\n",
    "        \n",
    "    \n",
    "    Smo = Cnonorth.T @ S @ Cnonorth\n",
    "    X = np.linalg.inv(scipy.linalg.sqrtm(Smo))\n",
    "    # print(Cnonorth.shape, X.shape)\n",
    "    Corth = Cnonorth @ X\n",
    "    \n",
    "    frags2 = []\n",
    "    for f in inds:\n",
    "        frags2.append(Corth[:,f])\n",
    "    return frags2\n"
   ]
  },
  {
   "cell_type": "code",
   "execution_count": 129,
   "id": "188b17eb-9fbe-492e-aad8-7e36688be0d3",
   "metadata": {},
   "outputs": [
    {
     "name": "stdout",
     "output_type": "stream",
     "text": [
      "[[0, 5, 10], [15], [20]]\n"
     ]
    }
   ],
   "source": [
    "import scipy\n",
    "\n",
    "# Find AO's corresponding to atoms \n",
    "# print(mf.mol.aoslice_by_atom())\n",
    "# print(mf.mol.ao_labels(fmt=False, base=0))\n",
    "full = []\n",
    "frag1 = []\n",
    "frag2 = []\n",
    "frag3 = []\n",
    "for ao_idx,ao in enumerate(mf.mol.ao_labels(fmt=False)):\n",
    "    if ao[0] in (0, 1, 2):\n",
    "        if ao[2] in (\"1s\",):\n",
    "            frag1.append(ao_idx)\n",
    "            full.append(ao_idx)\n",
    "    elif ao[0] == 3:\n",
    "        if ao[2] in (\"1s\", ):\n",
    "            frag2.append(ao_idx)\n",
    "            full.append(ao_idx)\n",
    "    elif ao[0] == 4:\n",
    "        if ao[2] in (\"1s\", ):\n",
    "            frag3.append(ao_idx)\n",
    "            full.append(ao_idx)\n",
    "\n",
    "\n",
    "frags = [frag1, frag2, frag3]\n",
    "print(frags)\n",
    "\n"
   ]
  },
  {
   "cell_type": "code",
   "execution_count": 130,
   "metadata": {},
   "outputs": [
    {
     "name": "stdout",
     "output_type": "stream",
     "text": [
      "4 0 26\n",
      "(30, 4)\n",
      "(30, 0)\n",
      "(30, 26)\n",
      " Doubly Occupied\n",
      " Frag:  [0, 5, 10, 15, 20]\n",
      "Singular Values\n",
      "    0 :   0.74675406\n",
      "    1 :   0.72695476\n",
      "    2 :   0.63653102\n",
      "    3 :   0.02574556\n",
      " Doubly Unoccupied\n",
      " Frag:  [0, 5, 10, 15, 20]\n",
      "Singular Values\n",
      "    0 :   1.00000000\n",
      "    1 :   0.99966853\n",
      "    2 :   0.77125110\n",
      "    3 :   0.68668535\n",
      "    4 :   0.66510028\n",
      "\n",
      "WARN: orbitals [0 1 2 3] not symmetrized, norm = [0.82026767 0.70500688 0.97632373 0.50159828]\n",
      "\n",
      "\n",
      "WARN: orbitals [ 0  1  2  3  4  5  6  7  8 11 12 13 15 16 17 21 22 24 25] not symmetrized, norm = [0.69556154 0.6954474  0.98576044 0.70819559 0.80001774 0.51967413\n",
      " 0.8244385  0.99738305 0.98006682 0.907534   0.91281353 0.91888369\n",
      " 0.93857589 0.9989632  0.9896431  0.98332105 0.99822076 0.99006086\n",
      " 0.98163334]\n",
      "\n"
     ]
    }
   ],
   "source": [
    "def svd_orbs(C, frag, S, thresh=1e-7, verbose=2):\n",
    "    print(\" Frag: \", frag)\n",
    "    X = scipy.linalg.sqrtm(S)\n",
    "    Cfrag = X@C\n",
    "    \n",
    "    _,s,V = np.linalg.svd(Cfrag[frag,:], full_matrices=True)\n",
    "    print(\"Singular Values\")\n",
    "    for i in range(len(s)):\n",
    "        print(\" %4i : %12.8f\" %(i, s[i]))\n",
    "    return C @ V.T\n",
    "\n",
    "C = mf.mo_coeff\n",
    "S = mf.get_ovlp()\n",
    "ndocc = mf.nelec[1]\n",
    "nsing = mf.nelec[0] - ndocc\n",
    "nvirt = mf.mol.nao - ndocc - nsing\n",
    "# Just use alpha orbitals\n",
    "Cdocc = mf.mo_coeff[:,0:ndocc]\n",
    "Csing = mf.mo_coeff[:,ndocc:ndocc+nsing]\n",
    "Cvirt = mf.mo_coeff[:,ndocc+nsing:ndocc+nsing+nvirt]\n",
    "print(ndocc, nsing, nvirt)\n",
    "print(Cdocc.shape)\n",
    "print(Csing.shape)\n",
    "print(Cvirt.shape)\n",
    "\n",
    "print(\" Doubly Occupied\")\n",
    "Cdocc = svd_orbs(Cdocc, full, S)\n",
    "print(\" Doubly Unoccupied\")\n",
    "Cvirt = svd_orbs(Cvirt, full, S)\n",
    "\n",
    "# Ctmp = rmv_svd_orbs(Csing, full, S)\n",
    "\n",
    "pyscf.tools.molden.from_mo(mf.mol, \"Cdocc.molden\", Cdocc)\n",
    "pyscf.tools.molden.from_mo(mf.mol, \"Cvirt.molden\", Cvirt)\n",
    "# pyscf.tools.molden.from_mo(mf.mol, \"Ctmp.molden\", Ctmp)"
   ]
  },
  {
   "cell_type": "code",
   "execution_count": 172,
   "id": "2bc23859",
   "metadata": {},
   "outputs": [
    {
     "ename": "NameError",
     "evalue": "name 'spade_partitioning' is not defined",
     "output_type": "error",
     "traceback": [
      "\u001b[0;31m---------------------------------------------------------------------------\u001b[0m",
      "\u001b[0;31mNameError\u001b[0m                                 Traceback (most recent call last)",
      "\u001b[0;32m<ipython-input-172-81cba0d79d7e>\u001b[0m in \u001b[0;36m<module>\u001b[0;34m\u001b[0m\n\u001b[1;32m      7\u001b[0m \u001b[0mP3\u001b[0m \u001b[0;34m=\u001b[0m \u001b[0mnp\u001b[0m\u001b[0;34m.\u001b[0m\u001b[0meye\u001b[0m\u001b[0;34m(\u001b[0m\u001b[0mnbas\u001b[0m\u001b[0;34m)\u001b[0m\u001b[0;34m[\u001b[0m\u001b[0;34m:\u001b[0m\u001b[0;34m,\u001b[0m\u001b[0mfrag3\u001b[0m\u001b[0;34m]\u001b[0m\u001b[0;34m\u001b[0m\u001b[0;34m\u001b[0m\u001b[0m\n\u001b[1;32m      8\u001b[0m \u001b[0;34m\u001b[0m\u001b[0m\n\u001b[0;32m----> 9\u001b[0;31m \u001b[0mO1\u001b[0m\u001b[0;34m,\u001b[0m \u001b[0mV1\u001b[0m \u001b[0;34m=\u001b[0m \u001b[0mspade_partitioning\u001b[0m\u001b[0;34m(\u001b[0m\u001b[0mCdocc\u001b[0m\u001b[0;34m,\u001b[0m \u001b[0mCvirt\u001b[0m\u001b[0;34m,\u001b[0m \u001b[0mP1\u001b[0m\u001b[0;34m,\u001b[0m \u001b[0mS\u001b[0m\u001b[0;34m)\u001b[0m\u001b[0;34m\u001b[0m\u001b[0;34m\u001b[0m\u001b[0m\n\u001b[0m\u001b[1;32m     10\u001b[0m \u001b[0mO2\u001b[0m\u001b[0;34m,\u001b[0m \u001b[0mV2\u001b[0m \u001b[0;34m=\u001b[0m \u001b[0mspade_partitioning\u001b[0m\u001b[0;34m(\u001b[0m\u001b[0mCdocc\u001b[0m\u001b[0;34m,\u001b[0m \u001b[0mCvirt\u001b[0m\u001b[0;34m,\u001b[0m \u001b[0mP2\u001b[0m\u001b[0;34m,\u001b[0m \u001b[0mS\u001b[0m\u001b[0;34m)\u001b[0m\u001b[0;34m\u001b[0m\u001b[0;34m\u001b[0m\u001b[0m\n\u001b[1;32m     11\u001b[0m \u001b[0mO3\u001b[0m\u001b[0;34m,\u001b[0m \u001b[0mV3\u001b[0m \u001b[0;34m=\u001b[0m \u001b[0mspade_partitioning\u001b[0m\u001b[0;34m(\u001b[0m\u001b[0mCdocc\u001b[0m\u001b[0;34m,\u001b[0m \u001b[0mCvirt\u001b[0m\u001b[0;34m,\u001b[0m \u001b[0mP3\u001b[0m\u001b[0;34m,\u001b[0m \u001b[0mS\u001b[0m\u001b[0;34m)\u001b[0m\u001b[0;34m\u001b[0m\u001b[0;34m\u001b[0m\u001b[0m\n",
      "\u001b[0;31mNameError\u001b[0m: name 'spade_partitioning' is not defined"
     ]
    }
   ],
   "source": [
    "import spade_clustering\n",
    "from spade_clustering import *\n",
    "\n",
    "nbas = Cdocc.shape[0]\n",
    "\n",
    "P1 = np.eye(nbas)[:,frag1] \n",
    "P2 = np.eye(nbas)[:,frag2] \n",
    "P3 = np.eye(nbas)[:,frag3] \n",
    "\n",
    "O1, V1 = spade_partitioning(Cdocc, Cvirt, P1, S)\n",
    "O2, V2 = spade_partitioning(Cdocc, Cvirt, P2, S)\n",
    "O3, V3 = spade_partitioning(Cdocc, Cvirt, P3, S)\n",
    "\n",
    "pyscf.tools.molden.from_mo(mf.mol, \"CO1.molden\", O1)\n",
    "pyscf.tools.molden.from_mo(mf.mol, \"CO2.molden\", O2)\n",
    "pyscf.tools.molden.from_mo(mf.mol, \"CV1.molden\", V1)\n",
    "pyscf.tools.molden.from_mo(mf.mol, \"CV2.molden\", V2)\n"
   ]
  },
  {
   "cell_type": "code",
   "execution_count": null,
   "id": "91695cab",
   "metadata": {},
   "outputs": [],
   "source": [
    "\n",
    "\n",
    "# nact_docc = 1\n",
    "# nact_virt = 1\n",
    "\n",
    "# nfrzn = Cdocc.shape[1] - nact_docc\n",
    "# Cenv = Cdocc[:,nact_docc:nact_docc+nfrzn]\n",
    "# Cact = np.hstack((Cdocc[:,0:nact_docc], Csing, Cvirt[:,0:nact_virt]))\n",
    "# print(Cenv.shape)\n",
    "# print(Cact.shape)\n",
    "# print(\"Should be zero: \", np.trace(Cenv.T@S@Cact@Cact.T@Cenv))\n",
    "\n",
    "# Cfrag1 = svd_orbs(Cact, frag1, S)[:,0:3]\n",
    "# Cfrag2 = svd_orbs(Cact, frag2, S)[:,0:1]\n",
    "# Cfrag3 = svd_orbs(Cact, frag3, S)[:,0:1]\n",
    "\n",
    "# Cfrag1, Cfrag2, Cfrag3 = sym_ortho((Cfrag1, Cfrag2, Cfrag3), S)\n",
    "\n",
    "# pyscf.tools.molden.from_mo(mf.mol, \"Cact.molden\", Cact)\n",
    "\n",
    "# pyscf.tools.molden.from_mo(mf.mol, \"Cfrag1.molden\", Cfrag1)\n",
    "# pyscf.tools.molden.from_mo(mf.mol, \"Cfrag2.molden\", Cfrag2)\n",
    "# pyscf.tools.molden.from_mo(mf.mol, \"Cfrag3.molden\", Cfrag3)\n",
    "\n",
    "# Ctot = np.hstack((Cfrag1, Cfrag2, Cfrag3))\n",
    "# pyscf.tools.molden.from_mo(mf.mol, \"Ctot.molden\", Ctot)\n",
    "# pyscf.tools.molden.from_mo(mf.mol, \"Cenv.molden\", Cenv)\n"
   ]
  },
  {
   "cell_type": "code",
   "execution_count": 132,
   "id": "aedcb7a2-770b-4b6a-b2be-8c113549f3cd",
   "metadata": {
    "tags": []
   },
   "outputs": [
    {
     "name": "stdout",
     "output_type": "stream",
     "text": [
      "[[0, 1, 2, 3, 4, 5], [6, 7, 8, 9], [10, 11, 12, 13, 14, 15]]\n",
      "[(3, 0), (4, 4), (3, 0)]\n"
     ]
    }
   ],
   "source": [
    "clusters = [list(range(0,6)), list(range(6,10)), list(range(10,16))]\n",
    "init_fspace = [(3,0), (4,4), (3,0)]\n",
    "print(clusters)\n",
    "print(init_fspace)"
   ]
  },
  {
   "cell_type": "markdown",
   "id": "91dc633f-ee84-4875-bfed-57c9c3d7d0a6",
   "metadata": {},
   "source": [
    "# Make Integrals"
   ]
  },
  {
   "cell_type": "code",
   "execution_count": 133,
   "id": "eb3ac06f-7e94-420f-9635-6f64f27c7f05",
   "metadata": {},
   "outputs": [],
   "source": [
    "d1_embed = 2 * Cenv @ Cenv.T\n",
    "\n",
    "h0 = pyscf.gto.mole.energy_nuc(mf.mol)\n",
    "h  = pyscf.scf.hf.get_hcore(mf.mol)\n",
    "j, k = pyscf.scf.hf.get_jk(mf.mol, d1_embed, hermi=1)"
   ]
  },
  {
   "cell_type": "code",
   "execution_count": 134,
   "id": "130e7b7f-697e-4448-81f2-458931b4de8d",
   "metadata": {},
   "outputs": [],
   "source": [
    "h0 += np.trace(d1_embed @ ( h + .5*j - .25*k))\n",
    "\n",
    "h = Ctot.T @ h @ Ctot;\n",
    "j = Ctot.T @ j @ Ctot;\n",
    "k = Ctot.T @ k @ Ctot;"
   ]
  },
  {
   "cell_type": "code",
   "execution_count": 135,
   "id": "5047dda7-d4cc-4460-9f5a-0b34b7f16787",
   "metadata": {},
   "outputs": [
    {
     "ename": "NotImplementedError",
     "evalue": "Integral transformation for complex orbitals",
     "output_type": "error",
     "traceback": [
      "\u001b[0;31m---------------------------------------------------------------------------\u001b[0m",
      "\u001b[0;31mNotImplementedError\u001b[0m                       Traceback (most recent call last)",
      "\u001b[0;32m<ipython-input-135-e87937b428ad>\u001b[0m in \u001b[0;36m<module>\u001b[0;34m\u001b[0m\n\u001b[1;32m      1\u001b[0m \u001b[0mnact\u001b[0m \u001b[0;34m=\u001b[0m \u001b[0mh\u001b[0m\u001b[0;34m.\u001b[0m\u001b[0mshape\u001b[0m\u001b[0;34m[\u001b[0m\u001b[0;36m0\u001b[0m\u001b[0;34m]\u001b[0m\u001b[0;34m\u001b[0m\u001b[0;34m\u001b[0m\u001b[0m\n\u001b[1;32m      2\u001b[0m \u001b[0;34m\u001b[0m\u001b[0m\n\u001b[0;32m----> 3\u001b[0;31m \u001b[0mh2\u001b[0m \u001b[0;34m=\u001b[0m \u001b[0mpyscf\u001b[0m\u001b[0;34m.\u001b[0m\u001b[0mao2mo\u001b[0m\u001b[0;34m.\u001b[0m\u001b[0mkernel\u001b[0m\u001b[0;34m(\u001b[0m\u001b[0mpymol\u001b[0m\u001b[0;34m,\u001b[0m \u001b[0mCtot\u001b[0m\u001b[0;34m,\u001b[0m \u001b[0maosym\u001b[0m\u001b[0;34m=\u001b[0m\u001b[0;34m\"s4\"\u001b[0m\u001b[0;34m,\u001b[0m \u001b[0mcompact\u001b[0m\u001b[0;34m=\u001b[0m\u001b[0;32mFalse\u001b[0m\u001b[0;34m)\u001b[0m\u001b[0;34m\u001b[0m\u001b[0;34m\u001b[0m\u001b[0m\n\u001b[0m\u001b[1;32m      4\u001b[0m \u001b[0mh2\u001b[0m\u001b[0;34m.\u001b[0m\u001b[0mshape\u001b[0m \u001b[0;34m=\u001b[0m \u001b[0;34m(\u001b[0m\u001b[0mnact\u001b[0m\u001b[0;34m,\u001b[0m \u001b[0mnact\u001b[0m\u001b[0;34m,\u001b[0m \u001b[0mnact\u001b[0m\u001b[0;34m,\u001b[0m \u001b[0mnact\u001b[0m\u001b[0;34m)\u001b[0m\u001b[0;34m\u001b[0m\u001b[0;34m\u001b[0m\u001b[0m\n",
      "\u001b[0;32m~/opt/anaconda3/envs/pyscf/lib/python3.7/site-packages/pyscf/ao2mo/__init__.py\u001b[0m in \u001b[0;36mkernel\u001b[0;34m(eri_or_mol, mo_coeffs, erifile, dataname, intor, *args, **kwargs)\u001b[0m\n\u001b[1;32m    469\u001b[0m     '''\n\u001b[1;32m    470\u001b[0m     \u001b[0;32mif\u001b[0m \u001b[0misinstance\u001b[0m\u001b[0;34m(\u001b[0m\u001b[0mmo_coeffs\u001b[0m\u001b[0;34m,\u001b[0m \u001b[0mnumpy\u001b[0m\u001b[0;34m.\u001b[0m\u001b[0mndarray\u001b[0m\u001b[0;34m)\u001b[0m \u001b[0;32mand\u001b[0m \u001b[0mmo_coeffs\u001b[0m\u001b[0;34m.\u001b[0m\u001b[0mndim\u001b[0m \u001b[0;34m==\u001b[0m \u001b[0;36m2\u001b[0m\u001b[0;34m:\u001b[0m\u001b[0;34m\u001b[0m\u001b[0;34m\u001b[0m\u001b[0m\n\u001b[0;32m--> 471\u001b[0;31m         \u001b[0;32mreturn\u001b[0m \u001b[0mfull\u001b[0m\u001b[0;34m(\u001b[0m\u001b[0meri_or_mol\u001b[0m\u001b[0;34m,\u001b[0m \u001b[0mmo_coeffs\u001b[0m\u001b[0;34m,\u001b[0m \u001b[0merifile\u001b[0m\u001b[0;34m,\u001b[0m \u001b[0mdataname\u001b[0m\u001b[0;34m,\u001b[0m \u001b[0mintor\u001b[0m\u001b[0;34m,\u001b[0m \u001b[0;34m*\u001b[0m\u001b[0margs\u001b[0m\u001b[0;34m,\u001b[0m \u001b[0;34m**\u001b[0m\u001b[0mkwargs\u001b[0m\u001b[0;34m)\u001b[0m\u001b[0;34m\u001b[0m\u001b[0;34m\u001b[0m\u001b[0m\n\u001b[0m\u001b[1;32m    472\u001b[0m     \u001b[0;32melse\u001b[0m\u001b[0;34m:\u001b[0m\u001b[0;34m\u001b[0m\u001b[0;34m\u001b[0m\u001b[0m\n\u001b[1;32m    473\u001b[0m         \u001b[0;32mreturn\u001b[0m \u001b[0mgeneral\u001b[0m\u001b[0;34m(\u001b[0m\u001b[0meri_or_mol\u001b[0m\u001b[0;34m,\u001b[0m \u001b[0mmo_coeffs\u001b[0m\u001b[0;34m,\u001b[0m \u001b[0merifile\u001b[0m\u001b[0;34m,\u001b[0m \u001b[0mdataname\u001b[0m\u001b[0;34m,\u001b[0m \u001b[0mintor\u001b[0m\u001b[0;34m,\u001b[0m \u001b[0;34m*\u001b[0m\u001b[0margs\u001b[0m\u001b[0;34m,\u001b[0m \u001b[0;34m**\u001b[0m\u001b[0mkwargs\u001b[0m\u001b[0;34m)\u001b[0m\u001b[0;34m\u001b[0m\u001b[0;34m\u001b[0m\u001b[0m\n",
      "\u001b[0;32m~/opt/anaconda3/envs/pyscf/lib/python3.7/site-packages/pyscf/ao2mo/__init__.py\u001b[0m in \u001b[0;36mfull\u001b[0;34m(eri_or_mol, mo_coeff, erifile, dataname, intor, *args, **kwargs)\u001b[0m\n\u001b[1;32m    157\u001b[0m                             *args, **kwargs)\n\u001b[1;32m    158\u001b[0m         \u001b[0;32melse\u001b[0m\u001b[0;34m:\u001b[0m\u001b[0;34m\u001b[0m\u001b[0;34m\u001b[0m\u001b[0m\n\u001b[0;32m--> 159\u001b[0;31m             \u001b[0;32mreturn\u001b[0m \u001b[0mmod\u001b[0m\u001b[0;34m.\u001b[0m\u001b[0mfull_iofree\u001b[0m\u001b[0;34m(\u001b[0m\u001b[0meri_or_mol\u001b[0m\u001b[0;34m,\u001b[0m \u001b[0mmo_coeff\u001b[0m\u001b[0;34m,\u001b[0m \u001b[0mintor\u001b[0m\u001b[0;34m,\u001b[0m \u001b[0;34m*\u001b[0m\u001b[0margs\u001b[0m\u001b[0;34m,\u001b[0m \u001b[0;34m**\u001b[0m\u001b[0mkwargs\u001b[0m\u001b[0;34m)\u001b[0m\u001b[0;34m\u001b[0m\u001b[0;34m\u001b[0m\u001b[0m\n\u001b[0m\u001b[1;32m    160\u001b[0m \u001b[0;34m\u001b[0m\u001b[0m\n\u001b[1;32m    161\u001b[0m def general(eri_or_mol, mo_coeffs, erifile=None, dataname='eri_mo', intor='int2e',\n",
      "\u001b[0;32m~/opt/anaconda3/envs/pyscf/lib/python3.7/site-packages/pyscf/ao2mo/outcore.py\u001b[0m in \u001b[0;36mfull_iofree\u001b[0;34m(mol, mo_coeff, intor, aosym, comp, max_memory, ioblk_size, verbose, compact)\u001b[0m\n\u001b[1;32m    589\u001b[0m                 \u001b[0mintor\u001b[0m\u001b[0;34m=\u001b[0m\u001b[0mintor\u001b[0m\u001b[0;34m,\u001b[0m \u001b[0maosym\u001b[0m\u001b[0;34m=\u001b[0m\u001b[0maosym\u001b[0m\u001b[0;34m,\u001b[0m \u001b[0mcomp\u001b[0m\u001b[0;34m=\u001b[0m\u001b[0mcomp\u001b[0m\u001b[0;34m,\u001b[0m\u001b[0;34m\u001b[0m\u001b[0;34m\u001b[0m\u001b[0m\n\u001b[1;32m    590\u001b[0m                 \u001b[0mmax_memory\u001b[0m\u001b[0;34m=\u001b[0m\u001b[0mmax_memory\u001b[0m\u001b[0;34m,\u001b[0m \u001b[0mioblk_size\u001b[0m\u001b[0;34m=\u001b[0m\u001b[0mioblk_size\u001b[0m\u001b[0;34m,\u001b[0m\u001b[0;34m\u001b[0m\u001b[0;34m\u001b[0m\u001b[0m\n\u001b[0;32m--> 591\u001b[0;31m                 verbose=verbose, compact=compact)\n\u001b[0m\u001b[1;32m    592\u001b[0m         \u001b[0;32mreturn\u001b[0m \u001b[0mnumpy\u001b[0m\u001b[0;34m.\u001b[0m\u001b[0masarray\u001b[0m\u001b[0;34m(\u001b[0m\u001b[0mferi\u001b[0m\u001b[0;34m[\u001b[0m\u001b[0;34m'eri_mo'\u001b[0m\u001b[0;34m]\u001b[0m\u001b[0;34m)\u001b[0m\u001b[0;34m\u001b[0m\u001b[0;34m\u001b[0m\u001b[0m\n\u001b[1;32m    593\u001b[0m \u001b[0;34m\u001b[0m\u001b[0m\n",
      "\u001b[0;32m~/opt/anaconda3/envs/pyscf/lib/python3.7/site-packages/pyscf/ao2mo/outcore.py\u001b[0m in \u001b[0;36mgeneral\u001b[0;34m(mol, mo_coeffs, erifile, dataname, intor, aosym, comp, max_memory, ioblk_size, verbose, compact)\u001b[0m\n\u001b[1;32m    205\u001b[0m     '''\n\u001b[1;32m    206\u001b[0m     \u001b[0;32mif\u001b[0m \u001b[0many\u001b[0m\u001b[0;34m(\u001b[0m\u001b[0mc\u001b[0m\u001b[0;34m.\u001b[0m\u001b[0mdtype\u001b[0m \u001b[0;34m==\u001b[0m \u001b[0mnumpy\u001b[0m\u001b[0;34m.\u001b[0m\u001b[0mcomplex128\u001b[0m \u001b[0;32mfor\u001b[0m \u001b[0mc\u001b[0m \u001b[0;32min\u001b[0m \u001b[0mmo_coeffs\u001b[0m\u001b[0;34m)\u001b[0m\u001b[0;34m:\u001b[0m\u001b[0;34m\u001b[0m\u001b[0;34m\u001b[0m\u001b[0m\n\u001b[0;32m--> 207\u001b[0;31m         \u001b[0;32mraise\u001b[0m \u001b[0mNotImplementedError\u001b[0m\u001b[0;34m(\u001b[0m\u001b[0;34m'Integral transformation for complex orbitals'\u001b[0m\u001b[0;34m)\u001b[0m\u001b[0;34m\u001b[0m\u001b[0;34m\u001b[0m\u001b[0m\n\u001b[0m\u001b[1;32m    208\u001b[0m \u001b[0;34m\u001b[0m\u001b[0m\n\u001b[1;32m    209\u001b[0m     \u001b[0mtime_0pass\u001b[0m \u001b[0;34m=\u001b[0m \u001b[0;34m(\u001b[0m\u001b[0mlogger\u001b[0m\u001b[0;34m.\u001b[0m\u001b[0mprocess_clock\u001b[0m\u001b[0;34m(\u001b[0m\u001b[0;34m)\u001b[0m\u001b[0;34m,\u001b[0m \u001b[0mlogger\u001b[0m\u001b[0;34m.\u001b[0m\u001b[0mperf_counter\u001b[0m\u001b[0;34m(\u001b[0m\u001b[0;34m)\u001b[0m\u001b[0;34m)\u001b[0m\u001b[0;34m\u001b[0m\u001b[0;34m\u001b[0m\u001b[0m\n",
      "\u001b[0;31mNotImplementedError\u001b[0m: Integral transformation for complex orbitals"
     ]
    }
   ],
   "source": [
    "nact = h.shape[0]\n",
    "\n",
    "h2 = pyscf.ao2mo.kernel(pymol, Ctot, aosym=\"s4\", compact=False)\n",
    "h2.shape = (nact, nact, nact, nact)"
   ]
  },
  {
   "cell_type": "code",
   "execution_count": null,
   "id": "eb9d44fb-b0ea-48c6-affd-481fc3405daa",
   "metadata": {},
   "outputs": [],
   "source": [
    "# The use of d1_embed only really makes sense if it has zero electrons in the\n",
    "# active space. Let's warn the user if that's not true\n",
    "\n",
    "S = pymol.intor(\"int1e_ovlp_sph\")\n",
    "n_act = np.trace(S @ d1_embed @ S @ Ctot @ Ctot.T)\n",
    "if abs(n_act) > 1e-8 == False:\n",
    "    print(n_act)\n",
    "    error(\" I found embedded electrons in the active space?!\")\n",
    "\n",
    "h1 = h + j - .5*k;\n"
   ]
  },
  {
   "cell_type": "code",
   "execution_count": null,
   "id": "48548fca-bae3-46ea-94a6-fa73553eb91d",
   "metadata": {},
   "outputs": [],
   "source": [
    "np.save(\"ints_h0\", h0)\n",
    "np.save(\"ints_h1\", h1)\n",
    "np.save(\"ints_h2\", h2)\n",
    "np.save(\"mo_coeffs\", Ctot)\n",
    "np.save(\"overlap_mat\", S)"
   ]
  },
  {
   "cell_type": "code",
   "execution_count": null,
   "id": "0fa167fc",
   "metadata": {},
   "outputs": [
    {
     "name": "stdout",
     "output_type": "stream",
     "text": [
      "\n",
      "WARN: orbitals [3 4] not symmetrized, norm = [0.76812236 0.76812236]\n",
      "\n"
     ]
    }
   ],
   "source": [
    "import numpy as np\n",
    "Ccmf = np.load(\"Ccmf.npy\")\n",
    "pyscf.tools.molden.from_mo(mf.mol, \"Ccmf.molden\", Ccmf)\n"
   ]
  },
  {
   "cell_type": "code",
   "execution_count": null,
   "id": "e99cf07d",
   "metadata": {},
   "outputs": [
    {
     "name": "stdout",
     "output_type": "stream",
     "text": [
      "(30, 4)\n",
      "(30, 0)\n",
      "8.0\n",
      "(30, 4)\n"
     ]
    }
   ],
   "source": [
    "print(Cdocc.shape)\n",
    "print(Csing.shape)\n",
    "P = 2*Cdocc@Cdocc.T + Csing@Csing.T\n",
    "print(np.trace(P@S))\n",
    "print(Ctot.shape)\n"
   ]
  },
  {
   "cell_type": "code",
   "execution_count": null,
   "id": "3de10ac6",
   "metadata": {},
   "outputs": [
    {
     "name": "stdout",
     "output_type": "stream",
     "text": [
      "(30, 3)\n"
     ]
    }
   ],
   "source": [
    "Ptot = Ctot @ Ctot.T\n",
    "Pact = Cact @ Cact.T \n",
    "Penv = Cenv @ Cenv.T\n",
    "Psing = Csing @ Csing.T\n",
    "Pdocc = Cdocc @ Cdocc.T\n",
    "Pvirt = Cvirt @ Cvirt.T\n",
    "print(Cenv.shape)"
   ]
  },
  {
   "cell_type": "code",
   "execution_count": null,
   "id": "bbbc6bb0",
   "metadata": {},
   "outputs": [],
   "source": []
  }
 ],
 "metadata": {
  "kernelspec": {
   "display_name": "Python 3 (ipykernel)",
   "language": "python",
   "name": "python3"
  },
  "language_info": {
   "codemirror_mode": {
    "name": "ipython",
    "version": 3
   },
   "file_extension": ".py",
   "mimetype": "text/x-python",
   "name": "python",
   "nbconvert_exporter": "python",
   "pygments_lexer": "ipython3",
   "version": "3.7.13"
  }
 },
 "nbformat": 4,
 "nbformat_minor": 5
}
