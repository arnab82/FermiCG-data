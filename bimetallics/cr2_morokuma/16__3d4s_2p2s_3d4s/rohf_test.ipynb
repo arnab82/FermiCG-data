{
 "cells": [
  {
   "cell_type": "code",
   "execution_count": 1,
   "id": "872297e4-9d52-4b71-981b-9849bfa969ff",
   "metadata": {},
   "outputs": [
    {
     "name": "stderr",
     "output_type": "stream",
     "text": [
      "Numpy 1.16 has memory leak bug  https://github.com/numpy/numpy/issues/13808\n",
      "It is recommended to downgrade to numpy 1.15 or older\n"
     ]
    }
   ],
   "source": [
    "import pyscf\n",
    "import pyscf.tools\n",
    "\n",
    "from spade_clustering import *"
   ]
  },
  {
   "cell_type": "code",
   "execution_count": 2,
   "id": "38a92200-02bd-4e3d-8a8b-39cae17e095c",
   "metadata": {},
   "outputs": [
    {
     "name": "stdout",
     "output_type": "stream",
     "text": [
      "symmetry:  Cs\n",
      "\n",
      "\n",
      "******** <class 'pyscf.scf.hf_symm.SymAdaptedROHF'> ********\n",
      "method = SymAdaptedROHF-ROHF-RHF\n",
      "initial guess = sad\n",
      "damping factor = 0\n",
      "level shift factor = 0\n",
      "DIIS = <class 'pyscf.scf.diis.CDIIS'>\n",
      "DIIS start cycle = 1\n",
      "DIIS space = 8\n",
      "SCF tol = 1e-08\n",
      "SCF gradient tol = 1e-05\n",
      "max. SCF cycles = 200\n",
      "direct_scf = True\n",
      "direct_scf_tol = 1e-13\n",
      "chkfile to save SCF result = scf.fchk\n",
      "max_memory 4000 MB (current use 0 MB)\n",
      "num. doubly occ = 6  num. singly occ = 1\n",
      "init E= -15.3068786812974\n",
      "HOMO (A') = -0.174946216158305  LUMO (A') = -0.0514772431085871\n",
      "cycle= 1 E= -15.6442542564128  delta_E= -0.337  |g|= 0.05  |ddm|= 0.768\n",
      "HOMO (A') = -0.21441865770599  LUMO (A') = 0.00552451182760706\n",
      "cycle= 2 E= -15.6461073296957  delta_E= -0.00185  |g|= 0.00752  |ddm|= 0.0726\n",
      "HOMO (A') = -0.209411568433181  LUMO (A') = 0.00747490869695385\n",
      "cycle= 3 E= -15.6461544034177  delta_E= -4.71e-05  |g|= 0.00116  |ddm|= 0.0134\n",
      "HOMO (A') = -0.209064623291325  LUMO (A') = 0.00775725750823334\n",
      "cycle= 4 E= -15.6461554863161  delta_E= -1.08e-06  |g|= 0.00055  |ddm|= 0.00233\n",
      "HOMO (A') = -0.20905106229792  LUMO (A') = 0.00775699411134032\n",
      "cycle= 5 E= -15.6461561995884  delta_E= -7.13e-07  |g|= 0.0004  |ddm|= 0.00139\n",
      "HOMO (A') = -0.209049866785261  LUMO (A') = 0.00775506107592803\n",
      "cycle= 6 E= -15.6461566148049  delta_E= -4.15e-07  |g|= 0.000471  |ddm|= 0.000441\n",
      "HOMO (A') = -0.209046410648118  LUMO (A') = 0.00775086745672973\n",
      "cycle= 7 E= -15.6461553958794  delta_E= 1.22e-06  |g|= 1.42e-05  |ddm|= 0.00262\n",
      "HOMO (A') = -0.209044674190334  LUMO (A') = 0.00775326606722557\n",
      "cycle= 8 E= -15.6461553957891  delta_E= 9.03e-11  |g|= 1.16e-06  |ddm|= 3.62e-05\n",
      "HOMO (A') = -0.209043917502928  LUMO (A') = 0.0077535640990335\n",
      "Extra cycle  E= -15.6461553957902  delta_E= -1.11e-12  |g|= 3.37e-07  |ddm|= 1.71e-06\n",
      "converged SCF energy = -15.6461553957902\n",
      " Hartree-Fock Energy: -15.64615540\n"
     ]
    }
   ],
   "source": [
    "molecule = \"\"\"\n",
    "H 0.0 0.0 0.0\n",
    "H 2.0 0.0 0.0\n",
    "H 4.0 0.0 0.0\n",
    "He 0.0 2.0 0.0\n",
    "He 2.0 2.0 0.0\n",
    "He 4.0 2.0 0.0\n",
    "He 6.0 2.0 0.0\n",
    "He 8.0 2.0 0.0\n",
    "\"\"\"\n",
    "\n",
    "basis = \"def2-svp\"\n",
    "pymol = pyscf.gto.Mole(\n",
    "        atom    =   molecule,\n",
    "        symmetry=   True,\n",
    "        spin    =   1, # number of unpaired electrons\n",
    "        charge  =   0,\n",
    "        basis   =   basis)\n",
    "\n",
    "\n",
    "pymol.build()\n",
    "print(\"symmetry: \",pymol.topgroup)\n",
    "# mf = pyscf.scf.UHF(pymol).x2c()\n",
    "mf = pyscf.scf.ROHF(pymol)\n",
    "mf.verbose = 4\n",
    "mf.conv_tol = 1e-8\n",
    "mf.conv_tol_grad = 1e-5\n",
    "mf.chkfile = \"scf.fchk\"\n",
    "mf.init_guess = \"sad\"\n",
    "\n",
    "mf.run(max_cycle=200)\n",
    "\n",
    "print(\" Hartree-Fock Energy: %12.8f\" % mf.e_tot)\n",
    "# mf.analyze()\n",
    "\n",
    "# Get data\n",
    "F = mf.get_fock()\n",
    "C = mf.mo_coeff\n",
    "S = mf.get_ovlp()\n",
    "ndocc = mf.nelec[1]\n",
    "nsing = mf.nelec[0] - ndocc\n",
    "nvirt = mf.mol.nao - ndocc - nsing\n",
    "\n",
    "# Just use alpha orbitals\n",
    "Cdocc = mf.mo_coeff[:,0:ndocc]\n",
    "Csing = mf.mo_coeff[:,ndocc:ndocc+nsing]\n",
    "Cvirt = mf.mo_coeff[:,ndocc+nsing:ndocc+nsing+nvirt]\n",
    "\n",
    "nbas = Cdocc.shape[0]"
   ]
  },
  {
   "attachments": {},
   "cell_type": "markdown",
   "id": "926bfd1b",
   "metadata": {},
   "source": [
    "# Define Fragments by AOs"
   ]
  },
  {
   "cell_type": "code",
   "execution_count": 3,
   "id": "45633353-ae0c-47b2-ae89-8d9a66039cd9",
   "metadata": {
    "tags": []
   },
   "outputs": [
    {
     "name": "stdout",
     "output_type": "stream",
     "text": [
      "[[0, 5, 10, 15], [20, 25], [30]]\n"
     ]
    }
   ],
   "source": [
    "# Find AO's corresponding to atoms \n",
    "full = []\n",
    "frag1 = []\n",
    "frag2 = []\n",
    "frag3 = []\n",
    "for ao_idx,ao in enumerate(mf.mol.ao_labels(fmt=False)):\n",
    "    if ao[0] in (0, 1, 2, 3):\n",
    "        if ao[2] in (\"1s\",):\n",
    "            frag1.append(ao_idx)\n",
    "            full.append(ao_idx)\n",
    "    elif ao[0] in (4, 5):\n",
    "        if ao[2] in (\"1s\", ):\n",
    "            frag2.append(ao_idx)\n",
    "            full.append(ao_idx)\n",
    "    elif ao[0] == 6:\n",
    "        if ao[2] in (\"1s\", ):\n",
    "            frag3.append(ao_idx)\n",
    "            full.append(ao_idx)\n",
    "\n",
    "\n",
    "frags = [frag1, frag2, frag3]\n",
    "print(frags)\n"
   ]
  },
  {
   "attachments": {},
   "cell_type": "markdown",
   "id": "3efb9920",
   "metadata": {},
   "source": [
    "# Define Projectors\n",
    "We can choose to project onto the non-orthogonal AOs, or onto the symmetrically orthogonalized AOs."
   ]
  },
  {
   "cell_type": "code",
   "execution_count": 4,
   "id": "398f646b",
   "metadata": {},
   "outputs": [],
   "source": [
    "# Define projectors\n",
    "X = np.eye(nbas) \n",
    "X = scipy.linalg.sqrtm(S)\n",
    "Pfull = X[:,full]  # non-orthogonal\n",
    "Pf = []\n",
    "for f in frags:\n",
    "    Pf.append(X[:,f])\n"
   ]
  },
  {
   "attachments": {},
   "cell_type": "markdown",
   "id": "841d2ce9",
   "metadata": {},
   "source": [
    "# Project MOs onto all fragments\n",
    "For each orbital block (Docc, Sing, Virt), project each subspace onto the full list of fragment AOs. This will determine our full active space."
   ]
  },
  {
   "cell_type": "code",
   "execution_count": 5,
   "id": "b5553884",
   "metadata": {},
   "outputs": [
    {
     "name": "stdout",
     "output_type": "stream",
     "text": [
      " Partition   40 orbitals into a total of    7 orbitals\n",
      "            Index   Sing. Val. Space       \n",
      "                0   0.92782623            2*\n",
      "                1   0.84273729            0*\n",
      "                2   0.83388766            0*\n",
      "                3   0.82720440            0*\n",
      "                4   0.82048000            0*\n",
      "                5   0.81282917            1*\n",
      "                6   0.71276005            0*\n",
      "                7   0.17409277            2\n",
      "                8   0.16456991            2\n",
      "                9   0.15748413            2\n",
      "               10   0.14786680            2\n",
      "               11   0.14198651            2\n",
      "               12   0.12123142            2\n",
      "               13   0.00036667            0\n"
     ]
    }
   ],
   "source": [
    "(Oact, Sact, Vact), (Cenv, Cerr, _) = spade_partitioning((Cdocc, Csing, Cvirt), Pfull, S)\n",
    "assert(Cerr.shape[1] == 0)\n",
    "Cact = np.hstack((Oact,Vact))"
   ]
  },
  {
   "attachments": {},
   "cell_type": "markdown",
   "id": "d58103c3",
   "metadata": {},
   "source": [
    "# Split active space into fragments"
   ]
  },
  {
   "cell_type": "code",
   "execution_count": 6,
   "id": "5f16720a",
   "metadata": {},
   "outputs": [
    {
     "name": "stdout",
     "output_type": "stream",
     "text": [
      "\n",
      " Fragment:  [0, 5, 10, 15]\n",
      " Partition   40 orbitals into a total of    4 orbitals\n",
      "            Index   Sing. Val. Space       \n",
      "                0   0.92202281            2*\n",
      "                1   0.83007666            0*\n",
      "                2   0.80741097            1*\n",
      "                3   0.71836264            0*\n",
      "                4   0.17133587            2\n",
      "                5   0.15202631            2\n",
      "                6   0.12384227            2\n",
      "                7   0.08582984            0\n",
      "                8   0.04379145            0\n",
      "\n",
      " Fragment:  [20, 25]\n",
      " Partition   40 orbitals into a total of    2 orbitals\n",
      "            Index   Sing. Val. Space       \n",
      "                0   0.83727198            0*\n",
      "                1   0.81939117            0*\n",
      "                2   0.15674432            2\n",
      "                3   0.14914947            2\n",
      "                4   0.02013429            1\n",
      "\n",
      " Fragment:  [30]\n",
      " Partition   40 orbitals into a total of    1 orbitals\n",
      "            Index   Sing. Val. Space       \n",
      "                0   0.82978386            0*\n",
      "                1   0.15531614            2\n",
      "                2   0.00406607            1\n",
      " init_fspace:  [(3, 2), (2, 2), (1, 1)]\n",
      " clusters   :  [[0, 1, 2, 3], [4, 5], [6]]\n"
     ]
    }
   ],
   "source": [
    "# Project active orbitals onto fragments\n",
    "init_fspace = []\n",
    "clusters = []\n",
    "Cfrags = []\n",
    "orb_index = 0\n",
    "for fi,f in enumerate(frags):\n",
    "    print()\n",
    "    print(\" Fragment: \", f)\n",
    "    (Of, Sf, Vf), (_, _, _) = spade_partitioning((Cdocc, Csing, Cvirt), Pf[fi], S)\n",
    "    Cfrags.append(np.hstack((Of, Sf, Vf)))\n",
    "    ndocc_f = Of.shape[1]\n",
    "    init_fspace.append((ndocc_f+Sf.shape[1], ndocc_f))\n",
    "    nmof = Of.shape[1] + Sf.shape[1] + Vf.shape[1]\n",
    "    clusters.append(list(range(orb_index, orb_index+nmof)))\n",
    "    orb_index += nmof\n",
    "\n",
    "\n",
    "\n",
    "# Orthogonalize Fragment orbitals\n",
    "Cfrags = sym_ortho(Cfrags, S)\n",
    "\n",
    "Cact = np.hstack(Cfrags)\n",
    "\n",
    "# Write Molden files for visualization\n",
    "pyscf.tools.molden.from_mo(mf.mol, \"Pfull.molden\", Pfull)\n",
    "pyscf.tools.molden.from_mo(mf.mol, \"Cact.molden\", Cact)\n",
    "pyscf.tools.molden.from_mo(mf.mol, \"Cenv.molden\", Cenv)\n",
    "for i in range(len(frags)):\n",
    "    pyscf.tools.molden.from_mo(mf.mol, \"Cfrag%i.molden\"%i, Cfrags[i])\n",
    "\n",
    "print(\" init_fspace: \", init_fspace)\n",
    "print(\" clusters   : \", clusters)\n"
   ]
  },
  {
   "cell_type": "markdown",
   "id": "91dc633f-ee84-4875-bfed-57c9c3d7d0a6",
   "metadata": {},
   "source": [
    "# Make Integrals"
   ]
  },
  {
   "cell_type": "code",
   "execution_count": 7,
   "id": "eb3ac06f-7e94-420f-9635-6f64f27c7f05",
   "metadata": {},
   "outputs": [
    {
     "name": "stdout",
     "output_type": "stream",
     "text": [
      "(40, 1)\n",
      "(40, 7)\n",
      "(40, 40)\n"
     ]
    }
   ],
   "source": [
    "print(Cenv.shape)\n",
    "print(Cact.shape)\n",
    "d1_embed = 2 * Cenv @ Cenv.T\n",
    "\n",
    "h0 = pyscf.gto.mole.energy_nuc(mf.mol)\n",
    "h  = pyscf.scf.hf.get_hcore(mf.mol)\n",
    "j, k = pyscf.scf.hf.get_jk(mf.mol, d1_embed, hermi=1)\n",
    "\n",
    "print(h.shape)"
   ]
  },
  {
   "cell_type": "code",
   "execution_count": 8,
   "id": "130e7b7f-697e-4448-81f2-458931b4de8d",
   "metadata": {},
   "outputs": [],
   "source": [
    "h0 += np.trace(d1_embed @ ( h + .5*j - .25*k))\n",
    "\n",
    "h = Cact.T @ h @ Cact;\n",
    "j = Cact.T @ j @ Cact;\n",
    "k = Cact.T @ k @ Cact;"
   ]
  },
  {
   "cell_type": "code",
   "execution_count": 9,
   "id": "5047dda7-d4cc-4460-9f5a-0b34b7f16787",
   "metadata": {},
   "outputs": [
    {
     "ename": "OSError",
     "evalue": "Unable to open file (file signature not found)",
     "output_type": "error",
     "traceback": [
      "\u001b[0;31m---------------------------------------------------------------------------\u001b[0m",
      "\u001b[0;31mOSError\u001b[0m                                   Traceback (most recent call last)",
      "\u001b[0;32m/var/folders/9p/nhnq58pj3td7svw_pppk_syw0000gn/T/ipykernel_88155/2174895078.py\u001b[0m in \u001b[0;36m<module>\u001b[0;34m\u001b[0m\n\u001b[1;32m      1\u001b[0m \u001b[0mnact\u001b[0m \u001b[0;34m=\u001b[0m \u001b[0mh\u001b[0m\u001b[0;34m.\u001b[0m\u001b[0mshape\u001b[0m\u001b[0;34m[\u001b[0m\u001b[0;36m0\u001b[0m\u001b[0;34m]\u001b[0m\u001b[0;34m\u001b[0m\u001b[0;34m\u001b[0m\u001b[0m\n\u001b[1;32m      2\u001b[0m \u001b[0;34m\u001b[0m\u001b[0m\n\u001b[0;32m----> 3\u001b[0;31m \u001b[0mh2\u001b[0m \u001b[0;34m=\u001b[0m \u001b[0mpyscf\u001b[0m\u001b[0;34m.\u001b[0m\u001b[0mao2mo\u001b[0m\u001b[0;34m.\u001b[0m\u001b[0mkernel\u001b[0m\u001b[0;34m(\u001b[0m\u001b[0mpymol\u001b[0m\u001b[0;34m,\u001b[0m \u001b[0mCact\u001b[0m\u001b[0;34m,\u001b[0m \u001b[0maosym\u001b[0m\u001b[0;34m=\u001b[0m\u001b[0;34m\"s4\"\u001b[0m\u001b[0;34m,\u001b[0m \u001b[0mcompact\u001b[0m\u001b[0;34m=\u001b[0m\u001b[0;32mFalse\u001b[0m\u001b[0;34m)\u001b[0m\u001b[0;34m\u001b[0m\u001b[0;34m\u001b[0m\u001b[0m\n\u001b[0m\u001b[1;32m      4\u001b[0m \u001b[0mh2\u001b[0m\u001b[0;34m.\u001b[0m\u001b[0mshape\u001b[0m \u001b[0;34m=\u001b[0m \u001b[0;34m(\u001b[0m\u001b[0mnact\u001b[0m\u001b[0;34m,\u001b[0m \u001b[0mnact\u001b[0m\u001b[0;34m,\u001b[0m \u001b[0mnact\u001b[0m\u001b[0;34m,\u001b[0m \u001b[0mnact\u001b[0m\u001b[0;34m)\u001b[0m\u001b[0;34m\u001b[0m\u001b[0;34m\u001b[0m\u001b[0m\n",
      "\u001b[0;32m/opt/anaconda3/envs/pyscf/lib/python3.7/site-packages/pyscf/ao2mo/__init__.py\u001b[0m in \u001b[0;36mkernel\u001b[0;34m(eri_or_mol, mo_coeffs, *args, **kwargs)\u001b[0m\n\u001b[1;32m    312\u001b[0m     '''\n\u001b[1;32m    313\u001b[0m     \u001b[0;32mif\u001b[0m \u001b[0misinstance\u001b[0m\u001b[0;34m(\u001b[0m\u001b[0mmo_coeffs\u001b[0m\u001b[0;34m,\u001b[0m \u001b[0mnumpy\u001b[0m\u001b[0;34m.\u001b[0m\u001b[0mndarray\u001b[0m\u001b[0;34m)\u001b[0m \u001b[0;32mand\u001b[0m \u001b[0mmo_coeffs\u001b[0m\u001b[0;34m.\u001b[0m\u001b[0mndim\u001b[0m \u001b[0;34m==\u001b[0m \u001b[0;36m2\u001b[0m\u001b[0;34m:\u001b[0m\u001b[0;34m\u001b[0m\u001b[0;34m\u001b[0m\u001b[0m\n\u001b[0;32m--> 314\u001b[0;31m         \u001b[0;32mreturn\u001b[0m \u001b[0mfull\u001b[0m\u001b[0;34m(\u001b[0m\u001b[0meri_or_mol\u001b[0m\u001b[0;34m,\u001b[0m \u001b[0mmo_coeffs\u001b[0m\u001b[0;34m,\u001b[0m \u001b[0;34m*\u001b[0m\u001b[0margs\u001b[0m\u001b[0;34m,\u001b[0m \u001b[0;34m**\u001b[0m\u001b[0mkwargs\u001b[0m\u001b[0;34m)\u001b[0m\u001b[0;34m\u001b[0m\u001b[0;34m\u001b[0m\u001b[0m\n\u001b[0m\u001b[1;32m    315\u001b[0m     \u001b[0;32melse\u001b[0m\u001b[0;34m:\u001b[0m\u001b[0;34m\u001b[0m\u001b[0;34m\u001b[0m\u001b[0m\n\u001b[1;32m    316\u001b[0m         \u001b[0;32mreturn\u001b[0m \u001b[0mgeneral\u001b[0m\u001b[0;34m(\u001b[0m\u001b[0meri_or_mol\u001b[0m\u001b[0;34m,\u001b[0m \u001b[0mmo_coeffs\u001b[0m\u001b[0;34m,\u001b[0m \u001b[0;34m*\u001b[0m\u001b[0margs\u001b[0m\u001b[0;34m,\u001b[0m \u001b[0;34m**\u001b[0m\u001b[0mkwargs\u001b[0m\u001b[0;34m)\u001b[0m\u001b[0;34m\u001b[0m\u001b[0;34m\u001b[0m\u001b[0m\n",
      "\u001b[0;32m/opt/anaconda3/envs/pyscf/lib/python3.7/site-packages/pyscf/ao2mo/__init__.py\u001b[0m in \u001b[0;36mfull\u001b[0;34m(eri_or_mol, mo_coeff, *args, **kwargs)\u001b[0m\n\u001b[1;32m    156\u001b[0m                 \u001b[0mfn\u001b[0m \u001b[0;34m=\u001b[0m \u001b[0mgetattr\u001b[0m\u001b[0;34m(\u001b[0m\u001b[0mmod\u001b[0m\u001b[0;34m,\u001b[0m \u001b[0;34m'full'\u001b[0m\u001b[0;34m)\u001b[0m\u001b[0;34m\u001b[0m\u001b[0;34m\u001b[0m\u001b[0m\n\u001b[1;32m    157\u001b[0m                 \u001b[0margs\u001b[0m \u001b[0;34m=\u001b[0m \u001b[0;34m(\u001b[0m\u001b[0margs\u001b[0m\u001b[0;34m[\u001b[0m\u001b[0;36m0\u001b[0m\u001b[0;34m]\u001b[0m\u001b[0;34m.\u001b[0m\u001b[0mname\u001b[0m\u001b[0;34m,\u001b[0m\u001b[0;34m)\u001b[0m \u001b[0;34m+\u001b[0m \u001b[0margs\u001b[0m\u001b[0;34m[\u001b[0m\u001b[0;36m1\u001b[0m\u001b[0;34m:\u001b[0m\u001b[0;34m]\u001b[0m  \u001b[0;31m# take the tmpfile name\u001b[0m\u001b[0;34m\u001b[0m\u001b[0;34m\u001b[0m\u001b[0m\n\u001b[0;32m--> 158\u001b[0;31m         \u001b[0;32mreturn\u001b[0m \u001b[0mfn\u001b[0m\u001b[0;34m(\u001b[0m\u001b[0meri_or_mol\u001b[0m\u001b[0;34m,\u001b[0m \u001b[0mmo_coeff\u001b[0m\u001b[0;34m,\u001b[0m \u001b[0;34m*\u001b[0m\u001b[0margs\u001b[0m\u001b[0;34m,\u001b[0m \u001b[0;34m**\u001b[0m\u001b[0mkwargs\u001b[0m\u001b[0;34m)\u001b[0m\u001b[0;34m\u001b[0m\u001b[0;34m\u001b[0m\u001b[0m\n\u001b[0m\u001b[1;32m    159\u001b[0m \u001b[0;34m\u001b[0m\u001b[0m\n\u001b[1;32m    160\u001b[0m \u001b[0;32mdef\u001b[0m \u001b[0mgeneral\u001b[0m\u001b[0;34m(\u001b[0m\u001b[0meri_or_mol\u001b[0m\u001b[0;34m,\u001b[0m \u001b[0mmo_coeffs\u001b[0m\u001b[0;34m,\u001b[0m \u001b[0;34m*\u001b[0m\u001b[0margs\u001b[0m\u001b[0;34m,\u001b[0m \u001b[0;34m**\u001b[0m\u001b[0mkwargs\u001b[0m\u001b[0;34m)\u001b[0m\u001b[0;34m:\u001b[0m\u001b[0;34m\u001b[0m\u001b[0;34m\u001b[0m\u001b[0m\n",
      "\u001b[0;32m/opt/anaconda3/envs/pyscf/lib/python3.7/site-packages/pyscf/ao2mo/outcore.py\u001b[0m in \u001b[0;36mfull_iofree\u001b[0;34m(mol, mo_coeff, intor, aosym, comp, max_memory, ioblk_size, verbose, compact)\u001b[0m\n\u001b[1;32m    569\u001b[0m     \u001b[0;34m(\u001b[0m\u001b[0;36m3\u001b[0m\u001b[0;34m,\u001b[0m \u001b[0;36m100\u001b[0m\u001b[0;34m,\u001b[0m \u001b[0;36m55\u001b[0m\u001b[0;34m)\u001b[0m\u001b[0;34m\u001b[0m\u001b[0;34m\u001b[0m\u001b[0m\n\u001b[1;32m    570\u001b[0m     '''\n\u001b[0;32m--> 571\u001b[0;31m     \u001b[0;32mwith\u001b[0m \u001b[0mlib\u001b[0m\u001b[0;34m.\u001b[0m\u001b[0mH5TmpFile\u001b[0m\u001b[0;34m(\u001b[0m\u001b[0;34m)\u001b[0m \u001b[0;32mas\u001b[0m \u001b[0mferi\u001b[0m\u001b[0;34m:\u001b[0m\u001b[0;34m\u001b[0m\u001b[0;34m\u001b[0m\u001b[0m\n\u001b[0m\u001b[1;32m    572\u001b[0m         general(mol, (mo_coeff,)*4, feri, dataname='eri_mo',\n\u001b[1;32m    573\u001b[0m                 \u001b[0mintor\u001b[0m\u001b[0;34m=\u001b[0m\u001b[0mintor\u001b[0m\u001b[0;34m,\u001b[0m \u001b[0maosym\u001b[0m\u001b[0;34m=\u001b[0m\u001b[0maosym\u001b[0m\u001b[0;34m,\u001b[0m \u001b[0mcomp\u001b[0m\u001b[0;34m=\u001b[0m\u001b[0mcomp\u001b[0m\u001b[0;34m,\u001b[0m\u001b[0;34m\u001b[0m\u001b[0;34m\u001b[0m\u001b[0m\n",
      "\u001b[0;32m/opt/anaconda3/envs/pyscf/lib/python3.7/site-packages/pyscf/lib/misc.py\u001b[0m in \u001b[0;36m__init__\u001b[0;34m(self, filename, *args, **kwargs)\u001b[0m\n\u001b[1;32m    872\u001b[0m             \u001b[0mtmpfile\u001b[0m \u001b[0;34m=\u001b[0m \u001b[0mtempfile\u001b[0m\u001b[0;34m.\u001b[0m\u001b[0mNamedTemporaryFile\u001b[0m\u001b[0;34m(\u001b[0m\u001b[0mdir\u001b[0m\u001b[0;34m=\u001b[0m\u001b[0mparam\u001b[0m\u001b[0;34m.\u001b[0m\u001b[0mTMPDIR\u001b[0m\u001b[0;34m)\u001b[0m\u001b[0;34m\u001b[0m\u001b[0;34m\u001b[0m\u001b[0m\n\u001b[1;32m    873\u001b[0m             \u001b[0mfilename\u001b[0m \u001b[0;34m=\u001b[0m \u001b[0mtmpfile\u001b[0m\u001b[0;34m.\u001b[0m\u001b[0mname\u001b[0m\u001b[0;34m\u001b[0m\u001b[0;34m\u001b[0m\u001b[0m\n\u001b[0;32m--> 874\u001b[0;31m         \u001b[0mh5py\u001b[0m\u001b[0;34m.\u001b[0m\u001b[0mFile\u001b[0m\u001b[0;34m.\u001b[0m\u001b[0m__init__\u001b[0m\u001b[0;34m(\u001b[0m\u001b[0mself\u001b[0m\u001b[0;34m,\u001b[0m \u001b[0mfilename\u001b[0m\u001b[0;34m,\u001b[0m \u001b[0;34m*\u001b[0m\u001b[0margs\u001b[0m\u001b[0;34m,\u001b[0m \u001b[0;34m**\u001b[0m\u001b[0mkwargs\u001b[0m\u001b[0;34m)\u001b[0m\u001b[0;34m\u001b[0m\u001b[0;34m\u001b[0m\u001b[0m\n\u001b[0m\u001b[1;32m    875\u001b[0m \u001b[0;31m#FIXME: Does GC flush/close the HDF5 file when releasing the resource?\u001b[0m\u001b[0;34m\u001b[0m\u001b[0;34m\u001b[0m\u001b[0;34m\u001b[0m\u001b[0m\n\u001b[1;32m    876\u001b[0m \u001b[0;31m# To make HDF5 file reusable, file has to be closed or flushed\u001b[0m\u001b[0;34m\u001b[0m\u001b[0;34m\u001b[0m\u001b[0;34m\u001b[0m\u001b[0m\n",
      "\u001b[0;32m/opt/anaconda3/envs/pyscf/lib/python3.7/site-packages/h5py/_hl/files.py\u001b[0m in \u001b[0;36m__init__\u001b[0;34m(self, name, mode, driver, libver, userblock_size, swmr, rdcc_nslots, rdcc_nbytes, rdcc_w0, track_order, fs_strategy, fs_persist, fs_threshold, fs_page_size, page_buf_size, min_meta_keep, min_raw_keep, locking, **kwds)\u001b[0m\n\u001b[1;32m    505\u001b[0m                                  \u001b[0mfs_persist\u001b[0m\u001b[0;34m=\u001b[0m\u001b[0mfs_persist\u001b[0m\u001b[0;34m,\u001b[0m \u001b[0mfs_threshold\u001b[0m\u001b[0;34m=\u001b[0m\u001b[0mfs_threshold\u001b[0m\u001b[0;34m,\u001b[0m\u001b[0;34m\u001b[0m\u001b[0;34m\u001b[0m\u001b[0m\n\u001b[1;32m    506\u001b[0m                                  fs_page_size=fs_page_size)\n\u001b[0;32m--> 507\u001b[0;31m                 \u001b[0mfid\u001b[0m \u001b[0;34m=\u001b[0m \u001b[0mmake_fid\u001b[0m\u001b[0;34m(\u001b[0m\u001b[0mname\u001b[0m\u001b[0;34m,\u001b[0m \u001b[0mmode\u001b[0m\u001b[0;34m,\u001b[0m \u001b[0muserblock_size\u001b[0m\u001b[0;34m,\u001b[0m \u001b[0mfapl\u001b[0m\u001b[0;34m,\u001b[0m \u001b[0mfcpl\u001b[0m\u001b[0;34m,\u001b[0m \u001b[0mswmr\u001b[0m\u001b[0;34m=\u001b[0m\u001b[0mswmr\u001b[0m\u001b[0;34m)\u001b[0m\u001b[0;34m\u001b[0m\u001b[0;34m\u001b[0m\u001b[0m\n\u001b[0m\u001b[1;32m    508\u001b[0m \u001b[0;34m\u001b[0m\u001b[0m\n\u001b[1;32m    509\u001b[0m             \u001b[0;32mif\u001b[0m \u001b[0misinstance\u001b[0m\u001b[0;34m(\u001b[0m\u001b[0mlibver\u001b[0m\u001b[0;34m,\u001b[0m \u001b[0mtuple\u001b[0m\u001b[0;34m)\u001b[0m\u001b[0;34m:\u001b[0m\u001b[0;34m\u001b[0m\u001b[0;34m\u001b[0m\u001b[0m\n",
      "\u001b[0;32m/opt/anaconda3/envs/pyscf/lib/python3.7/site-packages/h5py/_hl/files.py\u001b[0m in \u001b[0;36mmake_fid\u001b[0;34m(name, mode, userblock_size, fapl, fcpl, swmr)\u001b[0m\n\u001b[1;32m    218\u001b[0m         \u001b[0;32mif\u001b[0m \u001b[0mswmr\u001b[0m \u001b[0;32mand\u001b[0m \u001b[0mswmr_support\u001b[0m\u001b[0;34m:\u001b[0m\u001b[0;34m\u001b[0m\u001b[0;34m\u001b[0m\u001b[0m\n\u001b[1;32m    219\u001b[0m             \u001b[0mflags\u001b[0m \u001b[0;34m|=\u001b[0m \u001b[0mh5f\u001b[0m\u001b[0;34m.\u001b[0m\u001b[0mACC_SWMR_READ\u001b[0m\u001b[0;34m\u001b[0m\u001b[0;34m\u001b[0m\u001b[0m\n\u001b[0;32m--> 220\u001b[0;31m         \u001b[0mfid\u001b[0m \u001b[0;34m=\u001b[0m \u001b[0mh5f\u001b[0m\u001b[0;34m.\u001b[0m\u001b[0mopen\u001b[0m\u001b[0;34m(\u001b[0m\u001b[0mname\u001b[0m\u001b[0;34m,\u001b[0m \u001b[0mflags\u001b[0m\u001b[0;34m,\u001b[0m \u001b[0mfapl\u001b[0m\u001b[0;34m=\u001b[0m\u001b[0mfapl\u001b[0m\u001b[0;34m)\u001b[0m\u001b[0;34m\u001b[0m\u001b[0;34m\u001b[0m\u001b[0m\n\u001b[0m\u001b[1;32m    221\u001b[0m     \u001b[0;32melif\u001b[0m \u001b[0mmode\u001b[0m \u001b[0;34m==\u001b[0m \u001b[0;34m'r+'\u001b[0m\u001b[0;34m:\u001b[0m\u001b[0;34m\u001b[0m\u001b[0;34m\u001b[0m\u001b[0m\n\u001b[1;32m    222\u001b[0m         \u001b[0mfid\u001b[0m \u001b[0;34m=\u001b[0m \u001b[0mh5f\u001b[0m\u001b[0;34m.\u001b[0m\u001b[0mopen\u001b[0m\u001b[0;34m(\u001b[0m\u001b[0mname\u001b[0m\u001b[0;34m,\u001b[0m \u001b[0mh5f\u001b[0m\u001b[0;34m.\u001b[0m\u001b[0mACC_RDWR\u001b[0m\u001b[0;34m,\u001b[0m \u001b[0mfapl\u001b[0m\u001b[0;34m=\u001b[0m\u001b[0mfapl\u001b[0m\u001b[0;34m)\u001b[0m\u001b[0;34m\u001b[0m\u001b[0;34m\u001b[0m\u001b[0m\n",
      "\u001b[0;32mh5py/_objects.pyx\u001b[0m in \u001b[0;36mh5py._objects.with_phil.wrapper\u001b[0;34m()\u001b[0m\n",
      "\u001b[0;32mh5py/_objects.pyx\u001b[0m in \u001b[0;36mh5py._objects.with_phil.wrapper\u001b[0;34m()\u001b[0m\n",
      "\u001b[0;32mh5py/h5f.pyx\u001b[0m in \u001b[0;36mh5py.h5f.open\u001b[0;34m()\u001b[0m\n",
      "\u001b[0;31mOSError\u001b[0m: Unable to open file (file signature not found)"
     ]
    }
   ],
   "source": [
    "nact = h.shape[0]\n",
    "\n",
    "h2 = pyscf.ao2mo.kernel(pymol, Cact, aosym=\"s4\", compact=False)\n",
    "h2.shape = (nact, nact, nact, nact)"
   ]
  },
  {
   "cell_type": "code",
   "execution_count": null,
   "id": "eb9d44fb-b0ea-48c6-affd-481fc3405daa",
   "metadata": {},
   "outputs": [],
   "source": [
    "# The use of d1_embed only really makes sense if it has zero electrons in the\n",
    "# active space. Let's warn the user if that's not true\n",
    "\n",
    "S = pymol.intor(\"int1e_ovlp_sph\")\n",
    "n_act = np.trace(S @ d1_embed @ S @ Ctot @ Ctot.T)\n",
    "if abs(n_act) > 1e-8 == False:\n",
    "    print(n_act)\n",
    "    error(\" I found embedded electrons in the active space?!\")\n",
    "\n",
    "h1 = h + j - .5*k;\n"
   ]
  },
  {
   "cell_type": "code",
   "execution_count": null,
   "id": "48548fca-bae3-46ea-94a6-fa73553eb91d",
   "metadata": {},
   "outputs": [],
   "source": [
    "np.save(\"ints_h0\", h0)\n",
    "np.save(\"ints_h1\", h1)\n",
    "np.save(\"ints_h2\", h2)\n",
    "np.save(\"mo_coeffs\", Ctot)\n",
    "np.save(\"overlap_mat\", S)"
   ]
  },
  {
   "cell_type": "code",
   "execution_count": null,
   "id": "0fa167fc",
   "metadata": {},
   "outputs": [
    {
     "name": "stdout",
     "output_type": "stream",
     "text": [
      "\n",
      "WARN: orbitals [3 4] not symmetrized, norm = [0.76812236 0.76812236]\n",
      "\n"
     ]
    }
   ],
   "source": [
    "import numpy as np\n",
    "Ccmf = np.load(\"Ccmf.npy\")\n",
    "pyscf.tools.molden.from_mo(mf.mol, \"Ccmf.molden\", Ccmf)\n"
   ]
  },
  {
   "cell_type": "code",
   "execution_count": null,
   "id": "e99cf07d",
   "metadata": {},
   "outputs": [
    {
     "name": "stdout",
     "output_type": "stream",
     "text": [
      "(30, 4)\n",
      "(30, 0)\n",
      "8.0\n",
      "(30, 4)\n"
     ]
    }
   ],
   "source": [
    "print(Cdocc.shape)\n",
    "print(Csing.shape)\n",
    "P = 2*Cdocc@Cdocc.T + Csing@Csing.T\n",
    "print(np.trace(P@S))\n",
    "print(Ctot.shape)\n"
   ]
  },
  {
   "cell_type": "code",
   "execution_count": null,
   "id": "3de10ac6",
   "metadata": {},
   "outputs": [
    {
     "name": "stdout",
     "output_type": "stream",
     "text": [
      "(30, 3)\n"
     ]
    }
   ],
   "source": [
    "Ptot = Ctot @ Ctot.T\n",
    "Pact = Cact @ Cact.T \n",
    "Penv = Cenv @ Cenv.T\n",
    "Psing = Csing @ Csing.T\n",
    "Pdocc = Cdocc @ Cdocc.T\n",
    "Pvirt = Cvirt @ Cvirt.T\n",
    "print(Cenv.shape)"
   ]
  },
  {
   "cell_type": "code",
   "execution_count": null,
   "id": "bbbc6bb0",
   "metadata": {},
   "outputs": [],
   "source": []
  }
 ],
 "metadata": {
  "kernelspec": {
   "display_name": "Python 3 (ipykernel)",
   "language": "python",
   "name": "python3"
  },
  "language_info": {
   "codemirror_mode": {
    "name": "ipython",
    "version": 3
   },
   "file_extension": ".py",
   "mimetype": "text/x-python",
   "name": "python",
   "nbconvert_exporter": "python",
   "pygments_lexer": "ipython3",
   "version": "3.7.13"
  }
 },
 "nbformat": 4,
 "nbformat_minor": 5
}
