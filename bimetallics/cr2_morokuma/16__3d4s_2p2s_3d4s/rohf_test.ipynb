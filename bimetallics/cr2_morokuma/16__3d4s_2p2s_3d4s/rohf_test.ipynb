{
 "cells": [
  {
   "cell_type": "code",
   "execution_count": 17,
   "id": "872297e4-9d52-4b71-981b-9849bfa969ff",
   "metadata": {},
   "outputs": [],
   "source": [
    "import pyscf\n",
    "import pyscf.tools\n",
    "\n",
    "from spade_clustering import *"
   ]
  },
  {
   "cell_type": "code",
   "execution_count": 18,
   "id": "38a92200-02bd-4e3d-8a8b-39cae17e095c",
   "metadata": {},
   "outputs": [
    {
     "name": "stdout",
     "output_type": "stream",
     "text": [
      "symmetry:  Cs\n",
      "\n",
      "\n",
      "******** <class 'pyscf.scf.hf_symm.SymAdaptedROHF'> ********\n",
      "method = SymAdaptedROHF-ROHF-RHF\n",
      "initial guess = sad\n",
      "damping factor = 0\n",
      "level_shift factor = 0\n",
      "DIIS = <class 'pyscf.scf.diis.CDIIS'>\n",
      "diis_start_cycle = 1\n",
      "diis_space = 8\n",
      "SCF conv_tol = 1e-08\n",
      "SCF conv_tol_grad = 1e-05\n",
      "SCF max_cycles = 200\n",
      "direct_scf = True\n",
      "direct_scf_tol = 1e-13\n",
      "chkfile to save SCF result = scf.fchk\n",
      "max_memory 4000 MB (current use 0 MB)\n",
      "num. doubly occ = 5  num. singly occ = 3\n",
      "init E= -15.3068786812968\n",
      "HOMO (A') = -0.0514772431110082  LUMO (A') = 0.697658707042951\n",
      "cycle= 1 E= -15.7089655763235  delta_E= -0.402  |g|= 0.13  |ddm|= 1.16\n",
      "HOMO (A') = -0.120379087595762  LUMO (A') = 0.681816406674529\n",
      "cycle= 2 E= -15.7314732931088  delta_E= -0.0225  |g|= 0.0265  |ddm|= 0.388\n",
      "HOMO (A') = -0.0883523449275507  LUMO (A') = 0.683457077168596\n",
      "cycle= 3 E= -15.7323644181807  delta_E= -0.000891  |g|= 0.00231  |ddm|= 0.0787\n",
      "HOMO (A') = -0.0848665358224598  LUMO (A') = 0.682733582208056\n",
      "cycle= 4 E= -15.7323701283153  delta_E= -5.71e-06  |g|= 0.000268  |ddm|= 0.0061\n",
      "HOMO (A') = -0.0850058036256424  LUMO (A') = 0.682622345964204\n",
      "cycle= 5 E= -15.7323701822834  delta_E= -5.4e-08  |g|= 3.16e-05  |ddm|= 0.0005\n",
      "HOMO (A') = -0.0850228130143593  LUMO (A') = 0.682627595824671\n",
      "cycle= 6 E= -15.7323701829037  delta_E= -6.2e-10  |g|= 3.91e-06  |ddm|= 3.19e-05\n",
      "HOMO (A') = -0.085021765326503  LUMO (A') = 0.682628504808696\n",
      "Extra cycle  E= -15.7323701829171  delta_E= -1.34e-11  |g|= 1.07e-06  |ddm|= 6.1e-06\n",
      "converged SCF energy = -15.7323701829171\n",
      " Hartree-Fock Energy: -15.73237018\n"
     ]
    }
   ],
   "source": [
    "molecule = \"\"\"\n",
    "H 0.0 0.0 0.0\n",
    "H 2.0 0.0 0.0\n",
    "H 4.0 0.0 0.0\n",
    "He 0.0 2.0 0.0\n",
    "He 2.0 2.0 0.0\n",
    "He 4.0 2.0 0.0\n",
    "He 6.0 2.0 0.0\n",
    "He 8.0 2.0 0.0\n",
    "\"\"\"\n",
    "\n",
    "basis = \"def2-svp\"\n",
    "pymol = pyscf.gto.Mole(\n",
    "        atom    =   molecule,\n",
    "        symmetry=   True,\n",
    "        spin    =   3, # number of unpaired electrons\n",
    "        charge  =   0,\n",
    "        basis   =   basis)\n",
    "\n",
    "\n",
    "pymol.build()\n",
    "print(\"symmetry: \",pymol.topgroup)\n",
    "# mf = pyscf.scf.UHF(pymol).x2c()\n",
    "mf = pyscf.scf.ROHF(pymol)\n",
    "mf.verbose = 4\n",
    "mf.conv_tol = 1e-8\n",
    "mf.conv_tol_grad = 1e-5\n",
    "mf.chkfile = \"scf.fchk\"\n",
    "mf.init_guess = \"sad\"\n",
    "\n",
    "mf.run(max_cycle=200)\n",
    "\n",
    "print(\" Hartree-Fock Energy: %12.8f\" % mf.e_tot)\n",
    "# mf.analyze()\n",
    "\n",
    "# Get data\n",
    "F = mf.get_fock()\n",
    "C = mf.mo_coeff\n",
    "S = mf.get_ovlp()\n",
    "ndocc = mf.nelec[1]\n",
    "nsing = mf.nelec[0] - ndocc\n",
    "nvirt = mf.mol.nao - ndocc - nsing\n",
    "\n",
    "# Just use alpha orbitals\n",
    "Cdocc = mf.mo_coeff[:,0:ndocc]\n",
    "Csing = mf.mo_coeff[:,ndocc:ndocc+nsing]\n",
    "Cvirt = mf.mo_coeff[:,ndocc+nsing:ndocc+nsing+nvirt]\n",
    "\n",
    "nbas = Cdocc.shape[0]"
   ]
  },
  {
   "attachments": {},
   "cell_type": "markdown",
   "id": "926bfd1b",
   "metadata": {},
   "source": [
    "# Define Fragments by AOs"
   ]
  },
  {
   "cell_type": "code",
   "execution_count": 19,
   "id": "45633353-ae0c-47b2-ae89-8d9a66039cd9",
   "metadata": {
    "tags": []
   },
   "outputs": [
    {
     "name": "stdout",
     "output_type": "stream",
     "text": [
      "[[0, 5, 10, 15], [20, 25], [30]]\n"
     ]
    }
   ],
   "source": [
    "# Find AO's corresponding to atoms \n",
    "full = []\n",
    "frag1 = []\n",
    "frag2 = []\n",
    "frag3 = []\n",
    "for ao_idx,ao in enumerate(mf.mol.ao_labels(fmt=False)):\n",
    "    if ao[0] in (0, 1, 2, 3):\n",
    "        if ao[2] in (\"1s\",):\n",
    "            frag1.append(ao_idx)\n",
    "            full.append(ao_idx)\n",
    "    elif ao[0] in (4, 5):\n",
    "        if ao[2] in (\"1s\", ):\n",
    "            frag2.append(ao_idx)\n",
    "            full.append(ao_idx)\n",
    "    elif ao[0] == 6:\n",
    "        if ao[2] in (\"1s\", ):\n",
    "            frag3.append(ao_idx)\n",
    "            full.append(ao_idx)\n",
    "\n",
    "\n",
    "frags = [frag1, frag2, frag3]\n",
    "print(frags)\n"
   ]
  },
  {
   "attachments": {},
   "cell_type": "markdown",
   "id": "3efb9920",
   "metadata": {},
   "source": [
    "# Define Projectors\n",
    "We can choose to project onto the non-orthogonal AOs, or onto the symmetrically orthogonalized AOs."
   ]
  },
  {
   "cell_type": "code",
   "execution_count": 20,
   "id": "398f646b",
   "metadata": {},
   "outputs": [],
   "source": [
    "# Define projectors\n",
    "X = np.eye(nbas) \n",
    "X = scipy.linalg.sqrtm(S)\n",
    "Pfull = X[:,full]  # non-orthogonal\n",
    "Pf = []\n",
    "for f in frags:\n",
    "    Pf.append(X[:,f])\n"
   ]
  },
  {
   "attachments": {},
   "cell_type": "markdown",
   "id": "841d2ce9",
   "metadata": {},
   "source": [
    "# Project MOs onto all fragments\n",
    "For each orbital block (Docc, Sing, Virt), project each subspace onto the full list of fragment AOs. This will determine our full active space."
   ]
  },
  {
   "cell_type": "code",
   "execution_count": 21,
   "id": "b5553884",
   "metadata": {},
   "outputs": [
    {
     "name": "stdout",
     "output_type": "stream",
     "text": [
      " Partition   40 orbitals into a total of    7 orbitals\n",
      "            Index   Sing. Val. Space       \n",
      "                0   0.91194820            1*\n",
      "                1   0.84299860            0*\n",
      "                2   0.83375253            0*\n",
      "                3   0.82230440            0*\n",
      "                4   0.82173939            1*\n",
      "                5   0.81263553            0*\n",
      "                6   0.73671137            1*\n",
      "                7   0.17037483            2\n",
      "                8   0.16235909            2\n",
      "                9   0.15903726            2\n",
      "               10   0.15338327            2\n",
      "               11   0.14107874            2\n",
      "               12   0.11205413            2\n",
      "               13   0.05345282            2\n",
      "               14   0.00034498            0\n"
     ]
    }
   ],
   "source": [
    "(Oact, Sact, Vact), (Cenv, Cerr, _) = spade_partitioning((Cdocc, Csing, Cvirt), Pfull, S)\n",
    "assert(Cerr.shape[1] == 0)\n",
    "Cact = np.hstack((Oact,Vact))"
   ]
  },
  {
   "attachments": {},
   "cell_type": "markdown",
   "id": "d58103c3",
   "metadata": {},
   "source": [
    "# Split active space into fragments"
   ]
  },
  {
   "cell_type": "code",
   "execution_count": 22,
   "id": "5f16720a",
   "metadata": {},
   "outputs": [
    {
     "name": "stdout",
     "output_type": "stream",
     "text": [
      "\n",
      " Fragment:  [0, 5, 10, 15]\n",
      " Partition   40 orbitals into a total of    4 orbitals\n",
      "            Index   Sing. Val. Space       \n",
      "                0   0.90703023            1*\n",
      "                1   0.82702702            0*\n",
      "                2   0.81699651            1*\n",
      "                3   0.72712824            1*\n",
      "                4   0.16905040            2\n",
      "                5   0.15454588            2\n",
      "                6   0.11315940            2\n",
      "                7   0.08383598            0\n",
      "                8   0.07783348            0\n",
      "                9   0.05449459            2\n",
      "               10   0.00011709            0\n",
      "\n",
      " Fragment:  [20, 25]\n",
      " Partition   40 orbitals into a total of    2 orbitals\n",
      "            Index   Sing. Val. Space       \n",
      "                0   0.83753877            0*\n",
      "                1   0.81927326            0*\n",
      "                2   0.15685602            2\n",
      "                3   0.14678254            2\n",
      "                4   0.02164421            1\n",
      "                5   0.01867422            1\n",
      "\n",
      " Fragment:  [30]\n",
      " Partition   40 orbitals into a total of    1 orbitals\n",
      "            Index   Sing. Val. Space       \n",
      "                0   0.82978732            0*\n",
      "                1   0.15526564            2\n",
      "                2   0.00514568            1\n",
      " init_fspace:  [(4, 1), (2, 2), (1, 1)]\n",
      " clusters   :  [[1, 2, 3, 4], [5, 6], [7]]\n"
     ]
    }
   ],
   "source": [
    "# Project active orbitals onto fragments\n",
    "init_fspace = []\n",
    "clusters = []\n",
    "Cfrags = []\n",
    "orb_index = 1\n",
    "for fi,f in enumerate(frags):\n",
    "    print()\n",
    "    print(\" Fragment: \", f)\n",
    "    (Of, Sf, Vf), (_, _, _) = spade_partitioning((Cdocc, Csing, Cvirt), Pf[fi], S)\n",
    "    Cfrags.append(np.hstack((Of, Sf, Vf)))\n",
    "    ndocc_f = Of.shape[1]\n",
    "    init_fspace.append((ndocc_f+Sf.shape[1], ndocc_f))\n",
    "    nmof = Of.shape[1] + Sf.shape[1] + Vf.shape[1]\n",
    "    clusters.append(list(range(orb_index, orb_index+nmof)))\n",
    "    orb_index += nmof\n",
    "\n",
    "\n",
    "\n",
    "# Orthogonalize Fragment orbitals\n",
    "Cfrags = sym_ortho(Cfrags, S)\n",
    "\n",
    "Cact = np.hstack(Cfrags)\n",
    "\n",
    "# Write Molden files for visualization\n",
    "pyscf.tools.molden.from_mo(mf.mol, \"Pfull.molden\", Pfull)\n",
    "pyscf.tools.molden.from_mo(mf.mol, \"Cact.molden\", Cact)\n",
    "pyscf.tools.molden.from_mo(mf.mol, \"Cenv.molden\", Cenv)\n",
    "for i in range(len(frags)):\n",
    "    pyscf.tools.molden.from_mo(mf.mol, \"Cfrag%i.molden\"%i, Cfrags[i])\n",
    "\n",
    "print(\" init_fspace: \", init_fspace)\n",
    "print(\" clusters   : \", clusters)\n"
   ]
  },
  {
   "cell_type": "markdown",
   "id": "91dc633f-ee84-4875-bfed-57c9c3d7d0a6",
   "metadata": {},
   "source": [
    "# Make Integrals"
   ]
  },
  {
   "cell_type": "code",
   "execution_count": 23,
   "id": "eb3ac06f-7e94-420f-9635-6f64f27c7f05",
   "metadata": {},
   "outputs": [
    {
     "name": "stdout",
     "output_type": "stream",
     "text": [
      "(40, 1)\n",
      "(40, 7)\n",
      "(40, 40)\n"
     ]
    }
   ],
   "source": [
    "print(Cenv.shape)\n",
    "print(Cact.shape)\n",
    "d1_embed = 2 * Cenv @ Cenv.T\n",
    "\n",
    "h0 = pyscf.gto.mole.energy_nuc(mf.mol)\n",
    "h  = pyscf.scf.hf.get_hcore(mf.mol)\n",
    "j, k = pyscf.scf.hf.get_jk(mf.mol, d1_embed, hermi=1)\n",
    "\n",
    "print(h.shape)"
   ]
  },
  {
   "cell_type": "code",
   "execution_count": 24,
   "id": "130e7b7f-697e-4448-81f2-458931b4de8d",
   "metadata": {},
   "outputs": [],
   "source": [
    "h0 += np.trace(d1_embed @ ( h + .5*j - .25*k))\n",
    "\n",
    "h = Cact.T @ h @ Cact;\n",
    "j = Cact.T @ j @ Cact;\n",
    "k = Cact.T @ k @ Cact;"
   ]
  },
  {
   "cell_type": "code",
   "execution_count": 25,
   "id": "5047dda7-d4cc-4460-9f5a-0b34b7f16787",
   "metadata": {},
   "outputs": [],
   "source": [
    "nact = h.shape[0]\n",
    "\n",
    "h2 = pyscf.ao2mo.kernel(pymol, Cact, aosym=\"s4\", compact=False)\n",
    "h2.shape = (nact, nact, nact, nact)"
   ]
  },
  {
   "cell_type": "code",
   "execution_count": 26,
   "id": "eb9d44fb-b0ea-48c6-affd-481fc3405daa",
   "metadata": {},
   "outputs": [],
   "source": [
    "# The use of d1_embed only really makes sense if it has zero electrons in the\n",
    "# active space. Let's warn the user if that's not true\n",
    "\n",
    "S = pymol.intor(\"int1e_ovlp_sph\")\n",
    "n_act = np.trace(S @ d1_embed @ S @ Cact @ Cact.T)\n",
    "if abs(n_act) > 1e-8 == False:\n",
    "    print(n_act)\n",
    "    error(\" I found embedded electrons in the active space?!\")\n",
    "\n",
    "h1 = h + j - .5*k;\n"
   ]
  },
  {
   "cell_type": "code",
   "execution_count": 27,
   "id": "48548fca-bae3-46ea-94a6-fa73553eb91d",
   "metadata": {},
   "outputs": [],
   "source": [
    "np.save(\"ints_h0\", h0)\n",
    "np.save(\"ints_h1\", h1)\n",
    "np.save(\"ints_h2\", h2)\n",
    "np.save(\"mo_coeffs\", Cact)\n",
    "np.save(\"overlap_mat\", S)"
   ]
  },
  {
   "cell_type": "code",
   "execution_count": 28,
   "id": "0fa167fc",
   "metadata": {},
   "outputs": [],
   "source": [
    "import numpy as np\n",
    "Ccmf = np.load(\"Ccmf.npy\")\n",
    "pyscf.tools.molden.from_mo(mf.mol, \"Ccmf.molden\", Ccmf)\n"
   ]
  }
 ],
 "metadata": {
  "kernelspec": {
   "display_name": "Python 3 (ipykernel)",
   "language": "python",
   "name": "python3"
  },
  "language_info": {
   "codemirror_mode": {
    "name": "ipython",
    "version": 3
   },
   "file_extension": ".py",
   "mimetype": "text/x-python",
   "name": "python",
   "nbconvert_exporter": "python",
   "pygments_lexer": "ipython3",
   "version": "3.7.13"
  }
 },
 "nbformat": 4,
 "nbformat_minor": 5
}
