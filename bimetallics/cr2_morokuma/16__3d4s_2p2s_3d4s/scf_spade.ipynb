{
 "cells": [
  {
   "cell_type": "code",
   "execution_count": 1,
   "id": "872297e4-9d52-4b71-981b-9849bfa969ff",
   "metadata": {},
   "outputs": [],
   "source": [
    "import pyscf\n",
    "import pyscf.tools"
   ]
  },
  {
   "cell_type": "code",
   "execution_count": 2,
   "id": "38a92200-02bd-4e3d-8a8b-39cae17e095c",
   "metadata": {},
   "outputs": [],
   "source": [
    "molecule = \"\"\"\n",
    " Cr 0.82627800 -1.30446200 -0.96524300\n",
    " Cr -0.82625500 1.30449100 0.96521400\n",
    " O 0.00001100 0.00001500 -0.00001400\n",
    " N 2.71379100 -0.58517300 -0.32156700\n",
    " H 3.52017600 -0.87998300 -0.88101600\n",
    " H 2.98302700 -0.84252100 0.62848200\n",
    " H 2.75216700 0.43162900 -0.34666000\n",
    " N 0.90611400 -0.01191500 -2.64373800\n",
    " H 0.15767300 0.67336300 -2.59732700\n",
    " H 0.79520000 -0.45289000 -3.56150100\n",
    " H 1.76766300 0.52845600 -2.74461100\n",
    " N 0.74644200 -2.59700900 0.71325300\n",
    " H 0.86887400 -3.59499400 0.51496700\n",
    " H -0.15371900 -2.54555600 1.18538900\n",
    " H 1.44183900 -2.41670700 1.43797600\n",
    " N -1.06123500 -2.02375100 -1.60891800\n",
    " H -1.51982700 -2.67507800 -0.96956400\n",
    " H -1.07760500 -2.52098500 -2.50431600\n",
    " H -1.71705200 -1.25706600 -1.73635500\n",
    " N 1.78821400 -2.82312800 -2.08895700\n",
    " H 2.20721200 -2.51946500 -2.97231100\n",
    " H 1.19687500 -3.61071400 -2.36865500\n",
    " H 2.56853800 -3.28036700 -1.60828700\n",
    " N -2.71376800 0.58520300 0.32153900\n",
    " H -2.72742600 -0.43151600 0.28926300\n",
    " H -3.01495100 0.88961900 -0.60504900\n",
    " H -3.51124000 0.82996900 0.91689300\n",
    " N -0.90609100 0.01194400 2.64371000\n",
    " H -0.86251400 0.45862400 3.56440800\n",
    " H -0.11862500 -0.63055500 2.63771800\n",
    " H -1.73984000 -0.57546100 2.70589400\n",
    " N 1.06125800 2.02378000 1.60888900\n",
    " H 1.08580100 2.47872200 2.52630400\n",
    " H 1.50134100 2.71049000 0.99382500\n",
    " H 1.72819800 1.26071800 1.68834600\n",
    " N -0.74641900 2.59703800 -0.71328200\n",
    " H -0.92607700 3.58837700 -0.52509900\n",
    " H -1.40673500 2.37764300 -1.45939400\n",
    " H 0.17080800 2.59240800 -1.15542700\n",
    " N -1.78819100 2.82315700 2.08892800\n",
    " H -1.19783000 3.61531400 2.35756800\n",
    " H -2.19798000 2.52398300 2.97800300\n",
    " H -2.57540900 3.27269300 1.61233200\n",
    "\"\"\""
   ]
  },
  {
   "cell_type": "code",
   "execution_count": 3,
   "id": "45633353-ae0c-47b2-ae89-8d9a66039cd9",
   "metadata": {
    "tags": []
   },
   "outputs": [
    {
     "name": "stdout",
     "output_type": "stream",
     "text": [
      "symmetry:  C1\n"
     ]
    }
   ],
   "source": [
    "basis = \"def2-svp\"\n",
    "pymol = pyscf.gto.Mole(\n",
    "        atom    =   molecule,\n",
    "        symmetry=   True,\n",
    "        spin    =   6, # number of unpaired electrons\n",
    "        charge  =   4,\n",
    "        basis   =   basis)\n",
    "\n",
    "\n",
    "pymol.build()\n",
    "print(\"symmetry: \",pymol.topgroup)\n",
    "# mf = pyscf.scf.UHF(pymol).x2c()\n",
    "mf = pyscf.scf.ROHF(pymol)\n",
    "mf.verbose = 4\n",
    "mf.conv_tol = 1e-8\n",
    "mf.conv_tol_grad = 1e-5\n",
    "mf.chkfile = \"scf.fchk\"\n",
    "mf.init_guess = \"sad\"\n"
   ]
  },
  {
   "cell_type": "code",
   "execution_count": 4,
   "id": "398f646b",
   "metadata": {},
   "outputs": [
    {
     "name": "stdout",
     "output_type": "stream",
     "text": [
      "\n",
      "\n",
      "******** <class 'pyscf.scf.rohf.ROHF'> ********\n",
      "method = ROHF-RHF\n",
      "initial guess = sad\n",
      "damping factor = 0\n",
      "level_shift factor = 0\n",
      "DIIS = <class 'pyscf.scf.diis.CDIIS'>\n",
      "diis_start_cycle = 1\n",
      "diis_space = 8\n",
      "SCF conv_tol = 1e-08\n",
      "SCF conv_tol_grad = 1e-05\n",
      "SCF max_cycles = 200\n",
      "direct_scf = True\n",
      "direct_scf_tol = 1e-13\n",
      "chkfile to save SCF result = scf.fchk\n",
      "max_memory 4000 MB (current use 0 MB)\n",
      "num. doubly occ = 73  num. singly occ = 6\n",
      "init E= -2722.30649096233\n",
      "  HOMO = -0.180893429449332  LUMO = -0.0912350732357913\n",
      "cycle= 1 E= -2721.1028545124  delta_E=  1.2  |g|= 1.19  |ddm|= 4.33\n",
      "  HOMO = -0.484313365416376  LUMO = -0.390433229330059\n",
      "cycle= 2 E= -2721.51059453132  delta_E= -0.408  |g|= 0.767  |ddm|= 1.34\n",
      "  HOMO = -0.605933393834158  LUMO = -0.395171397843555\n",
      "cycle= 3 E= -2721.64016454842  delta_E= -0.13  |g|= 0.325  |ddm|= 0.681\n",
      "  HOMO = -0.651450051333488  LUMO = -0.390226849063734\n",
      "cycle= 4 E= -2721.66317490064  delta_E= -0.023  |g|= 0.105  |ddm|= 0.295\n",
      "  HOMO = -0.626041834704189  LUMO = -0.388861061598452\n",
      "cycle= 5 E= -2721.66730655483  delta_E= -0.00413  |g|= 0.0363  |ddm|= 0.13\n",
      "  HOMO = -0.639690862839945  LUMO = -0.38876903211623\n",
      "cycle= 6 E= -2721.66780861018  delta_E= -0.000502  |g|= 0.00699  |ddm|= 0.0515\n",
      "  HOMO = -0.639069790619936  LUMO = -0.38879890458059\n",
      "cycle= 7 E= -2721.66783418885  delta_E= -2.56e-05  |g|= 0.00242  |ddm|= 0.0153\n",
      "  HOMO = -0.63926359749916  LUMO = -0.388820956735835\n",
      "cycle= 8 E= -2721.66784052262  delta_E= -6.33e-06  |g|= 0.000678  |ddm|= 0.00812\n",
      "  HOMO = -0.639258356748978  LUMO = -0.38881039797529\n",
      "cycle= 9 E= -2721.66784092492  delta_E= -4.02e-07  |g|= 0.000269  |ddm|= 0.00235\n",
      "  HOMO = -0.63924005385891  LUMO = -0.38880645234134\n",
      "cycle= 10 E= -2721.66784098553  delta_E= -6.06e-08  |g|= 0.000116  |ddm|= 0.00132\n",
      "  HOMO = -0.639239313852081  LUMO = -0.388806452804151\n",
      "cycle= 11 E= -2721.6678409985  delta_E= -1.3e-08  |g|= 4.48e-05  |ddm|= 0.000679\n",
      "  HOMO = -0.639239900323423  LUMO = -0.388806599370865\n",
      "cycle= 12 E= -2721.66784100052  delta_E= -2.01e-09  |g|= 1.95e-05  |ddm|= 0.000335\n",
      "  HOMO = -0.639241197975876  LUMO = -0.388806511680972\n",
      "cycle= 13 E= -2721.66784100089  delta_E= -3.74e-10  |g|= 9.93e-06  |ddm|= 0.000114\n",
      "  HOMO = -0.63924139150041  LUMO = -0.388806480363774\n",
      "Extra cycle  E= -2721.66784100094  delta_E= -4.73e-11  |g|= 9.15e-06  |ddm|= 4.86e-05\n",
      "converged SCF energy = -2721.66784100094\n",
      " Hartree-Fock Energy: -2721.66784100\n"
     ]
    }
   ],
   "source": [
    "\n",
    "mf.run(max_cycle=200)\n",
    "\n",
    "print(\" Hartree-Fock Energy: %12.8f\" % mf.e_tot)\n",
    "# mf.analyze()"
   ]
  },
  {
   "cell_type": "code",
   "execution_count": 5,
   "id": "e4358a91-3329-4260-ad48-a9696651d9da",
   "metadata": {},
   "outputs": [],
   "source": [
    "F = mf.get_fock()"
   ]
  },
  {
   "cell_type": "code",
   "execution_count": 78,
   "id": "3bc8b61e-6809-4ebf-8d95-22a907d8115c",
   "metadata": {
    "tags": []
   },
   "outputs": [],
   "source": [
    "import numpy as np\n",
    "import scipy\n",
    "import copy as cp\n",
    "import math\n",
    "\n",
    "\n",
    "def sym_ortho(frags, S, thresh=1e-8):\n",
    "    \"\"\"\n",
    "    frags is a list of mo-coeff matrices\n",
    "    \"\"\"\n",
    "    Nbas = S.shape[1]\n",
    "    \n",
    "    inds = []\n",
    "    Cnonorth = np.hstack(frags)\n",
    "    shift = 0\n",
    "    for f in frags:\n",
    "        inds.append(list(range(shift, shift+f.shape[1])))\n",
    "        shift += f.shape[1]\n",
    "        \n",
    "    \n",
    "    Smo = Cnonorth.T @ S @ Cnonorth\n",
    "    X = np.linalg.inv(scipy.linalg.sqrtm(Smo))\n",
    "    # print(Cnonorth.shape, X.shape)\n",
    "    Corth = Cnonorth @ X\n",
    "    \n",
    "    frags2 = []\n",
    "    for f in inds:\n",
    "        frags2.append(Corth[:,f])\n",
    "    return frags2\n"
   ]
  },
  {
   "cell_type": "code",
   "execution_count": 79,
   "id": "188b17eb-9fbe-492e-aad8-7e36688be0d3",
   "metadata": {},
   "outputs": [
    {
     "name": "stdout",
     "output_type": "stream",
     "text": [
      "[[3, 14, 15, 16, 17, 18], [63, 65, 66, 67], [34, 45, 46, 47, 48, 49]]\n"
     ]
    }
   ],
   "source": [
    "import scipy\n",
    "\n",
    "# Find AO's corresponding to atoms \n",
    "# print(mf.mol.aoslice_by_atom())\n",
    "# print(mf.mol.ao_labels(fmt=False, base=0))\n",
    "full = []\n",
    "frag1 = []\n",
    "frag2 = []\n",
    "frag3 = []\n",
    "for ao_idx,ao in enumerate(mf.mol.ao_labels(fmt=False)):\n",
    "    if ao[0] == 0:\n",
    "        if ao[2] in (\"3d\", \"4s\"):\n",
    "            frag1.append(ao_idx)\n",
    "            full.append(ao_idx)\n",
    "    elif ao[0] == 2:\n",
    "        if ao[2] in (\"2s\", \"2p\"):\n",
    "            frag2.append(ao_idx)\n",
    "            full.append(ao_idx)\n",
    "    elif ao[0] == 1:\n",
    "        if ao[2] in (\"3d\", \"4s\"):\n",
    "            frag3.append(ao_idx)\n",
    "            full.append(ao_idx)\n",
    "\n",
    "\n",
    "frags = [frag1, frag2, frag3]\n",
    "print(frags)\n",
    "\n"
   ]
  },
  {
   "cell_type": "code",
   "execution_count": 80,
   "metadata": {},
   "outputs": [
    {
     "name": "stdout",
     "output_type": "stream",
     "text": [
      "73 6 287\n",
      "(366, 73)\n",
      "(366, 6)\n",
      "(366, 287)\n",
      " Doubly Occupied\n",
      " Frag:  [3, 14, 15, 16, 17, 18, 34, 45, 46, 47, 48, 49, 63, 65, 66, 67]\n",
      "Singular Values\n",
      "    0 :   0.73870673\n",
      "    1 :   0.69762751\n",
      "    2 :   0.69743161\n",
      "    3 :   0.69445123\n",
      "    4 :   0.36995973\n",
      "    5 :   0.36317037\n",
      "    6 :   0.24960301\n",
      "    7 :   0.24831048\n",
      "    8 :   0.20187650\n",
      "    9 :   0.17407653\n",
      "   10 :   0.03274360\n",
      "   11 :   0.03261201\n",
      "   12 :   0.03038757\n",
      "   13 :   0.03028218\n",
      "   14 :   0.02765145\n",
      "   15 :   0.02757821\n",
      " Doubly Unoccupied\n",
      " Frag:  [3, 14, 15, 16, 17, 18, 34, 45, 46, 47, 48, 49, 63, 65, 66, 67]\n",
      "Singular Values\n",
      "    0 :   0.98473213\n",
      "    1 :   0.97941099\n",
      "    2 :   0.96868051\n",
      "    3 :   0.96834827\n",
      "    4 :   0.93172278\n",
      "    5 :   0.92904780\n",
      "    6 :   0.71953982\n",
      "    7 :   0.71728448\n",
      "    8 :   0.71708714\n",
      "    9 :   0.67402704\n",
      "   10 :   0.34764231\n",
      "   11 :   0.34668957\n",
      "   12 :   0.34375203\n",
      "   13 :   0.34350825\n",
      "   14 :   0.30347675\n",
      "   15 :   0.30332149\n"
     ]
    }
   ],
   "source": [
    "def svd_orbs(C, frag, S, thresh=1e-7, verbose=2):\n",
    "    print(\" Frag: \", frag)\n",
    "    X = scipy.linalg.sqrtm(S)\n",
    "    Cfrag = X@C\n",
    "    \n",
    "    _,s,V = np.linalg.svd(Cfrag[frag,:], full_matrices=True)\n",
    "    print(\"Singular Values\")\n",
    "    for i in range(len(s)):\n",
    "        print(\" %4i : %12.8f\" %(i, s[i]))\n",
    "    return C @ V.T\n",
    "\n",
    "def rmv_svd_orbs(C, frag, S, thresh=1e-7, verbose=2):\n",
    "    print(\" Frag: \", frag)\n",
    "    X = scipy.linalg.sqrtm(S)\n",
    "    Xinv = scipy.linalg.inv(X)\n",
    "\n",
    "    proj_basis = X[:,frag]\n",
    "    Cfrag = proj_basis.T @ C\n",
    "    \n",
    "    U,s,V = np.linalg.svd(Cfrag, full_matrices=True)\n",
    "    print(\"Singular Values\")\n",
    "    for i in range(len(s)):\n",
    "        print(\" %4i : %12.8f\" %(i, s[i]))\n",
    "    return proj_basis @ U\n",
    "\n",
    "C = mf.mo_coeff\n",
    "S = mf.get_ovlp()\n",
    "ndocc = mf.nelec[1]\n",
    "nsing = mf.nelec[0] - ndocc\n",
    "nvirt = mf.mol.nao - ndocc - nsing\n",
    "# Just use alpha orbitals\n",
    "Cdocc = mf.mo_coeff[:,0:ndocc]\n",
    "Csing = mf.mo_coeff[:,ndocc:ndocc+nsing]\n",
    "Cvirt = mf.mo_coeff[:,ndocc+nsing:ndocc+nsing+nvirt]\n",
    "print(ndocc, nsing, nvirt)\n",
    "print(Cdocc.shape)\n",
    "print(Csing.shape)\n",
    "print(Cvirt.shape)\n",
    "\n",
    "print(\" Doubly Occupied\")\n",
    "Cdocc = svd_orbs(Cdocc, full, S)\n",
    "print(\" Doubly Unoccupied\")\n",
    "Cvirt = svd_orbs(Cvirt, full, S)\n",
    "\n",
    "# Ctmp = rmv_svd_orbs(Csing, full, S)\n",
    "\n",
    "pyscf.tools.molden.from_mo(mf.mol, \"Cdocc.molden\", Cdocc)\n",
    "pyscf.tools.molden.from_mo(mf.mol, \"Cvirt.molden\", Cvirt)\n",
    "# pyscf.tools.molden.from_mo(mf.mol, \"Ctmp.molden\", Ctmp)"
   ]
  },
  {
   "attachments": {},
   "cell_type": "markdown",
   "id": "70f2ebc6",
   "metadata": {},
   "source": [
    "# Possible Active Spaces\n",
    "\n",
    "These orbitals could be divided up into a series of well-defined active spaces: `(O,S,V)`\n",
    "1. Active Space 16: `(4,6,6)`\n",
    "    - **Cr:** 3d, 4s\n",
    "    - **O:**  2p, 2s \n",
    "2. Active Space 20: `(4,6,10)`\n",
    "    - **Cr:** 3d, 4s\n",
    "    - **O:**  2p, 2s, 3p, 3s  \n",
    "3. Active Space 26: `(4,6,16)`\n",
    "    - **Cr:** 3d, 4s, 4d, 5s\n",
    "    - **O:**  2p, 2s, 3p, 3s  \n",
    "4. Active Space 32: `(10,6,16)`\n",
    "    - **Cr:** 3d, 4s, 4d, 5s, Cr-N sigma\n",
    "    - **O:**  2p, 2s, 3p, 3s  \n",
    "5. Active Space 38: `(16,6,16)`\n",
    "    \n",
    "    Starts to extend onto NH3 groups due to overlap with he target 4s\n",
    "    - **Cr:** 3d, 4s, 4d, 5s, Cr-N sigma\n",
    "    - **O:**  2p, 2s, 3p, 3s  \n",
    "    - **N:**  N-H bonds \n",
    "\n",
    "# Active Space 16\n",
    "\n",
    "We will start with just the orbitals most directly related to the user defined `valence space`"
   ]
  },
  {
   "cell_type": "code",
   "execution_count": 84,
   "id": "2bc23859",
   "metadata": {},
   "outputs": [
    {
     "name": "stdout",
     "output_type": "stream",
     "text": [
      "(366, 68)\n",
      "(366, 16)\n",
      "Should be zero:  -1.4399014857672325e-16\n",
      " Frag:  [3, 14, 15, 16, 17, 18]\n",
      "Singular Values\n",
      "    0 :   0.96851041\n",
      "    1 :   0.95615989\n",
      "    2 :   0.94265701\n",
      "    3 :   0.94257732\n",
      "    4 :   0.93723667\n",
      "    5 :   0.92064148\n",
      " Frag:  [63, 65, 66, 67]\n",
      "Singular Values\n",
      "    0 :   0.79998564\n",
      "    1 :   0.72422779\n",
      "    2 :   0.70494776\n",
      "    3 :   0.70469377\n",
      " Frag:  [34, 45, 46, 47, 48, 49]\n",
      "Singular Values\n",
      "    0 :   0.96851816\n",
      "    1 :   0.95615798\n",
      "    2 :   0.94266132\n",
      "    3 :   0.94257629\n",
      "    4 :   0.93723640\n",
      "    5 :   0.92063933\n"
     ]
    }
   ],
   "source": [
    "nact_docc = 4\n",
    "nact_virt = 6\n",
    "\n",
    "nfrzn = Cdocc.shape[1] - nact_docc\n",
    "Cenv = Cdocc[:,nact_docc:-1]\n",
    "Cact = np.hstack((Cdocc[:,0:nact_docc], Csing, Cvirt[:,0:nact_virt]))\n",
    "print(Cenv.shape)\n",
    "print(Cact.shape)\n",
    "print(\"Should be zero: \", np.trace(Cenv.T@S@Cact@Cact.T@Cenv))\n",
    "\n",
    "Cfrag1 = svd_orbs(Cact, frag1, S)[:,0:6]\n",
    "Cfrag2 = svd_orbs(Cact, frag2, S)[:,0:4]\n",
    "Cfrag3 = svd_orbs(Cact, frag3, S)[:,0:6]\n",
    "\n",
    "Cfrag1, Cfrag2, Cfrag3 = sym_ortho((Cfrag1, Cfrag2, Cfrag3), S)\n",
    "\n",
    "pyscf.tools.molden.from_mo(mf.mol, \"Cact.molden\", Cact)\n",
    "\n",
    "pyscf.tools.molden.from_mo(mf.mol, \"Cfrag1.molden\", Cfrag1)\n",
    "pyscf.tools.molden.from_mo(mf.mol, \"Cfrag2.molden\", Cfrag2)\n",
    "pyscf.tools.molden.from_mo(mf.mol, \"Cfrag3.molden\", Cfrag3)\n",
    "\n",
    "Ctot = np.hstack((Cfrag1, Cfrag2, Cfrag3))\n",
    "pyscf.tools.molden.from_mo(mf.mol, \"Ctot.molden\", Ctot)\n"
   ]
  },
  {
   "cell_type": "code",
   "execution_count": 85,
   "id": "aedcb7a2-770b-4b6a-b2be-8c113549f3cd",
   "metadata": {
    "tags": []
   },
   "outputs": [
    {
     "name": "stdout",
     "output_type": "stream",
     "text": [
      "[[0, 1, 2, 3, 4, 5], [6, 7, 8, 9], [10, 11, 12, 13, 14, 15]]\n",
      "[(3, 0), (4, 4), (3, 0)]\n"
     ]
    }
   ],
   "source": [
    "clusters = [list(range(0,6)), list(range(6,10)), list(range(10,16))]\n",
    "init_fspace = [(3,0), (4,4), (3,0)]\n",
    "print(clusters)\n",
    "print(init_fspace)"
   ]
  },
  {
   "cell_type": "markdown",
   "id": "91dc633f-ee84-4875-bfed-57c9c3d7d0a6",
   "metadata": {},
   "source": [
    "# Make Integrals"
   ]
  },
  {
   "cell_type": "code",
   "execution_count": 86,
   "id": "eb3ac06f-7e94-420f-9635-6f64f27c7f05",
   "metadata": {},
   "outputs": [],
   "source": [
    "d1_embed = 2 * Cenv @ Cenv.T\n",
    "\n",
    "h0 = pyscf.gto.mole.energy_nuc(mf.mol)\n",
    "h  = pyscf.scf.hf.get_hcore(mf.mol)\n",
    "j, k = pyscf.scf.hf.get_jk(mf.mol, d1_embed, hermi=1)"
   ]
  },
  {
   "cell_type": "code",
   "execution_count": 87,
   "id": "130e7b7f-697e-4448-81f2-458931b4de8d",
   "metadata": {},
   "outputs": [],
   "source": [
    "h0 += np.trace(d1_embed @ ( h + .5*j - .25*k))\n",
    "\n",
    "h = Ctot.T @ h @ Ctot;\n",
    "j = Ctot.T @ j @ Ctot;\n",
    "k = Ctot.T @ k @ Ctot;"
   ]
  },
  {
   "cell_type": "code",
   "execution_count": 88,
   "id": "5047dda7-d4cc-4460-9f5a-0b34b7f16787",
   "metadata": {},
   "outputs": [],
   "source": [
    "nact = h.shape[0]\n",
    "\n",
    "h2 = pyscf.ao2mo.kernel(pymol, Ctot, aosym=\"s4\", compact=False)\n",
    "h2.shape = (nact, nact, nact, nact)"
   ]
  },
  {
   "cell_type": "code",
   "execution_count": 89,
   "id": "eb9d44fb-b0ea-48c6-affd-481fc3405daa",
   "metadata": {},
   "outputs": [],
   "source": [
    "# The use of d1_embed only really makes sense if it has zero electrons in the\n",
    "# active space. Let's warn the user if that's not true\n",
    "\n",
    "S = pymol.intor(\"int1e_ovlp_sph\")\n",
    "n_act = np.trace(S @ d1_embed @ S @ Ctot @ Ctot.T)\n",
    "if abs(n_act) > 1e-8 == False:\n",
    "    print(n_act)\n",
    "    error(\" I found embedded electrons in the active space?!\")\n",
    "\n",
    "h1 = h + j - .5*k;\n"
   ]
  },
  {
   "cell_type": "code",
   "execution_count": 90,
   "id": "48548fca-bae3-46ea-94a6-fa73553eb91d",
   "metadata": {},
   "outputs": [],
   "source": [
    "np.save(\"ints_h0\", h0)\n",
    "np.save(\"ints_h1\", h1)\n",
    "np.save(\"ints_h2\", h2)\n",
    "np.save(\"mo_coeffs\", Ctot)\n",
    "np.save(\"overlap_mat\", S)"
   ]
  },
  {
   "cell_type": "code",
   "execution_count": 73,
   "id": "0fa167fc",
   "metadata": {},
   "outputs": [],
   "source": [
    "import numpy as np\n",
    "Ccmf = np.load(\"Ccmf.npy\")\n",
    "pyscf.tools.molden.from_mo(mf.mol, \"Ccmf.molden\", Ccmf)\n"
   ]
  },
  {
   "cell_type": "code",
   "execution_count": 91,
   "id": "e99cf07d",
   "metadata": {},
   "outputs": [
    {
     "name": "stdout",
     "output_type": "stream",
     "text": [
      "(366, 73)\n",
      "(366, 6)\n",
      "152.00000000000006\n",
      "(366, 16)\n"
     ]
    }
   ],
   "source": [
    "print(Cdocc.shape)\n",
    "print(Csing.shape)\n",
    "P = 2*Cdocc@Cdocc.T + Csing@Csing.T\n",
    "print(np.trace(P@S))\n",
    "print(Ctot.shape)\n"
   ]
  },
  {
   "cell_type": "code",
   "execution_count": 75,
   "id": "3de10ac6",
   "metadata": {},
   "outputs": [
    {
     "data": {
      "text/plain": [
       "3.8094056520453717e-28"
      ]
     },
     "execution_count": 75,
     "metadata": {},
     "output_type": "execute_result"
    }
   ],
   "source": [
    "Ptot = Ctot @ Ctot.T\n",
    "Pact = Cact @ Cact.T \n",
    "Penv = Cenv @ Cenv.T\n",
    "Psing = Csing @ Csing.T\n",
    "Pdocc = Cdocc @ Cdocc.T\n",
    "Pvirt = Cvirt @ Cvirt.T"
   ]
  }
 ],
 "metadata": {
  "kernelspec": {
   "display_name": "Python 3 (ipykernel)",
   "language": "python",
   "name": "python3"
  },
  "language_info": {
   "codemirror_mode": {
    "name": "ipython",
    "version": 3
   },
   "file_extension": ".py",
   "mimetype": "text/x-python",
   "name": "python",
   "nbconvert_exporter": "python",
   "pygments_lexer": "ipython3",
   "version": "3.7.13"
  }
 },
 "nbformat": 4,
 "nbformat_minor": 5
}
