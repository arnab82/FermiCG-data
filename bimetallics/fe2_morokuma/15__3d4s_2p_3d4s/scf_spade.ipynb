{
 "cells": [
  {
   "cell_type": "code",
   "execution_count": 1,
   "id": "872297e4-9d52-4b71-981b-9849bfa969ff",
   "metadata": {},
   "outputs": [],
   "source": [
    "import pyscf\n",
    "import pyscf.tools\n",
    "import scipy\n",
    "import numpy as np\n",
    "\n",
    "from orbitalpartitioning import *"
   ]
  },
  {
   "cell_type": "code",
   "execution_count": 2,
   "id": "38a92200-02bd-4e3d-8a8b-39cae17e095c",
   "metadata": {},
   "outputs": [
    {
     "name": "stdout",
     "output_type": "stream",
     "text": [
      "symmetry:  C2\n",
      "\n",
      "\n",
      "******** <class 'pyscf.scf.hf_symm.SymAdaptedROHF'> Newton solver flags ********\n",
      "SCF tol = 1e-08\n",
      "conv_tol_grad = 1e-05\n",
      "max. SCF cycles = 200\n",
      "direct_scf = True\n",
      "direct_scf_tol = 1e-13\n",
      "chkfile to save SCF result = scf.fchk\n",
      "max_cycle_inner = 12\n",
      "max_stepsize = 0.05\n",
      "ah_start_tol = 1e+09\n",
      "ah_level_shift = 0\n",
      "ah_conv_tol = 1e-12\n",
      "ah_lindep = 1e-14\n",
      "ah_start_cycle = 1\n",
      "ah_max_cycle = 40\n",
      "ah_grad_trust_region = 2.5\n",
      "kf_interval = 4\n",
      "kf_trust_region = 5\n",
      "canonicalization = True\n",
      "max_memory 4000 MB (current use 120 MB)\n",
      "HOMO (B) = 0.318236980196578  LUMO (A) = 0.320979897364211\n",
      "Initial guess E= -5347.01305352179  |g|= 4.92607\n",
      "macro= 0  E= -5354.09525943034  delta_E= -7.08221  |g|= 1.2839  3 KF 15 JK\n",
      "macro= 1  E= -5354.99700870195  delta_E= -0.901749  |g|= 0.380059  3 KF 16 JK\n",
      "macro= 2  E= -5355.40185091215  delta_E= -0.404842  |g|= 0.324421  3 KF 17 JK\n",
      "macro= 3  E= -5355.82121744053  delta_E= -0.419367  |g|= 0.146705  3 KF 18 JK\n",
      "macro= 4  E= -5355.88710224331  delta_E= -0.0658848  |g|= 0.199741  2 KF 7 JK\n",
      "macro= 5  E= -5355.88866617962  delta_E= -0.00156394  |g|= 4.38019e-05  4 KF 16 JK\n",
      "macro= 6  E= -5355.88866617961  delta_E= 4.54747e-12  |g|= 2.71225e-06  1 KF 2 JK\n",
      "Canonicalize SCF orbitals\n",
      "macro X = 7  E=-5355.88866617961  |g|= 2.71225e-06  total 20 KF 99 JK\n",
      "converged SCF energy = -5355.88866617961\n",
      " Hartree-Fock Energy: -5355.88866618\n"
     ]
    }
   ],
   "source": [
    "molecule = \"\"\"\n",
    " Fe 1.67785607 0.00052233 0.06475932\n",
    " O 0.00000000 0.00000000 -0.47099074\n",
    " Fe -1.67785607 -0.00052233 0.06475932\n",
    " Cl 1.87002704 -1.09796437 1.99091682\n",
    " Cl 2.93244917 -0.98210488 -1.47467288\n",
    " Cl 2.37160936 2.07954091 -0.50446591\n",
    " Cl -1.87002704 1.09796437 1.99091682\n",
    " Cl -2.93244917 0.98210488 -1.47467288\n",
    " Cl -2.37160936 -2.07954091 -0.50446591\n",
    "\"\"\"\n",
    "\n",
    "basis = \"def2-svp\"\n",
    "pymol = pyscf.gto.Mole(\n",
    "        atom    =   molecule,\n",
    "        symmetry=   True,\n",
    "        spin    =   10, # number of unpaired electrons\n",
    "        charge  =   -2,\n",
    "        basis   =   basis)\n",
    "\n",
    "\n",
    "pymol.build()\n",
    "print(\"symmetry: \",pymol.topgroup)\n",
    "# mf = pyscf.scf.UHF(pymol).x2c()\n",
    "mf = pyscf.scf.ROHF(pymol).newton()\n",
    "mf.verbose = 4\n",
    "mf.conv_tol = 1e-8\n",
    "mf.conv_tol_grad = 1e-5\n",
    "mf.chkfile = \"scf.fchk\"\n",
    "mf.init_guess = \"sad\"\n",
    "\n",
    "mf.run(max_cycle=200)\n",
    "\n",
    "print(\" Hartree-Fock Energy: %12.8f\" % mf.e_tot)\n",
    "# mf.analyze()\n",
    "\n",
    "# Get data\n",
    "F = mf.get_fock()\n",
    "C = mf.mo_coeff\n",
    "S = mf.get_ovlp()\n",
    "ndocc = mf.nelec[1]\n",
    "nsing = mf.nelec[0] - ndocc\n",
    "nvirt = mf.mol.nao - ndocc - nsing\n",
    "\n",
    "# Just use alpha orbitals\n",
    "Cdocc = mf.mo_coeff[:,0:ndocc]\n",
    "Csing = mf.mo_coeff[:,ndocc:ndocc+nsing]\n",
    "Cvirt = mf.mo_coeff[:,ndocc+nsing:ndocc+nsing+nvirt]\n",
    "\n",
    "nbas = Cdocc.shape[0]"
   ]
  },
  {
   "attachments": {},
   "cell_type": "markdown",
   "id": "926bfd1b",
   "metadata": {},
   "source": [
    "# Define Fragments by AOs"
   ]
  },
  {
   "cell_type": "code",
   "execution_count": 3,
   "id": "45633353-ae0c-47b2-ae89-8d9a66039cd9",
   "metadata": {
    "tags": []
   },
   "outputs": [
    {
     "name": "stdout",
     "output_type": "stream",
     "text": [
      "[[3, 14, 15, 16, 17, 18], [34, 35, 36], [48, 59, 60, 61, 62, 63]]\n"
     ]
    }
   ],
   "source": [
    "# Find AO's corresponding to atoms\n",
    "full = []\n",
    "frag1 = []\n",
    "frag2 = []\n",
    "frag3 = []\n",
    "for ao_idx,ao in enumerate(mf.mol.ao_labels(fmt=False)):\n",
    "    if ao[0] == 0:\n",
    "        if ao[2] in (\"3d\",\"4s\"):\n",
    "            frag1.append(ao_idx)\n",
    "            full.append(ao_idx)\n",
    "    elif ao[0] == 1:\n",
    "        if ao[2] in ( \"2p\"):\n",
    "            frag2.append(ao_idx)\n",
    "            full.append(ao_idx)\n",
    "    elif ao[0] == 2:\n",
    "        if ao[2] in (\"3d\",\"4s\"):\n",
    "            frag3.append(ao_idx)\n",
    "            full.append(ao_idx)\n",
    "\n",
    "\n",
    "frags = [frag1, frag2, frag3]\n",
    "print(frags)\n"
   ]
  },
  {
   "attachments": {},
   "cell_type": "markdown",
   "id": "3efb9920",
   "metadata": {},
   "source": [
    "# Define Projectors\n",
    "We can choose to project onto the non-orthogonal AOs, or onto the symmetrically orthogonalized AOs."
   ]
  },
  {
   "cell_type": "code",
   "execution_count": 4,
   "id": "398f646b",
   "metadata": {},
   "outputs": [],
   "source": [
    "# Define projectors\n",
    "X = scipy.linalg.sqrtm(S)\n",
    "X = np.eye(nbas) \n",
    "Pfull = X[:,full]  # non-orthogonal\n",
    "Pf = []\n",
    "for f in frags:\n",
    "    Pf.append(X[:,f])\n"
   ]
  },
  {
   "attachments": {},
   "cell_type": "markdown",
   "id": "841d2ce9",
   "metadata": {},
   "source": [
    "# Project MOs onto all fragments\n",
    "For each orbital block (Docc, Sing, Virt), project each subspace onto the full list of fragment AOs. This will determine our full active space."
   ]
  },
  {
   "cell_type": "code",
   "execution_count": 5,
   "id": "b5553884",
   "metadata": {},
   "outputs": [
    {
     "name": "stdout",
     "output_type": "stream",
     "text": [
      " Partition  184 orbitals into a total of   15 orbitals\n",
      "            Index   Sing. Val. Space       \n",
      "                0   0.97416926            1*\n",
      "                1   0.97239346            1*\n",
      "                2   0.96918728            1*\n",
      "                3   0.96873668            1*\n",
      "                4   0.95882949            1*\n",
      "                5   0.95814895            1*\n",
      "                6   0.95593779            1*\n",
      "                7   0.95128014            1*\n",
      "                8   0.94512317            1*\n",
      "                9   0.94443198            1*\n",
      "               10   0.94284007            0*\n",
      "               11   0.85566884            0*\n",
      "               12   0.85557898            0*\n",
      "               13   0.82847144            0*\n",
      "               14   0.77354792            0*\n",
      "               15   0.74459797            2\n",
      "               16   0.57630061            2\n",
      "               17   0.51873987            2\n",
      "               18   0.45625500            2\n",
      "               19   0.34139223            2\n",
      "               20   0.25013060            0\n",
      "               21   0.24790715            0\n",
      "               22   0.22485729            2\n",
      "               23   0.22293398            2\n",
      "               24   0.22126218            2\n",
      "               25   0.22001675            2\n",
      "               26   0.21984348            2\n",
      "               27   0.21864788            2\n",
      "               28   0.21523880            2\n",
      "               29   0.21264546            2\n",
      "               30   0.19142676            2\n",
      "               31   0.19093636            2\n",
      "               32   0.19016607            0\n",
      "               33   0.18820631            0\n",
      "               34   0.18770426            0\n",
      "               35   0.11795849            0\n",
      "               36   0.11339367            0\n",
      "               37   0.11049045            0\n",
      "               38   0.09735452            0\n",
      "               39   0.09415464            0\n"
     ]
    }
   ],
   "source": [
    "(Oact, Sact, Vact), (Cenv, Cerr, _) = svd_subspace_partitioning((Cdocc, Csing, Cvirt), Pfull, S)\n",
    "assert(Cerr.shape[1] == 0)\n",
    "Cact = np.hstack((Oact, Sact, Vact))"
   ]
  },
  {
   "attachments": {},
   "cell_type": "markdown",
   "id": "d58103c3",
   "metadata": {},
   "source": [
    "# Split active space into fragments"
   ]
  },
  {
   "cell_type": "code",
   "execution_count": 7,
   "id": "5f16720a",
   "metadata": {},
   "outputs": [
    {
     "name": "stdout",
     "output_type": "stream",
     "text": [
      "\n",
      " Fragment:  [3, 14, 15, 16, 17, 18]\n",
      " Partition   15 orbitals into a total of    6 orbitals\n",
      "            Index   Sing. Val. Space       \n",
      "                0   0.96411301            1*\n",
      "                1   0.96131383            1*\n",
      "                2   0.95024086            1*\n",
      "                3   0.94032424            1*\n",
      "                4   0.92632666            1*\n",
      "                5   0.84505672            0*\n",
      "                6   0.26374134            0\n",
      "                7   0.16837249            0\n",
      "                8   0.15921263            0\n",
      "                9   0.02633973            1\n",
      "               10   0.00092274            0\n",
      "\n",
      " Fragment:  [34, 35, 36]\n",
      " Partition   15 orbitals into a total of    3 orbitals\n",
      "            Index   Sing. Val. Space       \n",
      "                0   0.82386320            0*\n",
      "                1   0.81776666            0*\n",
      "                2   0.81627696            0*\n",
      "                3   0.26475729            1\n",
      "                4   0.23846317            1\n",
      "                5   0.23752622            1\n",
      "\n",
      " Fragment:  [48, 59, 60, 61, 62, 63]\n",
      " Partition   15 orbitals into a total of    6 orbitals\n",
      "            Index   Sing. Val. Space       \n",
      "                0   0.96411301            1*\n",
      "                1   0.96131383            1*\n",
      "                2   0.95024086            1*\n",
      "                3   0.94032424            1*\n",
      "                4   0.92632666            1*\n",
      "                5   0.84505672            0*\n",
      "                6   0.26374134            0\n",
      "                7   0.16837249            0\n",
      "                8   0.15921263            0\n",
      "                9   0.02633973            1\n",
      "               10   0.00092274            0\n",
      "\n",
      "WARN: orbitals [ 0  1  2  3  4  5  9 10 11 12 13 14] not symmetrized, norm = [0.57950892 0.5        0.5        0.5        0.5        0.5\n",
      " 0.57950892 0.5        0.5        0.5        0.5        0.5       ]\n",
      "\n",
      "\n",
      "WARN: orbitals [ 0  1  2  3  4  5  9 10 11 12 13 14] not symmetrized, norm = [0.5 0.5 0.5 0.5 0.5 0.5 0.5 0.5 0.5 0.5 0.5 0.5]\n",
      "\n",
      "\n",
      "WARN: orbitals [10 11 12 13 14 15 16 17 18 19 20 21 22 23 24 25 26 27 28 29 30 31 32 33\n",
      " 34 35 36 37 38 39 40 41 42 43 44 45 46 47 48 49 50 51 52 53 54 55 56 57\n",
      " 58 59 60 61 62 63 64 65 66 67 68 69 70] not symmetrized, norm = [0.56403001 0.66706834 0.51976624 0.66606386 0.56798165 0.6041319\n",
      " 0.66601777 0.52139718 0.74248985 0.50835926 0.95433158 0.53487789\n",
      " 0.69856664 0.59383296 0.65108399 0.82965538 0.70275723 0.60671428\n",
      " 0.63179048 0.61245787 0.53199301 0.6242799  0.7828963  0.67011906\n",
      " 0.6501304  0.62134622 0.52748889 0.76530998 0.59504608 0.59836283\n",
      " 0.61340525 0.8283474  0.65972263 0.60516489 0.52243827 0.70894798\n",
      " 0.59376503 0.75099738 0.69897353 0.60755842 0.52609931 0.66494971\n",
      " 0.68974544 0.86776459 0.7778038  0.65664461 0.53290194 0.63960023\n",
      " 0.84088506 0.92794185 0.8402798  0.57921342 0.65608299 0.8993047\n",
      " 0.57346023 0.64718045 0.66427721 0.77542434 0.63875378 0.58657703\n",
      " 0.84009246]\n",
      "\n",
      "\n",
      "WARN: orbitals [0 1 2 3 4 5] not symmetrized, norm = [0.5 0.5 0.5 0.5 0.5 0.5]\n",
      "\n",
      "\n",
      "WARN: orbitals [0 1 2 3 4 5] not symmetrized, norm = [0.5 0.5 0.5 0.5 0.5 0.5]\n",
      "\n",
      " init_fspace =  [(6, 1), (3, 3), (6, 1)]\n",
      " clusters    =  [[1, 2, 3, 4, 5, 6], [7, 8, 9], [10, 11, 12, 13, 14, 15]]\n"
     ]
    }
   ],
   "source": [
    "# Project active orbitals onto fragments\n",
    "init_fspace = []\n",
    "clusters = []\n",
    "Cfrags = []\n",
    "orb_index = 1\n",
    "\n",
    "# import pickle\n",
    "\n",
    "# data = {}\n",
    "# data[\"Pf\"] = Pf \n",
    "# data[\"Cdocc\"] = Cdocc\n",
    "# data[\"Csing\"] = Csing\n",
    "# data[\"Cvirt\"] = Cvirt\n",
    "# data[\"S\"] = S\n",
    "# data[\"frags\"] = frags \n",
    "\n",
    "for fi,f in enumerate(frags):\n",
    "    print()\n",
    "    print(\" Fragment: \", f)\n",
    "    (Of, Sf, Vf), (_, _, _) = svd_subspace_partitioning((Oact, Sact, Vact), Pf[fi], S)\n",
    "    Cfrags.append(np.hstack((Of, Sf, Vf)))\n",
    "    ndocc_f = Of.shape[1]\n",
    "    init_fspace.append((ndocc_f+Sf.shape[1], ndocc_f))\n",
    "    nmof = Of.shape[1] + Sf.shape[1] + Vf.shape[1]\n",
    "    clusters.append(list(range(orb_index, orb_index+nmof)))\n",
    "    orb_index += nmof\n",
    "\n",
    "\n",
    "\n",
    "# Orthogonalize Fragment orbitals\n",
    "Cfrags = sym_ortho(Cfrags, S)\n",
    "\n",
    "Cact = np.hstack(Cfrags)\n",
    "\n",
    "# Write Molden files for visualization\n",
    "pyscf.tools.molden.from_mo(mf.mol, \"Pfull.molden\", Pfull)\n",
    "pyscf.tools.molden.from_mo(mf.mol, \"Cact.molden\", Cact)\n",
    "pyscf.tools.molden.from_mo(mf.mol, \"Cenv.molden\", Cenv)\n",
    "for i in range(len(frags)):\n",
    "    pyscf.tools.molden.from_mo(mf.mol, \"Cfrag%i.molden\"%i, Cfrags[i])\n",
    "\n",
    "print(\" init_fspace = \", init_fspace)\n",
    "print(\" clusters    = \", clusters)\n",
    "\n",
    "\n",
    "# data[\"Cact\"] = Cact\n",
    "# data[\"init_fspace\"] = init_fspace \n",
    "# data[\"clusters\"] = clusters \n",
    "# with open('data_CrOCr.pickle', 'wb') as handle:\n",
    "#     pickle.dump(data, handle)\n"
   ]
  },
  {
   "attachments": {},
   "cell_type": "markdown",
   "id": "91dc633f-ee84-4875-bfed-57c9c3d7d0a6",
   "metadata": {},
   "source": [
    "# Make Integrals"
   ]
  },
  {
   "cell_type": "code",
   "execution_count": 8,
   "id": "eb3ac06f-7e94-420f-9635-6f64f27c7f05",
   "metadata": {},
   "outputs": [
    {
     "name": "stdout",
     "output_type": "stream",
     "text": [
      "(184, 72)\n",
      "(184, 15)\n",
      "(184, 184)\n"
     ]
    }
   ],
   "source": [
    "print(Cenv.shape)\n",
    "print(Cact.shape)\n",
    "d1_embed = 2 * Cenv @ Cenv.T\n",
    "\n",
    "h0 = pyscf.gto.mole.energy_nuc(mf.mol)\n",
    "h  = pyscf.scf.hf.get_hcore(mf.mol)\n",
    "j, k = pyscf.scf.hf.get_jk(mf.mol, d1_embed, hermi=1)\n",
    "\n",
    "print(h.shape)"
   ]
  },
  {
   "cell_type": "code",
   "execution_count": 9,
   "id": "130e7b7f-697e-4448-81f2-458931b4de8d",
   "metadata": {},
   "outputs": [],
   "source": [
    "h0 += np.trace(d1_embed @ ( h + .5*j - .25*k))\n",
    "\n",
    "h = Cact.T @ h @ Cact;\n",
    "j = Cact.T @ j @ Cact;\n",
    "k = Cact.T @ k @ Cact;"
   ]
  },
  {
   "cell_type": "code",
   "execution_count": 10,
   "id": "5047dda7-d4cc-4460-9f5a-0b34b7f16787",
   "metadata": {},
   "outputs": [],
   "source": [
    "nact = h.shape[0]\n",
    "\n",
    "h2 = pyscf.ao2mo.kernel(pymol, Cact, aosym=\"s4\", compact=False)\n",
    "h2.shape = (nact, nact, nact, nact)"
   ]
  },
  {
   "cell_type": "code",
   "execution_count": 11,
   "id": "eb9d44fb-b0ea-48c6-affd-481fc3405daa",
   "metadata": {},
   "outputs": [],
   "source": [
    "# The use of d1_embed only really makes sense if it has zero electrons in the\n",
    "# active space. Let's warn the user if that's not true\n",
    "\n",
    "S = pymol.intor(\"int1e_ovlp_sph\")\n",
    "n_act = np.trace(S @ d1_embed @ S @ Cact @ Cact.T)\n",
    "if abs(n_act) > 1e-8 == False:\n",
    "    print(n_act)\n",
    "    error(\" I found embedded electrons in the active space?!\")\n",
    "\n",
    "h1 = h + j - .5*k;\n"
   ]
  },
  {
   "cell_type": "code",
   "execution_count": 12,
   "id": "48548fca-bae3-46ea-94a6-fa73553eb91d",
   "metadata": {},
   "outputs": [],
   "source": [
    "np.save(\"ints_h0\", h0)\n",
    "np.save(\"ints_h1\", h1)\n",
    "np.save(\"ints_h2\", h2)\n",
    "np.save(\"mo_coeffs\", Cact)\n",
    "np.save(\"overlap_mat\", S)\n",
    "\n",
    "Pa = mf.make_rdm1()[0]\n",
    "Pb = mf.make_rdm1()[1]\n",
    "np.save(\"Pa\", Cact.T @ S @ Pa @ S @ Cact)\n",
    "np.save(\"Pb\", Cact.T @ S @ Pb @ S @ Cact)"
   ]
  },
  {
   "cell_type": "code",
   "execution_count": 14,
   "id": "0fa167fc",
   "metadata": {},
   "outputs": [
    {
     "name": "stdout",
     "output_type": "stream",
     "text": [
      "\n",
      "WARN: orbitals [ 0  1  2  3  4  5  9 10 11 12 13 14] not symmetrized, norm = [0.5 0.5 0.5 0.5 0.5 0.5 0.5 0.5 0.5 0.5 0.5 0.5]\n",
      "\n"
     ]
    }
   ],
   "source": [
    "import numpy as np\n",
    "Ccmf = np.load(\"Ccmf_15.npy\")\n",
    "pyscf.tools.molden.from_mo(mf.mol, \"Ccmf_15.molden\", Ccmf)\n"
   ]
  },
  {
   "cell_type": "code",
   "execution_count": null,
   "id": "14c9dc36",
   "metadata": {},
   "outputs": [],
   "source": []
  }
 ],
 "metadata": {
  "kernelspec": {
   "display_name": "Python 3 (ipykernel)",
   "language": "python",
   "name": "python3"
  },
  "language_info": {
   "codemirror_mode": {
    "name": "ipython",
    "version": 3
   },
   "file_extension": ".py",
   "mimetype": "text/x-python",
   "name": "python",
   "nbconvert_exporter": "python",
   "pygments_lexer": "ipython3",
   "version": "3.10.6"
  }
 },
 "nbformat": 4,
 "nbformat_minor": 5
}
