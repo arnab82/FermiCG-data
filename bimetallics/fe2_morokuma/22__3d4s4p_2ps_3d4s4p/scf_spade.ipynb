{
 "cells": [
  {
   "cell_type": "code",
   "execution_count": 2,
   "id": "872297e4-9d52-4b71-981b-9849bfa969ff",
   "metadata": {},
   "outputs": [],
   "source": [
    "import pyscf\n",
    "import pyscf.tools\n",
    "import scipy\n",
    "import numpy as np\n",
    "\n",
    "from orbitalpartitioning import *"
   ]
  },
  {
   "cell_type": "code",
   "execution_count": 3,
   "id": "38a92200-02bd-4e3d-8a8b-39cae17e095c",
   "metadata": {},
   "outputs": [
    {
     "name": "stdout",
     "output_type": "stream",
     "text": [
      "symmetry:  C2\n",
      "\n",
      "\n",
      "******** <class 'pyscf.scf.hf_symm.SymAdaptedROHF'> Newton solver flags ********\n",
      "SCF tol = 1e-08\n",
      "conv_tol_grad = 1e-05\n",
      "max. SCF cycles = 200\n",
      "direct_scf = True\n",
      "direct_scf_tol = 1e-13\n",
      "chkfile to save SCF result = scf.fchk\n",
      "max_cycle_inner = 12\n",
      "max_stepsize = 0.05\n",
      "ah_start_tol = 1e+09\n",
      "ah_level_shift = 0\n",
      "ah_conv_tol = 1e-12\n",
      "ah_lindep = 1e-14\n",
      "ah_start_cycle = 1\n",
      "ah_max_cycle = 40\n",
      "ah_grad_trust_region = 2.5\n",
      "kf_interval = 4\n",
      "kf_trust_region = 5\n",
      "canonicalization = True\n",
      "max_memory 4000 MB (current use 124 MB)\n",
      "HOMO (B) = 0.318236980196584  LUMO (A) = 0.32097989736419\n",
      "Initial guess E= -5347.01305352179  |g|= 4.92607\n",
      "macro= 0  E= -5354.09525943033  delta_E= -7.08221  |g|= 1.2839  3 KF 15 JK\n",
      "macro= 1  E= -5354.99700870199  delta_E= -0.901749  |g|= 0.380059  3 KF 16 JK\n",
      "macro= 2  E= -5355.40185091223  delta_E= -0.404842  |g|= 0.324421  3 KF 17 JK\n",
      "macro= 3  E= -5355.82121744056  delta_E= -0.419367  |g|= 0.146705  3 KF 18 JK\n",
      "macro= 4  E= -5355.88710224331  delta_E= -0.0658848  |g|= 0.199741  2 KF 7 JK\n",
      "macro= 5  E= -5355.88866617962  delta_E= -0.00156394  |g|= 4.38019e-05  4 KF 16 JK\n",
      "macro= 6  E= -5355.88866617961  delta_E= 8.18545e-12  |g|= 2.71225e-06  1 KF 2 JK\n",
      "Canonicalize SCF orbitals\n",
      "macro X = 7  E=-5355.88866617961  |g|= 2.71225e-06  total 20 KF 99 JK\n",
      "converged SCF energy = -5355.88866617961\n",
      " Hartree-Fock Energy: -5355.88866618\n"
     ]
    }
   ],
   "source": [
    "molecule = \"\"\"\n",
    " Fe 1.67785607 0.00052233 0.06475932\n",
    " O 0.00000000 0.00000000 -0.47099074\n",
    " Fe -1.67785607 -0.00052233 0.06475932\n",
    " Cl 1.87002704 -1.09796437 1.99091682\n",
    " Cl 2.93244917 -0.98210488 -1.47467288\n",
    " Cl 2.37160936 2.07954091 -0.50446591\n",
    " Cl -1.87002704 1.09796437 1.99091682\n",
    " Cl -2.93244917 0.98210488 -1.47467288\n",
    " Cl -2.37160936 -2.07954091 -0.50446591\n",
    "\"\"\"\n",
    "\n",
    "basis = \"def2-svp\"\n",
    "pymol = pyscf.gto.Mole(\n",
    "        atom    =   molecule,\n",
    "        symmetry=   True,\n",
    "        spin    =   10, # number of unpaired electrons\n",
    "        charge  =   -2,\n",
    "        basis   =   basis)\n",
    "\n",
    "\n",
    "pymol.build()\n",
    "print(\"symmetry: \",pymol.topgroup)\n",
    "# mf = pyscf.scf.UHF(pymol).x2c()\n",
    "mf = pyscf.scf.ROHF(pymol).newton()\n",
    "mf.verbose = 4\n",
    "mf.conv_tol = 1e-8\n",
    "mf.conv_tol_grad = 1e-5\n",
    "mf.chkfile = \"scf.fchk\"\n",
    "mf.init_guess = \"sad\"\n",
    "\n",
    "mf.run(max_cycle=200)\n",
    "\n",
    "print(\" Hartree-Fock Energy: %12.8f\" % mf.e_tot)\n",
    "# mf.analyze()\n",
    "\n",
    "# Get data\n",
    "F = mf.get_fock()\n",
    "C = mf.mo_coeff\n",
    "S = mf.get_ovlp()\n",
    "ndocc = mf.nelec[1]\n",
    "nsing = mf.nelec[0] - ndocc\n",
    "nvirt = mf.mol.nao - ndocc - nsing\n",
    "\n",
    "# Just use alpha orbitals\n",
    "Cdocc = mf.mo_coeff[:,0:ndocc]\n",
    "Csing = mf.mo_coeff[:,ndocc:ndocc+nsing]\n",
    "Cvirt = mf.mo_coeff[:,ndocc+nsing:ndocc+nsing+nvirt]\n",
    "\n",
    "nbas = Cdocc.shape[0]"
   ]
  },
  {
   "attachments": {},
   "cell_type": "markdown",
   "id": "926bfd1b",
   "metadata": {},
   "source": [
    "# Define Fragments by AOs"
   ]
  },
  {
   "cell_type": "code",
   "execution_count": 5,
   "id": "45633353-ae0c-47b2-ae89-8d9a66039cd9",
   "metadata": {
    "tags": []
   },
   "outputs": [
    {
     "name": "stdout",
     "output_type": "stream",
     "text": [
      "[[3, 11, 12, 13, 14, 15, 16, 17, 18], [32, 34, 35, 36], [48, 56, 57, 58, 59, 60, 61, 62, 63]]\n"
     ]
    }
   ],
   "source": [
    "# Find AO's corresponding to atoms\n",
    "full = []\n",
    "frag1 = []\n",
    "frag2 = []\n",
    "frag3 = []\n",
    "for ao_idx,ao in enumerate(mf.mol.ao_labels(fmt=False)):\n",
    "    if ao[0] == 0:\n",
    "        if ao[2] in (\"3d\", \"4s\",\"4p\"):\n",
    "            frag1.append(ao_idx)\n",
    "            full.append(ao_idx)\n",
    "    elif ao[0] == 1:\n",
    "        if ao[2] in (\"2s\", \"2p\"):\n",
    "            frag2.append(ao_idx)\n",
    "            full.append(ao_idx)\n",
    "    elif ao[0] == 2:\n",
    "        if ao[2] in (\"3d\", \"4s\",\"4p\"):\n",
    "            frag3.append(ao_idx)\n",
    "            full.append(ao_idx)\n",
    "\n",
    "\n",
    "frags = [frag1, frag2, frag3]\n",
    "print(frags)\n"
   ]
  },
  {
   "attachments": {},
   "cell_type": "markdown",
   "id": "3efb9920",
   "metadata": {},
   "source": [
    "# Define Projectors\n",
    "We can choose to project onto the non-orthogonal AOs, or onto the symmetrically orthogonalized AOs."
   ]
  },
  {
   "cell_type": "code",
   "execution_count": 6,
   "id": "398f646b",
   "metadata": {},
   "outputs": [],
   "source": [
    "# Define projectors\n",
    "X = scipy.linalg.sqrtm(S)\n",
    "X = np.eye(nbas) \n",
    "Pfull = X[:,full]  # non-orthogonal\n",
    "Pf = []\n",
    "for f in frags:\n",
    "    Pf.append(X[:,f])\n"
   ]
  },
  {
   "attachments": {},
   "cell_type": "markdown",
   "id": "841d2ce9",
   "metadata": {},
   "source": [
    "# Project MOs onto all fragments\n",
    "For each orbital block (Docc, Sing, Virt), project each subspace onto the full list of fragment AOs. This will determine our full active space."
   ]
  },
  {
   "cell_type": "code",
   "execution_count": 7,
   "id": "b5553884",
   "metadata": {},
   "outputs": [
    {
     "name": "stdout",
     "output_type": "stream",
     "text": [
      " Partition  184 orbitals into a total of   22 orbitals\n",
      "            Index   Sing. Val. Space       \n",
      "                0   1.22450333            2*\n",
      "                1   1.07708164            2*\n",
      "                2   0.99382519            0*\n",
      "                3   0.97426507            1*\n",
      "                4   0.97385632            1*\n",
      "                5   0.97313836            1*\n",
      "                6   0.97017666            1*\n",
      "                7   0.96747834            1*\n",
      "                8   0.96650092            1*\n",
      "                9   0.96334801            1*\n",
      "               10   0.96220307            1*\n",
      "               11   0.95565449            1*\n",
      "               12   0.95464051            1*\n",
      "               13   0.90116194            0*\n",
      "               14   0.88380206            0*\n",
      "               15   0.86261403            0*\n",
      "               16   0.83493013            0*\n",
      "               17   0.82685619            0*\n",
      "               18   0.80767304            0*\n",
      "               19   0.79402442            0*\n",
      "               20   0.78087061            2*\n",
      "               21   0.76547923            2*\n",
      "               22   0.69198661            0\n",
      "               23   0.68240148            0\n",
      "               24   0.66422938            2\n",
      "               25   0.66134213            2\n",
      "               26   0.62234299            0\n",
      "               27   0.56820638            2\n",
      "               28   0.55140233            2\n",
      "               29   0.51005367            0\n",
      "               30   0.35027569            2\n",
      "               31   0.34296603            2\n",
      "               32   0.26194429            2\n",
      "               33   0.22235267            2\n",
      "               34   0.21987730            2\n",
      "               35   0.21262609            2\n",
      "               36   0.20968185            2\n",
      "               37   0.20765055            0\n",
      "               38   0.20727322            2\n",
      "               39   0.20561958            0\n",
      "               40   0.20211908            2\n",
      "               41   0.20051085            2\n",
      "               42   0.19100943            2\n",
      "               43   0.18514084            2\n",
      "               44   0.16479484            0\n",
      "               45   0.16220734            0\n",
      "               46   0.12097144            0\n",
      "               47   0.12072119            2\n",
      "               48   0.10731331            0\n",
      "               49   0.10287955            0\n",
      "               50   0.08966129            0\n",
      "               51   0.08650636            0\n",
      "               52   0.08364005            0\n",
      "               53   0.08239982            2\n"
     ]
    }
   ],
   "source": [
    "(Oact, Sact, Vact), (Cenv, Cerr, _) = svd_subspace_partitioning((Cdocc, Csing, Cvirt), Pfull, S)\n",
    "assert(Cerr.shape[1] == 0)\n",
    "Cact = np.hstack((Oact, Sact, Vact))"
   ]
  },
  {
   "attachments": {},
   "cell_type": "markdown",
   "id": "d58103c3",
   "metadata": {},
   "source": [
    "# Split active space into fragments"
   ]
  },
  {
   "cell_type": "code",
   "execution_count": 8,
   "id": "5f16720a",
   "metadata": {},
   "outputs": [
    {
     "name": "stdout",
     "output_type": "stream",
     "text": [
      "\n",
      " Fragment:  [3, 11, 12, 13, 14, 15, 16, 17, 18]\n",
      " Partition   22 orbitals into a total of    9 orbitals\n",
      "            Index   Sing. Val. Space       \n",
      "                0   0.96537744            1*\n",
      "                1   0.96346623            1*\n",
      "                2   0.95350558            1*\n",
      "                3   0.94902840            1*\n",
      "                4   0.94038794            1*\n",
      "                5   0.84544262            0*\n",
      "                6   0.75735583            0*\n",
      "                7   0.62183651            2*\n",
      "                8   0.61143717            0*\n",
      "                9   0.58796591            2\n",
      "               10   0.47292156            0\n",
      "               11   0.19387013            2\n",
      "               12   0.16727742            0\n",
      "               13   0.11790322            0\n",
      "               14   0.08934730            0\n",
      "               15   0.04845735            1\n",
      "               16   0.04181418            1\n",
      "               17   0.03784264            2\n",
      "               18   0.03621197            1\n",
      "               19   0.00137191            0\n",
      "               20   0.00049143            1\n",
      "\n",
      " Fragment:  [32, 34, 35, 36]\n",
      " Partition   22 orbitals into a total of    4 orbitals\n",
      "            Index   Sing. Val. Space       \n",
      "                0   0.91913036            0*\n",
      "                1   0.79357350            0*\n",
      "                2   0.78913067            0*\n",
      "                3   0.75763077            0*\n",
      "                4   0.43907094            2\n",
      "                5   0.40964240            2\n",
      "                6   0.39145702            2\n",
      "                7   0.26475729            1\n",
      "                8   0.25560570            2\n",
      "                9   0.23905017            1\n",
      "               10   0.23752622            1\n",
      "               11   0.09035683            1\n",
      "\n",
      " Fragment:  [48, 56, 57, 58, 59, 60, 61, 62, 63]\n",
      " Partition   22 orbitals into a total of    9 orbitals\n",
      "            Index   Sing. Val. Space       \n",
      "                0   0.96537744            1*\n",
      "                1   0.96346623            1*\n",
      "                2   0.95350558            1*\n",
      "                3   0.94902840            1*\n",
      "                4   0.94038794            1*\n",
      "                5   0.84544262            0*\n",
      "                6   0.75735583            0*\n",
      "                7   0.62183651            2*\n",
      "                8   0.61143717            0*\n",
      "                9   0.58796591            2\n",
      "               10   0.47292156            0\n",
      "               11   0.19387013            2\n",
      "               12   0.16727742            0\n",
      "               13   0.11790322            0\n",
      "               14   0.08934730            0\n",
      "               15   0.04845735            1\n",
      "               16   0.04181418            1\n",
      "               17   0.03784264            2\n",
      "               18   0.03621197            1\n",
      "               19   0.00137191            0\n",
      "               20   0.00049143            1\n",
      "\n",
      "WARN: orbitals [ 0  1  2  3  4  5  6  7  8 13 14 15 16 17 18 19 20 21] not symmetrized, norm = [0.57950892 0.64683119 0.53317958 0.5331796  0.5        0.5\n",
      " 0.5        0.5        0.5        0.57950892 0.64683119 0.53317958\n",
      " 0.5331796  0.5        0.5        0.5        0.5        0.5       ]\n",
      "\n",
      "\n",
      "WARN: orbitals [ 0  1  2  3  4  5  6  7  8 13 14 15 16 17 18 19 20 21] not symmetrized, norm = [0.50519852 0.50483574 0.52464244 0.5        0.5        0.5\n",
      " 0.5        0.5        0.5        0.50519852 0.50483574 0.52464244\n",
      " 0.5        0.5        0.5        0.5        0.5        0.5       ]\n",
      "\n",
      "\n",
      "WARN: orbitals [14 15 16 17 18 19 20 21 22 23 24 25 26 27 28 29 30 31 32 33 34 35 36 37\n",
      " 38 39 40 41 42 43 44 45 46 47 48 49 50 51 52 53 54 55 56 57 58 59 60 61\n",
      " 62 63 64 65 66 67] not symmetrized, norm = [0.63693156 0.88749476 0.5323482  0.55234449 0.65427912 0.54921729\n",
      " 0.72043541 0.55176448 0.73200898 0.62472247 0.79018435 0.73563626\n",
      " 0.50815773 0.9238823  0.54515661 0.53725312 0.69264163 0.62143898\n",
      " 0.52102548 0.65768641 0.51390656 0.51403366 0.58195535 0.65131845\n",
      " 0.53084181 0.55362042 0.52855362 0.51838285 0.67451159 0.57427113\n",
      " 0.55718645 0.63019702 0.84258605 0.64766662 0.60323273 0.57881681\n",
      " 0.68519115 0.58785242 0.80327157 0.67334643 0.7081508  0.54909534\n",
      " 0.61563715 0.71428642 0.77201412 0.76892647 0.53198703 0.57104939\n",
      " 0.60637579 0.6804375  0.65663256 0.6801182  0.67655094 0.68678931]\n",
      "\n"
     ]
    },
    {
     "name": "stderr",
     "output_type": "stream",
     "text": [
      "/home/arnabbachhar/.local/lib/python3.10/site-packages/pyscf/tools/molden.py:77: ComplexWarning: Casting complex values to real discards the imaginary part\n",
      "  fout.write(' %3d    %18.14g\\n' % (i+1, mo_coeff[j,imo]))\n"
     ]
    },
    {
     "name": "stdout",
     "output_type": "stream",
     "text": [
      "\n",
      "WARN: orbitals [0 1 2 3 4 5 6 7 8] not symmetrized, norm = [0.50519852 0.50483574 0.52464244 0.5        0.5        0.5\n",
      " 0.5        0.5        0.5       ]\n",
      "\n",
      "\n",
      "WARN: orbitals [0 1 2 3 4 5 6 7 8] not symmetrized, norm = [0.50519852 0.50483574 0.52464244 0.5        0.5        0.5\n",
      " 0.5        0.5        0.5       ]\n",
      "\n",
      " init_fspace =  [(8, 3), (4, 4), (8, 3)]\n",
      " clusters    =  [[1, 2, 3, 4, 5, 6, 7, 8, 9], [10, 11, 12, 13], [14, 15, 16, 17, 18, 19, 20, 21, 22]]\n"
     ]
    }
   ],
   "source": [
    "# Project active orbitals onto fragments\n",
    "init_fspace = []\n",
    "clusters = []\n",
    "Cfrags = []\n",
    "orb_index = 1\n",
    "\n",
    "# import pickle\n",
    "\n",
    "# data = {}\n",
    "# data[\"Pf\"] = Pf \n",
    "# data[\"Cdocc\"] = Cdocc\n",
    "# data[\"Csing\"] = Csing\n",
    "# data[\"Cvirt\"] = Cvirt\n",
    "# data[\"S\"] = S\n",
    "# data[\"frags\"] = frags \n",
    "\n",
    "for fi,f in enumerate(frags):\n",
    "    print()\n",
    "    print(\" Fragment: \", f)\n",
    "    (Of, Sf, Vf), (_, _, _) = svd_subspace_partitioning((Oact, Sact, Vact), Pf[fi], S)\n",
    "    Cfrags.append(np.hstack((Of, Sf, Vf)))\n",
    "    ndocc_f = Of.shape[1]\n",
    "    init_fspace.append((ndocc_f+Sf.shape[1], ndocc_f))\n",
    "    nmof = Of.shape[1] + Sf.shape[1] + Vf.shape[1]\n",
    "    clusters.append(list(range(orb_index, orb_index+nmof)))\n",
    "    orb_index += nmof\n",
    "\n",
    "\n",
    "\n",
    "# Orthogonalize Fragment orbitals\n",
    "Cfrags = sym_ortho(Cfrags, S)\n",
    "\n",
    "Cact = np.hstack(Cfrags)\n",
    "\n",
    "# Write Molden files for visualization\n",
    "pyscf.tools.molden.from_mo(mf.mol, \"Pfull.molden\", Pfull)\n",
    "pyscf.tools.molden.from_mo(mf.mol, \"Cact.molden\", Cact)\n",
    "pyscf.tools.molden.from_mo(mf.mol, \"Cenv.molden\", Cenv)\n",
    "for i in range(len(frags)):\n",
    "    pyscf.tools.molden.from_mo(mf.mol, \"Cfrag%i.molden\"%i, Cfrags[i])\n",
    "\n",
    "print(\" init_fspace = \", init_fspace)\n",
    "print(\" clusters    = \", clusters)\n",
    "\n",
    "\n",
    "# data[\"Cact\"] = Cact\n",
    "# data[\"init_fspace\"] = init_fspace \n",
    "# data[\"clusters\"] = clusters \n",
    "# with open('data_CrOCr.pickle', 'wb') as handle:\n",
    "#     pickle.dump(data, handle)\n"
   ]
  },
  {
   "attachments": {},
   "cell_type": "markdown",
   "id": "91dc633f-ee84-4875-bfed-57c9c3d7d0a6",
   "metadata": {},
   "source": [
    "# Make Integrals"
   ]
  },
  {
   "cell_type": "code",
   "execution_count": 9,
   "id": "eb3ac06f-7e94-420f-9635-6f64f27c7f05",
   "metadata": {},
   "outputs": [
    {
     "name": "stdout",
     "output_type": "stream",
     "text": [
      "(184, 69)\n",
      "(184, 22)\n",
      "(184, 184)\n"
     ]
    }
   ],
   "source": [
    "print(Cenv.shape)\n",
    "print(Cact.shape)\n",
    "d1_embed = 2 * Cenv @ Cenv.T\n",
    "\n",
    "h0 = pyscf.gto.mole.energy_nuc(mf.mol)\n",
    "h  = pyscf.scf.hf.get_hcore(mf.mol)\n",
    "j, k = pyscf.scf.hf.get_jk(mf.mol, d1_embed, hermi=1)\n",
    "\n",
    "print(h.shape)"
   ]
  },
  {
   "cell_type": "code",
   "execution_count": 10,
   "id": "130e7b7f-697e-4448-81f2-458931b4de8d",
   "metadata": {},
   "outputs": [],
   "source": [
    "h0 += np.trace(d1_embed @ ( h + .5*j - .25*k))\n",
    "\n",
    "h = Cact.T @ h @ Cact;\n",
    "j = Cact.T @ j @ Cact;\n",
    "k = Cact.T @ k @ Cact;"
   ]
  },
  {
   "cell_type": "code",
   "execution_count": 11,
   "id": "5047dda7-d4cc-4460-9f5a-0b34b7f16787",
   "metadata": {},
   "outputs": [
    {
     "ename": "NotImplementedError",
     "evalue": "Integral transformation for complex orbitals",
     "output_type": "error",
     "traceback": [
      "\u001b[0;31m---------------------------------------------------------------------------\u001b[0m",
      "\u001b[0;31mNotImplementedError\u001b[0m                       Traceback (most recent call last)",
      "Cell \u001b[0;32mIn[11], line 3\u001b[0m\n\u001b[1;32m      1\u001b[0m nact \u001b[39m=\u001b[39m h\u001b[39m.\u001b[39mshape[\u001b[39m0\u001b[39m]\n\u001b[0;32m----> 3\u001b[0m h2 \u001b[39m=\u001b[39m pyscf\u001b[39m.\u001b[39;49mao2mo\u001b[39m.\u001b[39;49mkernel(pymol, Cact, aosym\u001b[39m=\u001b[39;49m\u001b[39m\"\u001b[39;49m\u001b[39ms4\u001b[39;49m\u001b[39m\"\u001b[39;49m, compact\u001b[39m=\u001b[39;49m\u001b[39mFalse\u001b[39;49;00m)\n\u001b[1;32m      4\u001b[0m h2\u001b[39m.\u001b[39mshape \u001b[39m=\u001b[39m (nact, nact, nact, nact)\n",
      "File \u001b[0;32m~/.local/lib/python3.10/site-packages/pyscf/ao2mo/__init__.py:471\u001b[0m, in \u001b[0;36mkernel\u001b[0;34m(eri_or_mol, mo_coeffs, erifile, dataname, intor, *args, **kwargs)\u001b[0m\n\u001b[1;32m    313\u001b[0m \u001b[39m\u001b[39m\u001b[39mr\u001b[39m\u001b[39m'''Transfer arbitrary spherical AO integrals to MO integrals, for given\u001b[39;00m\n\u001b[1;32m    314\u001b[0m \u001b[39morbitals or four sets of orbitals.  See also :func:`ao2mo.full` and :func:`ao2mo.general`.\u001b[39;00m\n\u001b[1;32m    315\u001b[0m \n\u001b[0;32m   (...)\u001b[0m\n\u001b[1;32m    468\u001b[0m \u001b[39mdataset ['eri_mo', 'new'], shape (3, 100, 55)\u001b[39;00m\n\u001b[1;32m    469\u001b[0m \u001b[39m'''\u001b[39;00m\n\u001b[1;32m    470\u001b[0m \u001b[39mif\u001b[39;00m \u001b[39misinstance\u001b[39m(mo_coeffs, numpy\u001b[39m.\u001b[39mndarray) \u001b[39mand\u001b[39;00m mo_coeffs\u001b[39m.\u001b[39mndim \u001b[39m==\u001b[39m \u001b[39m2\u001b[39m:\n\u001b[0;32m--> 471\u001b[0m     \u001b[39mreturn\u001b[39;00m full(eri_or_mol, mo_coeffs, erifile, dataname, intor, \u001b[39m*\u001b[39;49margs, \u001b[39m*\u001b[39;49m\u001b[39m*\u001b[39;49mkwargs)\n\u001b[1;32m    472\u001b[0m \u001b[39melse\u001b[39;00m:\n\u001b[1;32m    473\u001b[0m     \u001b[39mreturn\u001b[39;00m general(eri_or_mol, mo_coeffs, erifile, dataname, intor, \u001b[39m*\u001b[39margs, \u001b[39m*\u001b[39m\u001b[39m*\u001b[39mkwargs)\n",
      "File \u001b[0;32m~/.local/lib/python3.10/site-packages/pyscf/ao2mo/__init__.py:159\u001b[0m, in \u001b[0;36mfull\u001b[0;34m(eri_or_mol, mo_coeff, erifile, dataname, intor, *args, **kwargs)\u001b[0m\n\u001b[1;32m    156\u001b[0m     \u001b[39mreturn\u001b[39;00m mod\u001b[39m.\u001b[39mfull(eri_or_mol, mo_coeff, erifile\u001b[39m.\u001b[39mname, dataname, intor,\n\u001b[1;32m    157\u001b[0m                     \u001b[39m*\u001b[39margs, \u001b[39m*\u001b[39m\u001b[39m*\u001b[39mkwargs)\n\u001b[1;32m    158\u001b[0m \u001b[39melse\u001b[39;00m:\n\u001b[0;32m--> 159\u001b[0m     \u001b[39mreturn\u001b[39;00m mod\u001b[39m.\u001b[39;49mfull_iofree(eri_or_mol, mo_coeff, intor, \u001b[39m*\u001b[39;49margs, \u001b[39m*\u001b[39;49m\u001b[39m*\u001b[39;49mkwargs)\n",
      "File \u001b[0;32m~/.local/lib/python3.10/site-packages/pyscf/ao2mo/outcore.py:588\u001b[0m, in \u001b[0;36mfull_iofree\u001b[0;34m(mol, mo_coeff, intor, aosym, comp, max_memory, ioblk_size, verbose, compact)\u001b[0m\n\u001b[1;32m    510\u001b[0m \u001b[39m\u001b[39m\u001b[39mr\u001b[39m\u001b[39m'''Transfer arbitrary spherical AO integrals to MO integrals for given orbitals\u001b[39;00m\n\u001b[1;32m    511\u001b[0m \u001b[39mThis function is a wrap for :func:`ao2mo.outcore.general`.  It's not really\u001b[39;00m\n\u001b[1;32m    512\u001b[0m \u001b[39mIO free.  The returned MO integrals are held in memory.  For backward compatibility,\u001b[39;00m\n\u001b[0;32m   (...)\u001b[0m\n\u001b[1;32m    585\u001b[0m \u001b[39m(3, 100, 55)\u001b[39;00m\n\u001b[1;32m    586\u001b[0m \u001b[39m'''\u001b[39;00m\n\u001b[1;32m    587\u001b[0m \u001b[39mwith\u001b[39;00m lib\u001b[39m.\u001b[39mH5TmpFile() \u001b[39mas\u001b[39;00m feri:\n\u001b[0;32m--> 588\u001b[0m     general(mol, (mo_coeff,)\u001b[39m*\u001b[39;49m\u001b[39m4\u001b[39;49m, feri, dataname\u001b[39m=\u001b[39;49m\u001b[39m'\u001b[39;49m\u001b[39meri_mo\u001b[39;49m\u001b[39m'\u001b[39;49m,\n\u001b[1;32m    589\u001b[0m             intor\u001b[39m=\u001b[39;49mintor, aosym\u001b[39m=\u001b[39;49maosym, comp\u001b[39m=\u001b[39;49mcomp,\n\u001b[1;32m    590\u001b[0m             max_memory\u001b[39m=\u001b[39;49mmax_memory, ioblk_size\u001b[39m=\u001b[39;49mioblk_size,\n\u001b[1;32m    591\u001b[0m             verbose\u001b[39m=\u001b[39;49mverbose, compact\u001b[39m=\u001b[39;49mcompact)\n\u001b[1;32m    592\u001b[0m     \u001b[39mreturn\u001b[39;00m numpy\u001b[39m.\u001b[39masarray(feri[\u001b[39m'\u001b[39m\u001b[39meri_mo\u001b[39m\u001b[39m'\u001b[39m])\n",
      "File \u001b[0;32m~/.local/lib/python3.10/site-packages/pyscf/ao2mo/outcore.py:207\u001b[0m, in \u001b[0;36mgeneral\u001b[0;34m(mol, mo_coeffs, erifile, dataname, intor, aosym, comp, max_memory, ioblk_size, verbose, compact)\u001b[0m\n\u001b[1;32m    118\u001b[0m \u001b[39m\u001b[39m\u001b[39mr\u001b[39m\u001b[39m'''For the given four sets of orbitals, transfer arbitrary spherical AO\u001b[39;00m\n\u001b[1;32m    119\u001b[0m \u001b[39mintegrals to MO integrals on the fly.\u001b[39;00m\n\u001b[1;32m    120\u001b[0m \n\u001b[0;32m   (...)\u001b[0m\n\u001b[1;32m    204\u001b[0m \u001b[39mdataset ['eri_mo', 'new'], shape (3, 100, 55)\u001b[39;00m\n\u001b[1;32m    205\u001b[0m \u001b[39m'''\u001b[39;00m\n\u001b[1;32m    206\u001b[0m \u001b[39mif\u001b[39;00m \u001b[39many\u001b[39m(c\u001b[39m.\u001b[39mdtype \u001b[39m==\u001b[39m numpy\u001b[39m.\u001b[39mcomplex128 \u001b[39mfor\u001b[39;00m c \u001b[39min\u001b[39;00m mo_coeffs):\n\u001b[0;32m--> 207\u001b[0m     \u001b[39mraise\u001b[39;00m \u001b[39mNotImplementedError\u001b[39;00m(\u001b[39m'\u001b[39m\u001b[39mIntegral transformation for complex orbitals\u001b[39m\u001b[39m'\u001b[39m)\n\u001b[1;32m    209\u001b[0m time_0pass \u001b[39m=\u001b[39m (logger\u001b[39m.\u001b[39mprocess_clock(), logger\u001b[39m.\u001b[39mperf_counter())\n\u001b[1;32m    210\u001b[0m log \u001b[39m=\u001b[39m logger\u001b[39m.\u001b[39mnew_logger(mol, verbose)\n",
      "\u001b[0;31mNotImplementedError\u001b[0m: Integral transformation for complex orbitals"
     ]
    }
   ],
   "source": [
    "nact = h.shape[0]\n",
    "\n",
    "h2 = pyscf.ao2mo.kernel(pymol, Cact, aosym=\"s4\", compact=False)\n",
    "h2.shape = (nact, nact, nact, nact)"
   ]
  },
  {
   "cell_type": "code",
   "execution_count": 12,
   "id": "eb9d44fb-b0ea-48c6-affd-481fc3405daa",
   "metadata": {},
   "outputs": [],
   "source": [
    "# The use of d1_embed only really makes sense if it has zero electrons in the\n",
    "# active space. Let's warn the user if that's not true\n",
    "\n",
    "S = pymol.intor(\"int1e_ovlp_sph\")\n",
    "n_act = np.trace(S @ d1_embed @ S @ Cact @ Cact.T)\n",
    "if abs(n_act) > 1e-8 == False:\n",
    "    print(n_act)\n",
    "    error(\" I found embedded electrons in the active space?!\")\n",
    "\n",
    "h1 = h + j - .5*k;\n"
   ]
  },
  {
   "cell_type": "code",
   "execution_count": 13,
   "id": "48548fca-bae3-46ea-94a6-fa73553eb91d",
   "metadata": {},
   "outputs": [
    {
     "ename": "NameError",
     "evalue": "name 'h2' is not defined",
     "output_type": "error",
     "traceback": [
      "\u001b[0;31m---------------------------------------------------------------------------\u001b[0m",
      "\u001b[0;31mNameError\u001b[0m                                 Traceback (most recent call last)",
      "Cell \u001b[0;32mIn[13], line 3\u001b[0m\n\u001b[1;32m      1\u001b[0m np\u001b[39m.\u001b[39msave(\u001b[39m\"\u001b[39m\u001b[39mints_h0\u001b[39m\u001b[39m\"\u001b[39m, h0)\n\u001b[1;32m      2\u001b[0m np\u001b[39m.\u001b[39msave(\u001b[39m\"\u001b[39m\u001b[39mints_h1\u001b[39m\u001b[39m\"\u001b[39m, h1)\n\u001b[0;32m----> 3\u001b[0m np\u001b[39m.\u001b[39msave(\u001b[39m\"\u001b[39m\u001b[39mints_h2\u001b[39m\u001b[39m\"\u001b[39m, h2)\n\u001b[1;32m      4\u001b[0m np\u001b[39m.\u001b[39msave(\u001b[39m\"\u001b[39m\u001b[39mmo_coeffs\u001b[39m\u001b[39m\"\u001b[39m, Cact)\n\u001b[1;32m      5\u001b[0m np\u001b[39m.\u001b[39msave(\u001b[39m\"\u001b[39m\u001b[39moverlap_mat\u001b[39m\u001b[39m\"\u001b[39m, S)\n",
      "\u001b[0;31mNameError\u001b[0m: name 'h2' is not defined"
     ]
    }
   ],
   "source": [
    "np.save(\"ints_h0\", h0)\n",
    "np.save(\"ints_h1\", h1)\n",
    "np.save(\"ints_h2\", h2)\n",
    "np.save(\"mo_coeffs\", Cact)\n",
    "np.save(\"overlap_mat\", S)\n",
    "\n",
    "Pa = mf.make_rdm1()[0]\n",
    "Pb = mf.make_rdm1()[1]\n",
    "np.save(\"Pa\", Cact.T @ S @ Pa @ S @ Cact)\n",
    "np.save(\"Pb\", Cact.T @ S @ Pb @ S @ Cact)"
   ]
  },
  {
   "cell_type": "code",
   "execution_count": 16,
   "id": "0fa167fc",
   "metadata": {},
   "outputs": [
    {
     "name": "stdout",
     "output_type": "stream",
     "text": [
      "\n",
      "WARN: orbitals [ 0  1  2  3  4  5 10 11 12 13 14 15] not symmetrized, norm = [0.5 0.5 0.5 0.5 0.5 0.5 0.5 0.5 0.5 0.5 0.5 0.5]\n",
      "\n"
     ]
    }
   ],
   "source": [
    "import numpy as np\n",
    "Ccmf = np.load(\"Ccmf_22.npy\")\n",
    "pyscf.tools.molden.from_mo(mf.mol, \"Ccmf_22.molden\", Ccmf)\n"
   ]
  },
  {
   "cell_type": "code",
   "execution_count": null,
   "id": "14c9dc36",
   "metadata": {},
   "outputs": [],
   "source": []
  }
 ],
 "metadata": {
  "kernelspec": {
   "display_name": "Python 3 (ipykernel)",
   "language": "python",
   "name": "python3"
  },
  "language_info": {
   "codemirror_mode": {
    "name": "ipython",
    "version": 3
   },
   "file_extension": ".py",
   "mimetype": "text/x-python",
   "name": "python",
   "nbconvert_exporter": "python",
   "pygments_lexer": "ipython3",
   "version": "3.10.6"
  }
 },
 "nbformat": 4,
 "nbformat_minor": 5
}
