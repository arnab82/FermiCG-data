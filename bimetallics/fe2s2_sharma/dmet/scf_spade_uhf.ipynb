{
 "cells": [
  {
   "cell_type": "code",
   "execution_count": 1,
   "id": "872297e4-9d52-4b71-981b-9849bfa969ff",
   "metadata": {},
   "outputs": [],
   "source": [
    "import pyscf\n",
    "import pyscf.tools\n",
    "import pyscf.lo\n",
    "\n",
    "from orbitalpartitioning import *"
   ]
  },
  {
   "cell_type": "code",
   "execution_count": 3,
   "id": "38a92200-02bd-4e3d-8a8b-39cae17e095c",
   "metadata": {},
   "outputs": [
    {
     "name": "stdout",
     "output_type": "stream",
     "text": [
      "symmetry:  C1\n",
      "\n",
      "\n",
      "******** <class 'pyscf.scf.uhf.UHF'> Newton solver flags ********\n",
      "SCF tol = 1e-08\n",
      "conv_tol_grad = 1e-05\n",
      "max. SCF cycles = 50\n",
      "direct_scf = True\n",
      "direct_scf_tol = 1e-13\n",
      "chkfile to save SCF result = scf.fchk\n",
      "max_cycle_inner = 12\n",
      "max_stepsize = 0.05\n",
      "ah_start_tol = 1e+09\n",
      "ah_level_shift = 0\n",
      "ah_conv_tol = 1e-12\n",
      "ah_lindep = 1e-14\n",
      "ah_start_cycle = 1\n",
      "ah_max_cycle = 40\n",
      "ah_grad_trust_region = 2.5\n",
      "kf_interval = 4\n",
      "kf_trust_region = 5\n",
      "canonicalization = True\n",
      "max_memory 4000 MB (current use 0 MB)\n",
      "  alpha nocc = 98  HOMO = 0.199929094185571  LUMO = 0.205421971066349\n",
      "  beta  nocc = 88  HOMO = -0.262446756477781  LUMO = 0.0599938177317816\n",
      "\n",
      "WARN: system HOMO 0.199929094185571 >= system LUMO 0.0599938177317816\n",
      "\n",
      "Initial guess E= -5039.93568418245  |g|= 5.2673\n",
      "macro= 0  E= -5063.15092894791  delta_E= -23.2152  |g|= 3.14642  3 KF 15 JK\n",
      "macro= 1  E= -5066.25755253506  delta_E= -3.10662  |g|= 0.758744  3 KF 15 JK\n",
      "macro= 2  E= -5067.2980897525  delta_E= -1.04054  |g|= 0.342875  3 KF 17 JK\n",
      "macro= 3  E= -5067.49894302792  delta_E= -0.200853  |g|= 0.113938  3 KF 11 JK\n",
      "macro= 4  E= -5067.5047928862  delta_E= -0.00584986  |g|= 2.87528e-05  5 KF 21 JK\n",
      "macro= 5  E= -5067.5047928862  delta_E= 1.81899e-12  |g|= 3.56604e-06  1 KF 2 JK\n",
      "Canonicalize SCF orbitals\n",
      "macro X = 6  E=-5067.5047928862  |g|= 3.56604e-06  total 19 KF 88 JK\n",
      "converged SCF energy = -5067.5047928862  <S^2> = 30.035659  2S+1 = 11.006482\n",
      " Hartree-Fock Energy: -5067.50479289\n"
     ]
    }
   ],
   "source": [
    "molecule = \"\"\"\n",
    "Fe  5.48 1.15 -8.03\n",
    "S   4.05 -0.61 -8.75\n",
    "S   7.49 0.42 -9.04\n",
    "Fe  6.04 -1.22 -9.63\n",
    "S   5.47 1.25 -5.58\n",
    "S   4.63 3.28 -8.77\n",
    "S   5.75 -1.50 -12.05\n",
    "S   6.86 -3.41 -8.86\n",
    "C   5.51 4.45 -7.51\n",
    "H   6.49 4.83 -7.92\n",
    "H   4.87 5.33 -7.25\n",
    "H   5.72 3.84 -6.59\n",
    "C   3.60 1.70 -5.54\n",
    "H   3.01 0.80 -5.82\n",
    "H   3.28 2.06 -4.52\n",
    "H   3.42 2.48 -6.31\n",
    "C   5.21 -4.22 -9.46\n",
    "H   5.10 -4.01 -10.55\n",
    "H   5.21 -5.32 -9.26\n",
    "H   4.37 -3.72 -8.93\n",
    "C   7.63 -1.85 -12.24\n",
    "H   7.90 -2.06 -13.31\n",
    "H   8.20 -0.96 -11.86\n",
    "H   7.89 -2.72 -11.59\n",
    "\"\"\"\n",
    "\n",
    "basis = \"def2-svp\"\n",
    "pymol = pyscf.gto.Mole(\n",
    "        atom    =   molecule,\n",
    "        symmetry=   True,\n",
    "        spin    =   10, # number of unpaired electrons\n",
    "        charge  =   -2,\n",
    "        basis   =   basis)\n",
    "\n",
    "\n",
    "pymol.build()\n",
    "print(\"symmetry: \",pymol.topgroup)\n",
    "mf = pyscf.scf.UHF(pymol).newton()\n",
    "# mf = pyscf.scf.RHF(pymol).newton()\n",
    "\n",
    "# mf.damp = 0.5\n",
    "# mf.diis_start_cycle = 8\n",
    "\n",
    "mf.verbose = 4\n",
    "mf.conv_tol = 1e-8\n",
    "mf.conv_tol_grad = 1e-5\n",
    "mf.chkfile = \"scf.fchk\"\n",
    "# P = np.load(\"UHF_DM.npy\")\n",
    "# mf.init_guess = \"sad\"\n",
    "# mf.kernel(P)\n",
    "mf.kernel()\n",
    "np.save(\"UHF_DM\", mf.make_rdm1())\n",
    "print(\" Hartree-Fock Energy: %12.8f\" % mf.e_tot)\n",
    "\n"
   ]
  },
  {
   "cell_type": "code",
   "execution_count": 4,
   "id": "ec6893a0",
   "metadata": {},
   "outputs": [
    {
     "name": "stdout",
     "output_type": "stream",
     "text": [
      "[[14, 15, 16, 17, 18], [38, 39, 40], [56, 57, 58], [81, 82, 83, 84, 85]]\n"
     ]
    }
   ],
   "source": [
    "# Find AO's corresponding to atoms\n",
    "full = []\n",
    "frag1 = []\n",
    "frag2 = []\n",
    "frag3 = []\n",
    "frag4 = []\n",
    "for ao_idx,ao in enumerate(mf.mol.ao_labels(fmt=False)):\n",
    "    if ao[0] == 0:\n",
    "        if ao[2] in (\"3d\"):\n",
    "            frag1.append(ao_idx)\n",
    "            full.append(ao_idx)\n",
    "    elif ao[0] == 1:\n",
    "        if ao[2] in (\"3p\"):\n",
    "            frag2.append(ao_idx)\n",
    "            full.append(ao_idx)\n",
    "    elif ao[0] == 2:\n",
    "        if ao[2] in (\"3p\"):\n",
    "            frag3.append(ao_idx)\n",
    "            full.append(ao_idx)\n",
    "    elif ao[0] == 3:\n",
    "        if ao[2] in (\"3d\"):\n",
    "            frag4.append(ao_idx)\n",
    "            full.append(ao_idx)\n",
    "\n",
    "\n",
    "\n",
    "frags = [frag1, frag2, frag3, frag4]\n",
    "print(frags)"
   ]
  },
  {
   "attachments": {},
   "cell_type": "markdown",
   "id": "8d670d92",
   "metadata": {},
   "source": [
    "# Build DMET Active Space"
   ]
  },
  {
   "cell_type": "code",
   "execution_count": 6,
   "id": "f0d2cf30",
   "metadata": {},
   "outputs": [
    {
     "name": "stdout",
     "output_type": "stream",
     "text": [
      " Create DMET active space by projecting  286 MOs onto   16 fragment orbitals\n",
      " Dmet active space has the following dimensions:\n",
      "   Environment (occupied)   :    82\n",
      "   Active (occupied)        :    16\n",
      "   Active (virtual)         :    16\n",
      "   Environment (virtual)    :   172\n",
      " Partition  286 orbitals into a total of    4 fragments\n",
      " Create DMET active space by projecting  286 MOs onto    5 fragment orbitals\n",
      " Dmet active space has the following dimensions:\n",
      "   Environment (occupied)   :    93\n",
      "   Active (occupied)        :     5\n",
      "   Active (virtual)         :     5\n",
      "   Environment (virtual)    :   183\n",
      " Create DMET active space by projecting  286 MOs onto    3 fragment orbitals\n",
      " Dmet active space has the following dimensions:\n",
      "   Environment (occupied)   :    95\n",
      "   Active (occupied)        :     3\n",
      "   Active (virtual)         :     3\n",
      "   Environment (virtual)    :   185\n",
      " Create DMET active space by projecting  286 MOs onto    3 fragment orbitals\n",
      " Dmet active space has the following dimensions:\n",
      "   Environment (occupied)   :    95\n",
      "   Active (occupied)        :     3\n",
      "   Active (virtual)         :     3\n",
      "   Environment (virtual)    :   185\n",
      " Create DMET active space by projecting  286 MOs onto    5 fragment orbitals\n",
      " Dmet active space has the following dimensions:\n",
      "   Environment (occupied)   :    93\n",
      "   Active (occupied)        :     5\n",
      "   Active (virtual)         :     5\n",
      "   Environment (virtual)    :   183\n",
      " init_fspace =  [(5, 5), (3, 3), (3, 3), (5, 5)]\n",
      " clusters    =  [[0, 1, 2, 3, 4, 5, 6, 7, 8, 9], [10, 11, 12, 13, 14, 15], [16, 17, 18, 19, 20, 21], [22, 23, 24, 25, 26, 27, 28, 29, 30, 31]]\n",
      " init_fspace =  [(5, 5), (3, 3), (3, 3), (5, 5)]\n",
      " clusters    =  [[1, 2, 3, 4, 5, 6, 7, 8, 9, 10], [11, 12, 13, 14, 15, 16], [17, 18, 19, 20, 21, 22], [23, 24, 25, 26, 27, 28, 29, 30, 31, 32]]\n"
     ]
    }
   ],
   "source": [
    "S = mf.get_ovlp()\n",
    "Co = mf.mo_coeff[0][:,mf.mo_occ[0]==1]\n",
    "Cv = mf.mo_coeff[0][:,mf.mo_occ[0]==0]\n",
    "\n",
    "orbitals, init_fspace, clusters = orbitalpartitioning.dmet_clustering(Co, Cv, frags, S)\n",
    "\n",
    "\n",
    "# F = mf.get_fock()\n",
    "# orbitals = orbitalpartitioning.canonicalize(orbitals, F)\n",
    "\n",
    "\n",
    "Cenv = orbitals[0]\n",
    "Cact = np.hstack((orbitals[1:1+len(frags)]))\n",
    "pyscf.tools.molden.from_mo(mf.mol, \"scr/Cact.molden\", Cact)\n",
    "\n",
    "clusters = [[i+1 for i in j] for j in clusters]\n",
    "\n",
    "print(\" init_fspace = \", init_fspace)\n",
    "print(\" clusters    = \", clusters)\n"
   ]
  },
  {
   "cell_type": "markdown",
   "id": "91dc633f-ee84-4875-bfed-57c9c3d7d0a6",
   "metadata": {},
   "source": [
    "# Make Integrals"
   ]
  },
  {
   "cell_type": "code",
   "execution_count": 8,
   "id": "eb3ac06f-7e94-420f-9635-6f64f27c7f05",
   "metadata": {},
   "outputs": [
    {
     "name": "stdout",
     "output_type": "stream",
     "text": [
      "(286, 82)\n",
      "(286, 32)\n",
      "(286, 286)\n"
     ]
    }
   ],
   "source": [
    "print(Cenv.shape)\n",
    "print(Cact.shape)\n",
    "d1_embed = 2 * Cenv @ Cenv.T\n",
    "\n",
    "h0 = pyscf.gto.mole.energy_nuc(mf.mol)\n",
    "h  = pyscf.scf.hf.get_hcore(mf.mol)\n",
    "j, k = pyscf.scf.hf.get_jk(mf.mol, d1_embed, hermi=1)\n",
    "\n",
    "print(h.shape)\n",
    "h0 += np.trace(d1_embed @ ( h + .5*j - .25*k))\n",
    "\n",
    "h = Cact.T @ h @ Cact;\n",
    "j = Cact.T @ j @ Cact;\n",
    "k = Cact.T @ k @ Cact;\n",
    "nact = h.shape[0]\n",
    "\n",
    "h2 = pyscf.ao2mo.kernel(pymol, Cact, aosym=\"s4\", compact=False)\n",
    "h2.shape = (nact, nact, nact, nact)\n",
    "# The use of d1_embed only really makes sense if it has zero electrons in the\n",
    "# active space. Let's warn the user if that's not true\n",
    "\n",
    "S = pymol.intor(\"int1e_ovlp_sph\")\n",
    "n_act = np.trace(S @ d1_embed @ S @ Cact @ Cact.T)\n",
    "if abs(n_act) > 1e-8 == False:\n",
    "    print(n_act)\n",
    "    error(\" I found embedded electrons in the active space?!\")\n",
    "\n",
    "h1 = h + j - .5*k;\n",
    "\n",
    "np.save(\"ints_h0\", h0)\n",
    "np.save(\"ints_h1\", h1)\n",
    "np.save(\"ints_h2\", h2)\n",
    "np.save(\"mo_coeffs\", Cact)\n",
    "np.save(\"overlap_mat\", S)\n",
    "\n",
    "Pa = mf.make_rdm1()[0]\n",
    "Pb = mf.make_rdm1()[1]\n",
    "np.save(\"Pa\", Cact.T @ S @ Pa @ S @ Cact)\n",
    "np.save(\"Pb\", Cact.T @ S @ Pb @ S @ Cact)"
   ]
  },
  {
   "cell_type": "code",
   "execution_count": 10,
   "id": "0fa167fc",
   "metadata": {},
   "outputs": [
    {
     "ename": "FileNotFoundError",
     "evalue": "[Errno 2] No such file or directory: 'src/Ccmf.molden'",
     "output_type": "error",
     "traceback": [
      "\u001b[0;31m---------------------------------------------------------------------------\u001b[0m",
      "\u001b[0;31mFileNotFoundError\u001b[0m                         Traceback (most recent call last)",
      "Cell \u001b[0;32mIn[10], line 3\u001b[0m\n\u001b[1;32m      1\u001b[0m \u001b[39mimport\u001b[39;00m \u001b[39mnumpy\u001b[39;00m \u001b[39mas\u001b[39;00m \u001b[39mnp\u001b[39;00m\n\u001b[1;32m      2\u001b[0m Ccmf \u001b[39m=\u001b[39m np\u001b[39m.\u001b[39mload(\u001b[39m\"\u001b[39m\u001b[39mCcmf.npy\u001b[39m\u001b[39m\"\u001b[39m)\n\u001b[0;32m----> 3\u001b[0m pyscf\u001b[39m.\u001b[39;49mtools\u001b[39m.\u001b[39;49mmolden\u001b[39m.\u001b[39;49mfrom_mo(mf\u001b[39m.\u001b[39;49mmol, \u001b[39m\"\u001b[39;49m\u001b[39msrc/Ccmf.molden\u001b[39;49m\u001b[39m\"\u001b[39;49m, Ccmf)\n",
      "File \u001b[0;32m~/opt/anaconda3/envs/pyscf2/lib/python3.10/site-packages/pyscf/tools/molden.py:82\u001b[0m, in \u001b[0;36mfrom_mo\u001b[0;34m(mol, filename, mo_coeff, spin, symm, ene, occ, ignore_h)\u001b[0m\n\u001b[1;32m     79\u001b[0m \u001b[39mdef\u001b[39;00m \u001b[39mfrom_mo\u001b[39m(mol, filename, mo_coeff, spin\u001b[39m=\u001b[39m\u001b[39m'\u001b[39m\u001b[39mAlpha\u001b[39m\u001b[39m'\u001b[39m, symm\u001b[39m=\u001b[39m\u001b[39mNone\u001b[39;00m, ene\u001b[39m=\u001b[39m\u001b[39mNone\u001b[39;00m,\n\u001b[1;32m     80\u001b[0m             occ\u001b[39m=\u001b[39m\u001b[39mNone\u001b[39;00m, ignore_h\u001b[39m=\u001b[39mIGNORE_H):\n\u001b[1;32m     81\u001b[0m \u001b[39m    \u001b[39m\u001b[39m'''Dump the given MOs in Molden format'''\u001b[39;00m\n\u001b[0;32m---> 82\u001b[0m     \u001b[39mwith\u001b[39;00m \u001b[39mopen\u001b[39;49m(filename, \u001b[39m'\u001b[39;49m\u001b[39mw\u001b[39;49m\u001b[39m'\u001b[39;49m) \u001b[39mas\u001b[39;00m f:\n\u001b[1;32m     83\u001b[0m         header(mol, f, ignore_h)\n\u001b[1;32m     84\u001b[0m         orbital_coeff(mol, f, mo_coeff, spin, symm, ene, occ, ignore_h)\n",
      "\u001b[0;31mFileNotFoundError\u001b[0m: [Errno 2] No such file or directory: 'src/Ccmf.molden'"
     ]
    }
   ],
   "source": [
    "import numpy as np\n",
    "Ccmf = np.load(\"Ccmf.npy\")\n",
    "pyscf.tools.molden.from_mo(mf.mol, \"scr/Ccmf.molden\", Ccmf)\n"
   ]
  }
 ],
 "metadata": {
  "kernelspec": {
   "display_name": "Python 3 (ipykernel)",
   "language": "python",
   "name": "python3"
  },
  "language_info": {
   "codemirror_mode": {
    "name": "ipython",
    "version": 3
   },
   "file_extension": ".py",
   "mimetype": "text/x-python",
   "name": "python",
   "nbconvert_exporter": "python",
   "pygments_lexer": "ipython3",
   "version": "3.10.8"
  }
 },
 "nbformat": 4,
 "nbformat_minor": 5
}
