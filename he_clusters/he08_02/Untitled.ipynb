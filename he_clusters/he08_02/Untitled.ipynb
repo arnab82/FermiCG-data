{
 "cells": [
  {
   "cell_type": "code",
   "execution_count": 1,
   "id": "bbd9b846",
   "metadata": {},
   "outputs": [
    {
     "name": "stderr",
     "output_type": "stream",
     "text": [
      "\u001b[32m\u001b[1m  Activating\u001b[22m\u001b[39m environment at `~/code/FermiCG/Project.toml`\n"
     ]
    }
   ],
   "source": [
    "using Pkg; Pkg.activate(\"../../../FermiCG/\")\n",
    "using FermiCG\n",
    "using PyCall\n",
    "using Plots\n",
    "using LinearAlgebra\n",
    "using Printf"
   ]
  },
  {
   "cell_type": "code",
   "execution_count": 12,
   "id": "894838ae",
   "metadata": {},
   "outputs": [
    {
     "name": "stdout",
     "output_type": "stream",
     "text": [
      "converged SCF energy = -22.7370439057951\n",
      "size of Lowdin ortho AO's:(40, 40)\n"
     ]
    }
   ],
   "source": [
    "molecule = \"\n",
    "He         0.83846       -0.83846        0.83846\n",
    "He         0.83846       -0.83846       -0.83846\n",
    "He         0.83846        0.83846       -0.83846\n",
    "He         0.83846        0.83846        0.83846\n",
    "He        -0.83846        0.83846        0.83846\n",
    "He        -0.83846        0.83846       -0.83846\n",
    "He        -0.83846       -0.83846       -0.83846\n",
    "He        -0.83846       -0.83846        0.83846\n",
    "\"\n",
    "atoms = []\n",
    "for (li,line) in enumerate(split(rstrip(lstrip(molecule)), \"\\n\"))\n",
    "    l = split(line)\n",
    "    push!(atoms, Atom(li, l[1], parse.(Float64,l[2:4])))\n",
    "end\n",
    "\n",
    "#basis = \"augccpvdz\" #9 orbs on each He\n",
    "basis = \"cc-pvdz\" #5 orbs on each He\n",
    "#basis = \"cc-pvtz\" # 6 orbs on each He\n",
    "#basis = \"sto-3g\"\n",
    "#basis = \"631g**\" #5 each atom\n",
    "#basis = \"631g*\" #2 orbs each atom\n",
    "\n",
    "# Create FermiCG.Molecule type\n",
    "mol = Molecule(0,1,atoms,basis)\n",
    "\n",
    "pyscf = pyimport(\"pyscf\")\n",
    "pymol = pyscf.gto.Mole(atom=molecule, spin=0, charge=0, basis=basis)\n",
    "pymol.build()\n",
    "mf = pyscf.scf.RHF(pymol).run()\n",
    "s = mf.get_ovlp(pymol)\n",
    "\n",
    "lo = pyimport(\"pyscf.lo.orth\")\n",
    "lo_ao = lo.lowdin(s)\n",
    "println(\"size of Lowdin ortho AO's:\", size(lo_ao))\n"
   ]
  },
  {
   "cell_type": "code",
   "execution_count": null,
   "id": "89f086c2",
   "metadata": {},
   "outputs": [],
   "source": [
    "#write fci dump file from the modified mo coefficients\n",
    "tools = pyimport(\"pyscf.tools\")\n",
    "tools.fcidump.from_mo(pymol, \"fcidump.he08_02\", lo_ao)"
   ]
  }
 ],
 "metadata": {
  "kernelspec": {
   "display_name": "Julia 1.6.3",
   "language": "julia",
   "name": "julia-1.6"
  },
  "language_info": {
   "file_extension": ".jl",
   "mimetype": "application/julia",
   "name": "julia",
   "version": "1.6.3"
  }
 },
 "nbformat": 4,
 "nbformat_minor": 5
}
